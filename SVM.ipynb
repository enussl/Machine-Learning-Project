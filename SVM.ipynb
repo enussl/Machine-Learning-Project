{
 "cells": [
  {
   "cell_type": "markdown",
   "id": "cubic-action",
   "metadata": {},
   "source": [
    "## Support Vector Machines"
   ]
  },
  {
   "cell_type": "code",
   "execution_count": 16,
   "id": "unexpected-marble",
   "metadata": {},
   "outputs": [],
   "source": [
    "import pandas as pd\n",
    "import numpy as np\n",
    "import matplotlib.pyplot as plt\n",
    "import statsmodels.api as sm\n",
    "import datetime\n",
    "from sklearn.linear_model import LogisticRegression\n",
    "from sklearn.pipeline import Pipeline\n",
    "from sklearn.model_selection import GridSearchCV\n",
    "from sklearn.preprocessing import StandardScaler\n",
    "from sklearn.svm import SVC"
   ]
  },
  {
   "cell_type": "code",
   "execution_count": 17,
   "id": "integrated-affair",
   "metadata": {
    "scrolled": true
   },
   "outputs": [
    {
     "data": {
      "text/plain": [
       "((17506, 93), (17506, 1), (4340, 93), (4340, 1))"
      ]
     },
     "execution_count": 17,
     "metadata": {},
     "output_type": "execute_result"
    }
   ],
   "source": [
    "# get train and test sets (this will not be necessary in the final code)\n",
    "\n",
    "X_train = pd.read_csv(\"Data/X_train.csv\").iloc[:, 1:]\n",
    "Y_train = pd.read_csv(\"Data/Y_train.csv\").iloc[:, 1:]\n",
    "X_test = pd.read_csv(\"Data/X_test.csv\").iloc[:, 1:]\n",
    "Y_test = pd.read_csv(\"Data/Y_test.csv\").iloc[:, 1:]\n",
    "\n",
    "X_train.shape, Y_train.shape, X_test.shape, Y_test.shape"
   ]
  },
  {
   "cell_type": "code",
   "execution_count": 30,
   "id": "standing-square",
   "metadata": {},
   "outputs": [
    {
     "data": {
      "text/plain": [
       "strategy\n",
       "2.0         0.516250\n",
       "0.0         0.435183\n",
       "1.0         0.048567\n",
       "dtype: float64"
      ]
     },
     "execution_count": 30,
     "metadata": {},
     "output_type": "execute_result"
    }
   ],
   "source": [
    "Y = pd.concat([Y_train, Y_test])\n",
    "Y.value_counts(normalize = True)"
   ]
  },
  {
   "cell_type": "markdown",
   "id": "electrical-strength",
   "metadata": {},
   "source": [
    "### 1 Polynomial Kernel Function"
   ]
  },
  {
   "cell_type": "code",
   "execution_count": 19,
   "id": "existing-return",
   "metadata": {},
   "outputs": [],
   "source": [
    "# function\n",
    "\n",
    "def SVM_poly(X_train,Y_train):\n",
    "    '''\n",
    "    X_train: Training Set of X values\n",
    "    y_train: Training Set of Y values\n",
    "    '''\n",
    "    \n",
    "    # Create pipeline object with standard scaler and SVC estimator\n",
    "    pipe = Pipeline([('scaler', StandardScaler()), \n",
    "                     ('svm_poly', SVC(kernel='poly', random_state=0, max_iter=10000 ))])\n",
    "    # Define parameter grid\n",
    "    param_grid = {'svm_poly__C': [10], \n",
    "                  'svm_poly__degree': [20],\n",
    "                  'svm_poly__gamma': [0.01],\n",
    "                  'svm_poly__coef0':[0.1]} \n",
    "    # Run grid search\n",
    "    grid = GridSearchCV(pipe, param_grid=param_grid, cv=5, n_jobs=-1)\n",
    "    grid = grid.fit(X_train, Y_train)\n",
    "    return(grid)"
   ]
  },
  {
   "cell_type": "code",
   "execution_count": 20,
   "id": "touched-range",
   "metadata": {
    "scrolled": true
   },
   "outputs": [
    {
     "name": "stdout",
     "output_type": "stream",
     "text": [
      "2021-04-12 22:20:23.347280\n"
     ]
    },
    {
     "name": "stderr",
     "output_type": "stream",
     "text": [
      "C:\\Users\\Jan Beeler\\anaconda3\\lib\\site-packages\\sklearn\\utils\\validation.py:72: DataConversionWarning: A column-vector y was passed when a 1d array was expected. Please change the shape of y to (n_samples, ), for example using ravel().\n",
      "  return f(**kwargs)\n",
      "C:\\Users\\Jan Beeler\\anaconda3\\lib\\site-packages\\sklearn\\svm\\_base.py:246: ConvergenceWarning: Solver terminated early (max_iter=10000).  Consider pre-processing your data with StandardScaler or MinMaxScaler.\n",
      "  warnings.warn('Solver terminated early (max_iter=%i).'\n"
     ]
    },
    {
     "name": "stdout",
     "output_type": "stream",
     "text": [
      "Best CV accuracy: 0.29\n",
      "Test score:       0.69\n",
      "Best parameters: {'svm_poly__C': 10, 'svm_poly__coef0': 0.1, 'svm_poly__degree': 20, 'svm_poly__gamma': 0.01}\n",
      "2021-04-12 22:22:32.356191\n"
     ]
    }
   ],
   "source": [
    "# output\n",
    "\n",
    "print(datetime.datetime.now()) #computation time\n",
    "poly = SVM_poly(X_train,Y_train)\n",
    "print('Best CV accuracy: {:.2f}'.format(poly.best_score_))\n",
    "print('Test score:       {:.2f}'.format(poly.score(X_test, Y_test)))\n",
    "print('Best parameters: {}'.format(poly.best_params_))\n",
    "print(datetime.datetime.now())\n",
    "\n",
    "# Predict classes\n",
    "y_pred = poly.predict(X_test)\n",
    "\n",
    "\n",
    "# # Manual confusion matrix as pandas DataFrame\n",
    "# confm = pd.DataFrame({'Predicted': y_pred,\n",
    "#                       'True': y_test})\n",
    "# print('Polynomial Kernel Function yields the following confusion matrix:')\n",
    "# print(confm.groupby(['True','Predicted'], sort=True).size().unstack('Predicted')) "
   ]
  },
  {
   "cell_type": "markdown",
   "id": "proprietary-ebony",
   "metadata": {},
   "source": [
    "### 2 Radial Basis Function"
   ]
  },
  {
   "cell_type": "code",
   "execution_count": 62,
   "id": "metric-burst",
   "metadata": {},
   "outputs": [],
   "source": [
    "# function\n",
    "\n",
    "def SVM_rbf(X_train,Y_train):\n",
    "    '''\n",
    "    X_train: Training Set of X values\n",
    "    Y_train: Training Set of Y values\n",
    "    '''\n",
    "    \n",
    "    # Create pipeline object with standard scaler and SVC estimator\n",
    "    pipe = Pipeline([('scaler', StandardScaler()), \n",
    "                     ('svm_rbf', SVC(kernel='rbf', random_state=0, max_iter=10000))])\n",
    "    # Define parameter grid\n",
    "    param_grid = {'svm_rbf__C': [255, 260], \n",
    "                  'svm_rbf__gamma': [0.45]} \n",
    "    # Run grid search\n",
    "    grid = GridSearchCV(pipe, param_grid=param_grid, cv=5, n_jobs=-1)\n",
    "    grid = grid.fit(X_train, Y_train)\n",
    "    return(grid)"
   ]
  },
  {
   "cell_type": "code",
   "execution_count": 18,
   "id": "neither-offering",
   "metadata": {},
   "outputs": [
    {
     "name": "stdout",
     "output_type": "stream",
     "text": [
      "2021-04-12 17:15:29.579859\n"
     ]
    },
    {
     "name": "stderr",
     "output_type": "stream",
     "text": [
      "C:\\Users\\Jan Beeler\\anaconda3\\lib\\site-packages\\sklearn\\utils\\validation.py:72: DataConversionWarning: A column-vector y was passed when a 1d array was expected. Please change the shape of y to (n_samples, ), for example using ravel().\n",
      "  return f(**kwargs)\n",
      "C:\\Users\\Jan Beeler\\anaconda3\\lib\\site-packages\\sklearn\\svm\\_base.py:246: ConvergenceWarning: Solver terminated early (max_iter=10000).  Consider pre-processing your data with StandardScaler or MinMaxScaler.\n",
      "  warnings.warn('Solver terminated early (max_iter=%i).'\n"
     ]
    },
    {
     "name": "stdout",
     "output_type": "stream",
     "text": [
      "Best CV accuracy: 0.58\n",
      "Test score:       0.25\n",
      "Best parameters: {'svm_rbf__C': 260, 'svm_rbf__gamma': 0.45}\n",
      "2021-04-12 17:17:05.661179\n"
     ]
    }
   ],
   "source": [
    "#######Radial Basis Kernel Function(rbf)#######\n",
    "print(datetime.datetime.now()) #computation time\n",
    "rbf = SVM_rbf(X_train,Y_train)\n",
    "print('Best CV accuracy: {:.2f}'.format(rbf.best_score_))\n",
    "print('Test score:       {:.2f}'.format(rbf.score(X_test, Y_test)))\n",
    "print('Best parameters: {}'.format(rbf.best_params_))\n",
    "print(datetime.datetime.now()) #10min\n",
    "\n",
    "# Predict classes\n",
    "y_pred = rbf.predict(X_test)\n",
    "\n",
    "# # Manual confusion matrix as pandas DataFrame\n",
    "# confm = pd.DataFrame({'Predicted': y_pred,\n",
    "#                       'True': Y_test})\n",
    "# print('Radial Basis Function Kernel yields the following confusion matrix:')\n",
    "# print(confm.groupby(['True','Predicted'], sort=True).size().unstack('Predicted'))"
   ]
  },
  {
   "cell_type": "markdown",
   "id": "large-elite",
   "metadata": {},
   "source": [
    "### 3 Radial Basis Fuction (balanced)"
   ]
  },
  {
   "cell_type": "code",
   "execution_count": 52,
   "id": "earlier-witch",
   "metadata": {},
   "outputs": [],
   "source": [
    "# function\n",
    "\n",
    "def SVM_rbf_bal(X_train,Y_train):\n",
    "    '''\n",
    "    X_train: Training Set of X values\n",
    "    Y_train: Training Set of Y values\n",
    "    '''\n",
    "    \n",
    "    # Create pipeline object with standard scaler and SVC estimator\n",
    "    pipe = Pipeline([('scaler', StandardScaler()), \n",
    "                     ('svm_rbf', SVC(kernel='rbf', random_state=0, max_iter=1000, class_weight='balanced'))])\n",
    "\n",
    "    # Define parameter grid\n",
    "    param_grid = {'svm_rbf__C': [100,200,300], \n",
    "                  'svm_rbf__gamma': [0.25,0.3,0.35]} \n",
    "    # Run grid search\n",
    "    grid = GridSearchCV(pipe, param_grid=param_grid, cv=5, n_jobs=-1) #cv=5 yields same accuracy\n",
    "    grid = grid.fit(X_train, Y_train)\n",
    "    return(grid)"
   ]
  },
  {
   "cell_type": "code",
   "execution_count": 53,
   "id": "needed-petroleum",
   "metadata": {},
   "outputs": [
    {
     "name": "stdout",
     "output_type": "stream",
     "text": [
      "2021-04-12 15:44:12.645225\n"
     ]
    },
    {
     "name": "stderr",
     "output_type": "stream",
     "text": [
      "C:\\Users\\Jan Beeler\\anaconda3\\lib\\site-packages\\sklearn\\utils\\validation.py:72: DataConversionWarning: A column-vector y was passed when a 1d array was expected. Please change the shape of y to (n_samples, ), for example using ravel().\n",
      "  return f(**kwargs)\n",
      "C:\\Users\\Jan Beeler\\anaconda3\\lib\\site-packages\\sklearn\\svm\\_base.py:246: ConvergenceWarning: Solver terminated early (max_iter=1000).  Consider pre-processing your data with StandardScaler or MinMaxScaler.\n",
      "  warnings.warn('Solver terminated early (max_iter=%i).'\n"
     ]
    },
    {
     "name": "stdout",
     "output_type": "stream",
     "text": [
      "Best CV accuracy: 0.42\n",
      "Test score:       0.72\n",
      "Best parameters: {'svm_rbf__C': 300, 'svm_rbf__gamma': 0.25}\n",
      "2021-04-12 15:47:23.795244\n"
     ]
    }
   ],
   "source": [
    "#######Radial Basis Kernel Function(rbf) with Balanced class weights#######\n",
    "print(datetime.datetime.now()) #computation time\n",
    "rbf_bal = SVM_rbf_bal(X_train,Y_train)\n",
    "print('Best CV accuracy: {:.2f}'.format(rbf_bal.best_score_))\n",
    "print('Test score:       {:.2f}'.format(rbf_bal.score(X_test, Y_test)))\n",
    "print('Best parameters: {}'.format(rbf_bal.best_params_))\n",
    "print(datetime.datetime.now())#10min\n",
    "\n",
    "#looking at the confusion matrix of non-balanced rbf we see that the smaller classes don't get more wrong classification.\n",
    "#Therefore balancing the weights should not influence the outcome greatly which it doesn't\n",
    "\n",
    "\n",
    "# Predict classes\n",
    "y_pred = rbf_bal.predict(X_test)\n",
    "\n",
    "# # Manual confusion matrix as pandas DataFrame\n",
    "# confm = pd.DataFrame({'Predicted': y_pred,\n",
    "#                       'True': Y_test})\n",
    "# print('Radial Basis Function Kernel with Balanced class weights yields the following confusion matrix:')\n",
    "# print(confm.groupby(['True','Predicted'], sort=True).size().unstack('Predicted'))\n",
    "\n",
    "#According to \"https://stackoverflow.com/questions/21390570/scikit-learn-svc-coef0-parameter-range\" the Sigmoid function\n",
    "# does not fulfill the definition of a kernel as it is not positive semidefinite. Therefore we will not use it with Support\n",
    "#Vector Machines.      "
   ]
  },
  {
   "cell_type": "markdown",
   "id": "theoretical-bicycle",
   "metadata": {},
   "source": [
    "### 4 Sigmoid Function"
   ]
  },
  {
   "cell_type": "code",
   "execution_count": 58,
   "id": "broken-latter",
   "metadata": {},
   "outputs": [],
   "source": [
    "# function\n",
    "\n",
    "def SVM_sig(X_train,Y_train):\n",
    "    '''\n",
    "    X_train: Training Set of X values\n",
    "    Y_train: Training Set of Y values\n",
    "    '''\n",
    "    \n",
    "    # Create pipeline object with standard scaler and SVC estimator\n",
    "    pipe = Pipeline([('scaler', StandardScaler()), \n",
    "                     ('svm_sig', SVC(kernel='sigmoid', random_state=0, max_iter=1000))])\n",
    "\n",
    "    # Define parameter grid\n",
    "    param_grid = {'svm_sig__C': [100,200,300], \n",
    "                  'svm_sig__gamma': [0.25,0.3,0.35]} \n",
    "    # Run grid search\n",
    "    grid = GridSearchCV(pipe, param_grid=param_grid, cv=10, n_jobs=-1) #cv=5 yields same accuracy\n",
    "    grid = grid.fit(X_train, Y_train)\n",
    "    return(grid)"
   ]
  },
  {
   "cell_type": "code",
   "execution_count": 59,
   "id": "stupid-rental",
   "metadata": {},
   "outputs": [
    {
     "name": "stdout",
     "output_type": "stream",
     "text": [
      "2021-04-12 15:56:58.335954\n"
     ]
    },
    {
     "name": "stderr",
     "output_type": "stream",
     "text": [
      "C:\\Users\\Jan Beeler\\anaconda3\\lib\\site-packages\\sklearn\\utils\\validation.py:72: DataConversionWarning: A column-vector y was passed when a 1d array was expected. Please change the shape of y to (n_samples, ), for example using ravel().\n",
      "  return f(**kwargs)\n",
      "C:\\Users\\Jan Beeler\\anaconda3\\lib\\site-packages\\sklearn\\svm\\_base.py:246: ConvergenceWarning: Solver terminated early (max_iter=1000).  Consider pre-processing your data with StandardScaler or MinMaxScaler.\n",
      "  warnings.warn('Solver terminated early (max_iter=%i).'\n"
     ]
    },
    {
     "name": "stdout",
     "output_type": "stream",
     "text": [
      "Best CV accuracy: 0.54\n",
      "Test score:       0.34\n",
      "Best parameters: {'svm_sig__C': 200, 'svm_sig__gamma': 0.25}\n",
      "2021-04-12 16:00:58.453549\n"
     ]
    }
   ],
   "source": [
    "#######Sigmoid function#######\n",
    "print(datetime.datetime.now()) #computation time\n",
    "sig = SVM_sig(X_train,Y_train)\n",
    "print('Best CV accuracy: {:.2f}'.format(sig.best_score_))\n",
    "print('Test score:       {:.2f}'.format(sig.score(X_test, Y_test)))\n",
    "print('Best parameters: {}'.format(sig.best_params_))\n",
    "print(datetime.datetime.now())#10min\n",
    "\n",
    "\n",
    "# Predict classes\n",
    "y_pred = sig.predict(X_test)"
   ]
  },
  {
   "cell_type": "markdown",
   "id": "ongoing-narrow",
   "metadata": {},
   "source": [
    "## main (2020)"
   ]
  },
  {
   "cell_type": "code",
   "execution_count": null,
   "id": "funded-nigeria",
   "metadata": {},
   "outputs": [],
   "source": [
    "def SVM_poly(X_train,Y_train,param_grid):\n",
    "    '''\n",
    "    This function uses Support Vector Machines on X_train and Y_train with a Polynomial Kernel Function.\n",
    "    It uses Grid-Crossvalidation to find the best hyperparameters for the dataset\n",
    "    :param X_train: Training Set of X values\n",
    "    :param Y_train: Training Set of Y values(factorized)\n",
    "    :param param_grid: Grid of parameters to optimize over\n",
    "    :return: Cross-Validated optimal hyperparamer model fit\n",
    "    '''\n",
    "    \n",
    "    # Create pipeline object with standard scaler and SVC estimator\n",
    "    pipe = Pipeline([('scaler', StandardScaler()), \n",
    "                     ('svm_poly', SVC(kernel='poly', random_state=0, max_iter=100000))])\n",
    "\n",
    "    # Run grid search\n",
    "    grid = GridSearchCV(pipe, param_grid=param_grid, cv=5, n_jobs=-1)\n",
    "    grid = grid.fit(X_train, Y_train)\n",
    "    return(grid)"
   ]
  },
  {
   "cell_type": "code",
   "execution_count": null,
   "id": "functional-wellington",
   "metadata": {},
   "outputs": [],
   "source": [
    "def SVM_rbf(X_train,Y_train,param_grid):\n",
    "    '''\n",
    "    This function uses Support Vector Machines on X_train and Y_train with a Radial Basis Kernel Function(rbf).\n",
    "    It uses Grid-Crossvalidation to find the best hyperparameters for the dataset\n",
    "    :param X_train: Training Set of X values\n",
    "    :param Y_train: Training Set of Y values(factorized)\n",
    "    :param param_grid: Grid of parameters to optimize over\n",
    "    :return: Cross-Validated optimal hyperparamer model fit\n",
    "    '''\n",
    "\n",
    "    # Create pipeline object with standard scaler and SVC estimator\n",
    "    pipe = Pipeline([('scaler', StandardScaler()), \n",
    "                     ('svm_rbf', SVC(kernel='rbf', random_state=0, max_iter=100000))])\n",
    "    \n",
    "    # Run grid search\n",
    "    grid = GridSearchCV(pipe, param_grid=param_grid, cv=10, n_jobs=-1) #cv=5 yields same accuracy\n",
    "    grid = grid.fit(X_train, Y_train)\n",
    "    return(grid)"
   ]
  },
  {
   "cell_type": "code",
   "execution_count": null,
   "id": "matched-question",
   "metadata": {},
   "outputs": [],
   "source": [
    "def SVM_rbf_bal(X_train,Y_train,param_grid):\n",
    "    '''\n",
    "    This function uses Support Vector Machines on X_train and Y_train with a Radial Basis Kernel Function(rbf).\n",
    "    It uses Grid-Crossvalidation to find the best hyperparameters for the dataset where we use balanced class weights.\n",
    "    :param X_train: Training Set of X values\n",
    "    :param Y_train: Training Set of Y values(factorized)\n",
    "    :param param_grid: Grid of parameters to optimize over\n",
    "    :return: Cross-Validated optimal hyperparamer model fit\n",
    "    '''\n",
    "\n",
    "    # Create pipeline object with standard scaler and SVC estimator\n",
    "    pipe = Pipeline([('scaler', StandardScaler()), \n",
    "                     ('svm_rbf', SVC(kernel='rbf', random_state=0, max_iter=100000, class_weight='balanced'))])\n",
    "\n",
    "    # Run grid search\n",
    "    grid = GridSearchCV(pipe, param_grid=param_grid, cv=10, n_jobs=-1) #cv=5 yields same accuracy\n",
    "    grid = grid.fit(X_train, Y_train)\n",
    "    return(grid)"
   ]
  },
  {
   "cell_type": "code",
   "execution_count": null,
   "id": "light-junction",
   "metadata": {},
   "outputs": [],
   "source": [
    "#######Polynomial Kernel Function#######\n",
    "param_grid = {'svm_poly__C': [1000], \n",
    "              'svm_poly__degree': [4],\n",
    "              'svm_poly__gamma': [0.05],\n",
    "              'svm_poly__coef0':[0.6]}\n",
    "    \n",
    "print(datetime.datetime.now()) #computation time\n",
    "poly = functions.SVM_poly(X_train,Y_train, param_grid)\n",
    "print('Best CV accuracy: {:.4f}'.format(poly.best_score_))\n",
    "print('Test score:       {:.4f}'.format(poly.score(X_test, Y_test)))\n",
    "print('Best parameters: {}'.format(poly.best_params_))\n",
    "print(datetime.datetime.now()) \n",
    "\n",
    "# Predict classes\n",
    "y_pred2 = poly.predict(X_test)\n",
    "\n",
    "# Manual confusion matrix as pandas DataFrame\n",
    "confm = pd.DataFrame({'Predicted': y_pred2,\n",
    "                      'True': Y_test})\n",
    "print('Polynomial Kernel Function yields the following confusion matrix:')\n",
    "print(confm.groupby(['True','Predicted'], sort=True).size().unstack('Predicted')) \n",
    "\n",
    "\n",
    "#######Radial Basis Kernel Function(rbf)#######\n",
    "param_grid = {'svm_rbf__C': [150], \n",
    "              'svm_rbf__gamma': [0.3]} \n",
    "print(datetime.datetime.now()) #computation time\n",
    "rbf = functions.SVM_rbf(X_train,Y_train,param_grid)\n",
    "print('Best CV accuracy: {:.4f}'.format(rbf.best_score_))\n",
    "print('Test score:       {:.4f}'.format(rbf.score(X_test, Y_test)))\n",
    "print('Best parameters: {}'.format(rbf.best_params_))\n",
    "print(datetime.datetime.now())\n",
    "\n",
    "# Predict classes\n",
    "y_pred3 = rbf.predict(X_test)\n",
    "\n",
    "# Manual confusion matrix as pandas DataFrame\n",
    "confm = pd.DataFrame({'Predicted': y_pred3,\n",
    "                      'True': Y_test})\n",
    "print('Radial Basis Function Kernel yields the following confusion matrix:')\n",
    "print(confm.groupby(['True','Predicted'], sort=True).size().unstack('Predicted'))\n",
    "\n",
    "\n",
    "#######Radial Basis Kernel Function(rbf) with Balanced class weights#######\n",
    "param_grid = {'svm_rbf__C': [200], \n",
    "              'svm_rbf__gamma': [0.3]} \n",
    "print(datetime.datetime.now()) #computation time\n",
    "rbf_bal = functions.SVM_rbf_bal(X_train,Y_train,param_grid)\n",
    "print('Best CV accuracy: {:.4f}'.format(rbf_bal.best_score_))\n",
    "print('Test score:       {:.4f}'.format(rbf_bal.score(X_test, Y_test)))\n",
    "print('Best parameters: {}'.format(rbf_bal.best_params_))\n",
    "print(datetime.datetime.now())\n",
    "\n",
    "# Predict classes\n",
    "y_pred4 = rbf_bal.predict(X_test)\n",
    "\n",
    "# Manual confusion matrix as pandas DataFrame\n",
    "confm = pd.DataFrame({'Predicted': y_pred4,\n",
    "                      'True': Y_test})\n",
    "print('Radial Basis Function Kernel with Balanced class weights yields the following confusion matrix:')\n",
    "print(confm.groupby(['True','Predicted'], sort=True).size().unstack('Predicted'))\n"
   ]
  }
 ],
 "metadata": {
  "kernelspec": {
   "display_name": "Python 3",
   "language": "python",
   "name": "python3"
  },
  "language_info": {
   "codemirror_mode": {
    "name": "ipython",
    "version": 3
   },
   "file_extension": ".py",
   "mimetype": "text/x-python",
   "name": "python",
   "nbconvert_exporter": "python",
   "pygments_lexer": "ipython3",
   "version": "3.8.5"
  }
 },
 "nbformat": 4,
 "nbformat_minor": 5
}
