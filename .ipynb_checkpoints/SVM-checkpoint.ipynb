{
 "cells": [
  {
   "cell_type": "markdown",
   "id": "cubic-action",
   "metadata": {},
   "source": [
    "## Support Vector Machines"
   ]
  },
  {
   "cell_type": "code",
   "execution_count": 1,
   "id": "unexpected-marble",
   "metadata": {},
   "outputs": [],
   "source": [
    "import pandas as pd\n",
    "import numpy as np\n",
    "import matplotlib.pyplot as plt\n",
    "import statsmodels.api as sm\n",
    "import datetime\n",
    "from sklearn.linear_model import LogisticRegression\n",
    "from sklearn.pipeline import Pipeline\n",
    "from sklearn.model_selection import GridSearchCV\n",
    "from sklearn.preprocessing import StandardScaler\n",
    "from sklearn.model_selection import train_test_split\n",
    "from sklearn.svm import SVC"
   ]
  },
  {
   "cell_type": "code",
   "execution_count": 4,
   "id": "julian-logan",
   "metadata": {},
   "outputs": [
    {
     "data": {
      "text/plain": [
       "((17506, 92), (17506,), (4340, 92), (4340,))"
      ]
     },
     "execution_count": 4,
     "metadata": {},
     "output_type": "execute_result"
    }
   ],
   "source": [
    "X_train = pd.read_csv(\"Data/X_train.csv\", sep = \",\", index_col = 0).iloc[:, :-1]\n",
    "y_train = pd.read_csv(\"Data/Y_train.csv\", sep = \",\", index_col = 0)\n",
    "X_test = pd.read_csv(\"Data/X_test.csv\", sep = \",\", index_col = 0).iloc[:, :-1]\n",
    "y_test = pd.read_csv(\"Data/Y_test.csv\", sep = \",\", index_col = 0)\n",
    "\n",
    "y_train = np.ravel(y_train)\n",
    "y_test = np.ravel(y_test)\n",
    "\n",
    "X_train.shape, y_train.shape, X_test.shape, y_test.shape"
   ]
  },
  {
   "cell_type": "code",
   "execution_count": 8,
   "id": "brazilian-consideration",
   "metadata": {},
   "outputs": [],
   "source": [
    "## Undersample the Data to make it balanced\n",
    "from imblearn.over_sampling import RandomOverSampler\n",
    "\n",
    "# create the object.\n",
    "over_sampler = RandomOverSampler()\n",
    "\n",
    "# fit the object to the training data.\n",
    "x_train_over, y_train_over = over_sampler.fit_resample(X_train, y_train)\n",
    "\n",
    "y_train_over1 = pd.DataFrame(y_train_over, columns = [\"strategy\"])\n",
    "y_train_over1.strategy.value_counts()\n",
    "\n",
    "y_train_over1 = np.ravel(y_train_over1)"
   ]
  },
  {
   "cell_type": "code",
   "execution_count": null,
   "id": "integrated-affair",
   "metadata": {
    "scrolled": true
   },
   "outputs": [],
   "source": [
    "# # get train and test sets (this will not be necessary in the final code)\n",
    "\n",
    "# X_train = pd.read_csv(\"Data/X_train.csv\").iloc[:, 1:]\n",
    "# Y_train = pd.read_csv(\"Data/Y_train.csv\").iloc[:, 1:]\n",
    "# X_test = pd.read_csv(\"Data/X_test.csv\").iloc[:, 1:]\n",
    "# Y_test = pd.read_csv(\"Data/Y_test.csv\").iloc[:, 1:]\n",
    "\n",
    "# X_train.shape, Y_train.shape, X_test.shape, Y_test.shape\n",
    "\n",
    "# # other approach (test_train_split)\n",
    "# train = pd.read_csv(\"Data/Clean Test Set.csv\").iloc[:, 1:]\n",
    "# test = pd.read_csv(\"Data/Clean Training Set.csv\").iloc[:, 1:]\n",
    "# df = pd.concat([test, train])\n",
    "# # Assign feature columns to x and y\n",
    "# x = df.iloc[:, :-1]\n",
    "# y = df.iloc[:, -1:]\n",
    "# y = np.ravel(y)\n",
    "# # Train, test set split\n",
    "# x_train, x_test, y_train, y_test = train_test_split(x, y, \n",
    "#                                                     test_size=0.2, \n",
    "#                                                     random_state=0, \n",
    "#                                                     stratify=y)"
   ]
  },
  {
   "cell_type": "markdown",
   "id": "electrical-strength",
   "metadata": {},
   "source": [
    "### 1 Polynomial Kernel Function"
   ]
  },
  {
   "cell_type": "code",
   "execution_count": 9,
   "id": "existing-return",
   "metadata": {},
   "outputs": [],
   "source": [
    "# function\n",
    "\n",
    "def SVM_poly(X_train,Y_train):\n",
    "    '''\n",
    "    X_train: Training Set of X values\n",
    "    y_train: Training Set of Y values\n",
    "    '''\n",
    "    \n",
    "    # Create pipeline object with standard scaler and SVC estimator\n",
    "    pipe = Pipeline([('scaler', StandardScaler()), \n",
    "                     ('svm_poly', SVC(kernel='poly', random_state=0, max_iter=100 ))])\n",
    "    # Define parameter grid\n",
    "    param_grid = {'svm_poly__C': [10], \n",
    "                  'svm_poly__degree': [20],\n",
    "                  'svm_poly__gamma': [0.01],\n",
    "                  'svm_poly__coef0':[0.1]} \n",
    "    # Run grid search\n",
    "    grid = GridSearchCV(pipe, param_grid=param_grid, cv=5, n_jobs=-1)\n",
    "    grid = grid.fit(X_train, Y_train)\n",
    "    return(grid)"
   ]
  },
  {
   "cell_type": "code",
   "execution_count": 10,
   "id": "touched-range",
   "metadata": {
    "scrolled": true
   },
   "outputs": [
    {
     "name": "stdout",
     "output_type": "stream",
     "text": [
      "2021-04-13 17:44:33.579053\n"
     ]
    },
    {
     "name": "stderr",
     "output_type": "stream",
     "text": [
      "C:\\Users\\Jan Beeler\\anaconda3\\lib\\site-packages\\sklearn\\svm\\_base.py:255: ConvergenceWarning: Solver terminated early (max_iter=10000).  Consider pre-processing your data with StandardScaler or MinMaxScaler.\n",
      "  warnings.warn('Solver terminated early (max_iter=%i).'\n"
     ]
    },
    {
     "name": "stdout",
     "output_type": "stream",
     "text": [
      "Best CV accuracy: 0.32\n",
      "Test score:       0.04\n",
      "Best parameters: {'svm_poly__C': 10, 'svm_poly__coef0': 0.1, 'svm_poly__degree': 20, 'svm_poly__gamma': 0.01}\n",
      "2021-04-13 17:50:44.178947\n",
      "Polynomial Kernel Function yields the following confusion matrix:\n",
      "Predicted   0.0     1.0    2.0\n",
      "True                          \n",
      "0.0        15.0  2952.0  155.0\n",
      "1.0         NaN   141.0    7.0\n",
      "2.0        14.0  1017.0   39.0\n"
     ]
    }
   ],
   "source": [
    "# output\n",
    "print(datetime.datetime.now()) #computation time\n",
    "poly = SVM_poly(x_train_over,y_train_over1)\n",
    "print('Best CV accuracy: {:.2f}'.format(poly.best_score_))\n",
    "print('Test score:       {:.2f}'.format(poly.score(X_test, y_test)))\n",
    "print('Best parameters: {}'.format(poly.best_params_))\n",
    "print(datetime.datetime.now())\n",
    "\n",
    "# Predict classes\n",
    "y_pred = poly.predict(X_test)\n",
    "\n",
    "\n",
    "\n",
    "# Manual confusion matrix as pandas DataFrame\n",
    "confm = pd.DataFrame({'Predicted': y_pred,\n",
    "                      'True': y_test})\n",
    "print('Polynomial Kernel Function yields the following confusion matrix:')\n",
    "print(confm.groupby(['True','Predicted'], sort=True).size().unstack('Predicted')) "
   ]
  },
  {
   "cell_type": "markdown",
   "id": "proprietary-ebony",
   "metadata": {},
   "source": [
    "### 2 Radial Basis Function"
   ]
  },
  {
   "cell_type": "code",
   "execution_count": 11,
   "id": "metric-burst",
   "metadata": {},
   "outputs": [],
   "source": [
    "# function\n",
    "\n",
    "def SVM_rbf(X_train,Y_train):\n",
    "    '''\n",
    "    X_train: Training Set of X values\n",
    "    Y_train: Training Set of Y values\n",
    "    '''\n",
    "    \n",
    "    # Create pipeline object with standard scaler and SVC estimator\n",
    "    pipe = Pipeline([('scaler', StandardScaler()), \n",
    "                     ('svm_rbf', SVC(kernel='rbf', random_state=0, max_iter=100))])\n",
    "    # Define parameter grid\n",
    "    param_grid = {'svm_rbf__C': [255], \n",
    "                  'svm_rbf__gamma': [0.45]} \n",
    "    # Run grid search\n",
    "    grid = GridSearchCV(pipe, param_grid=param_grid, cv=5, n_jobs=-1)\n",
    "    grid = grid.fit(X_train, Y_train)\n",
    "    return(grid)"
   ]
  },
  {
   "cell_type": "code",
   "execution_count": 15,
   "id": "neither-offering",
   "metadata": {},
   "outputs": [
    {
     "name": "stdout",
     "output_type": "stream",
     "text": [
      "2021-04-13 17:53:49.667097\n"
     ]
    },
    {
     "name": "stderr",
     "output_type": "stream",
     "text": [
      "C:\\Users\\Jan Beeler\\anaconda3\\lib\\site-packages\\sklearn\\svm\\_base.py:255: ConvergenceWarning: Solver terminated early (max_iter=100).  Consider pre-processing your data with StandardScaler or MinMaxScaler.\n",
      "  warnings.warn('Solver terminated early (max_iter=%i).'\n"
     ]
    },
    {
     "name": "stdout",
     "output_type": "stream",
     "text": [
      "Best CV accuracy: 0.32\n",
      "Test score:       0.20\n",
      "Best parameters: {'svm_rbf__C': 255, 'svm_rbf__gamma': 0.45}\n",
      "2021-04-13 17:53:54.252837\n",
      "Radial Basis Function Kernel yields the following confusion matrix:\n",
      "Predicted  1.0   2.0\n",
      "True                \n",
      "0.0        621  2501\n",
      "1.0         22   126\n",
      "2.0        232   838\n"
     ]
    }
   ],
   "source": [
    "#######Radial Basis Kernel Function(rbf)#######\n",
    "print(datetime.datetime.now()) #computation time\n",
    "rbf = SVM_rbf(x_train_over,y_train_over1)\n",
    "print('Best CV accuracy: {:.2f}'.format(rbf.best_score_))\n",
    "print('Test score:       {:.2f}'.format(rbf.score(X_test, y_test)))\n",
    "print('Best parameters: {}'.format(rbf.best_params_))\n",
    "print(datetime.datetime.now()) #10min\n",
    "\n",
    "# Predict classes\n",
    "y_pred = rbf.predict(X_test)\n",
    "\n",
    "# Manual confusion matrix as pandas DataFrame\n",
    "confm = pd.DataFrame({'Predicted': y_pred,\n",
    "                      'True': y_test})\n",
    "print('Radial Basis Function Kernel yields the following confusion matrix:')\n",
    "print(confm.groupby(['True','Predicted'], sort=True).size().unstack('Predicted'))"
   ]
  },
  {
   "cell_type": "markdown",
   "id": "large-elite",
   "metadata": {},
   "source": [
    "### 3 Radial Basis Fuction (balanced)"
   ]
  },
  {
   "cell_type": "code",
   "execution_count": 16,
   "id": "earlier-witch",
   "metadata": {},
   "outputs": [],
   "source": [
    "# function\n",
    "\n",
    "def SVM_rbf_bal(X_train,Y_train):\n",
    "    '''\n",
    "    X_train: Training Set of X values\n",
    "    Y_train: Training Set of Y values\n",
    "    '''\n",
    "    \n",
    "    # Create pipeline object with standard scaler and SVC estimator\n",
    "    pipe = Pipeline([('scaler', StandardScaler()), \n",
    "                     ('svm_rbf', SVC(kernel='rbf', random_state=0, max_iter=100, class_weight='balanced'))])\n",
    "\n",
    "    # Define parameter grid\n",
    "    param_grid = {'svm_rbf__C': [200], \n",
    "                  'svm_rbf__gamma': [0.35]} \n",
    "    # Run grid search\n",
    "    grid = GridSearchCV(pipe, param_grid=param_grid, cv=5, n_jobs=-1) #cv=5 yields same accuracy\n",
    "    grid = grid.fit(X_train, Y_train)\n",
    "    return(grid)"
   ]
  },
  {
   "cell_type": "code",
   "execution_count": 17,
   "id": "needed-petroleum",
   "metadata": {},
   "outputs": [
    {
     "name": "stdout",
     "output_type": "stream",
     "text": [
      "2021-04-13 17:55:01.347948\n"
     ]
    },
    {
     "name": "stderr",
     "output_type": "stream",
     "text": [
      "C:\\Users\\Jan Beeler\\anaconda3\\lib\\site-packages\\sklearn\\svm\\_base.py:255: ConvergenceWarning: Solver terminated early (max_iter=100).  Consider pre-processing your data with StandardScaler or MinMaxScaler.\n",
      "  warnings.warn('Solver terminated early (max_iter=%i).'\n"
     ]
    },
    {
     "name": "stdout",
     "output_type": "stream",
     "text": [
      "Best CV accuracy: 0.34\n",
      "Test score:       0.34\n",
      "Best parameters: {'svm_rbf__C': 200, 'svm_rbf__gamma': 0.35}\n",
      "2021-04-13 17:55:05.791005\n",
      "Radial Basis Function Kernel with Balanced class weights yields the following confusion matrix:\n",
      "Predicted  0.0   2.0\n",
      "True                \n",
      "0.0        621  2501\n",
      "1.0         22   126\n",
      "2.0        232   838\n"
     ]
    }
   ],
   "source": [
    "#######Radial Basis Kernel Function(rbf) with Balanced class weights#######\n",
    "print(datetime.datetime.now()) #computation time\n",
    "rbf_bal = SVM_rbf_bal(x_train_over,y_train_over1)\n",
    "print('Best CV accuracy: {:.2f}'.format(rbf_bal.best_score_))\n",
    "print('Test score:       {:.2f}'.format(rbf_bal.score(X_test, y_test)))\n",
    "print('Best parameters: {}'.format(rbf_bal.best_params_))\n",
    "print(datetime.datetime.now())#10min\n",
    "\n",
    "#looking at the confusion matrix of non-balanced rbf we see that the smaller classes don't get more wrong classification.\n",
    "#Therefore balancing the weights should not influence the outcome greatly which it doesn't\n",
    "\n",
    "\n",
    "# Predict classes\n",
    "y_pred = rbf_bal.predict(X_test)\n",
    "\n",
    "# Manual confusion matrix as pandas DataFrame\n",
    "confm = pd.DataFrame({'Predicted': y_pred,\n",
    "                      'True': y_test})\n",
    "print('Radial Basis Function Kernel with Balanced class weights yields the following confusion matrix:')\n",
    "print(confm.groupby(['True','Predicted'], sort=True).size().unstack('Predicted'))\n",
    "\n",
    "# According to \"https://stackoverflow.com/questions/21390570/scikit-learn-svc-coef0-parameter-range\" the Sigmoid function\n",
    "# does not fulfill the definition of a kernel as it is not positive semidefinite. Therefore we will not use it with Support\n",
    "# Vector Machines.      "
   ]
  },
  {
   "cell_type": "markdown",
   "id": "theoretical-bicycle",
   "metadata": {},
   "source": [
    "### 4 Sigmoid Function"
   ]
  },
  {
   "cell_type": "code",
   "execution_count": 34,
   "id": "broken-latter",
   "metadata": {},
   "outputs": [],
   "source": [
    "# function\n",
    "\n",
    "def SVM_sig(X_train,Y_train):\n",
    "    '''\n",
    "    X_train: Training Set of X values\n",
    "    Y_train: Training Set of Y values\n",
    "    '''\n",
    "    \n",
    "    # Create pipeline object with standard scaler and SVC estimator\n",
    "    pipe = Pipeline([('scaler', StandardScaler()), \n",
    "                     ('svm_sig', SVC(kernel='sigmoid', random_state=0, max_iter=100))])\n",
    "\n",
    "    # Define parameter grid\n",
    "    param_grid = {'svm_sig__C': [70], \n",
    "                  'svm_sig__gamma': [0.1]} \n",
    "    # Run grid search\n",
    "    grid = GridSearchCV(pipe, param_grid=param_grid, cv=10, n_jobs=-1) #cv=5 yields same accuracy\n",
    "    grid = grid.fit(X_train, Y_train)\n",
    "    return(grid)"
   ]
  },
  {
   "cell_type": "code",
   "execution_count": 35,
   "id": "stupid-rental",
   "metadata": {},
   "outputs": [
    {
     "name": "stdout",
     "output_type": "stream",
     "text": [
      "2021-04-13 18:05:31.243019\n"
     ]
    },
    {
     "name": "stderr",
     "output_type": "stream",
     "text": [
      "C:\\Users\\Jan Beeler\\anaconda3\\lib\\site-packages\\sklearn\\svm\\_base.py:255: ConvergenceWarning: Solver terminated early (max_iter=100).  Consider pre-processing your data with StandardScaler or MinMaxScaler.\n",
      "  warnings.warn('Solver terminated early (max_iter=%i).'\n"
     ]
    },
    {
     "name": "stdout",
     "output_type": "stream",
     "text": [
      "Best CV accuracy: 0.35\n",
      "Test score:       0.63\n",
      "Best parameters: {'svm_sig__C': 70, 'svm_sig__gamma': 0.1}\n",
      "2021-04-13 18:05:39.356972\n",
      "Sigmoid Function Kernel yields the following confusion matrix:\n",
      "Predicted   0.0  1.0  2.0\n",
      "True                     \n",
      "0.0        2521   85  516\n",
      "1.0         129    3   16\n",
      "2.0         856   14  200\n"
     ]
    }
   ],
   "source": [
    "#######Sigmoid function#######\n",
    "print(datetime.datetime.now()) #computation time\n",
    "sig = SVM_sig(x_train_over,y_train_over1)\n",
    "print('Best CV accuracy: {:.2f}'.format(sig.best_score_))\n",
    "print('Test score:       {:.2f}'.format(sig.score(X_test, y_test)))\n",
    "print('Best parameters: {}'.format(sig.best_params_))\n",
    "print(datetime.datetime.now())#10min\n",
    "\n",
    "\n",
    "# Predict classes\n",
    "y_pred = sig.predict(X_test)\n",
    "\n",
    "# Manual confusion matrix as pandas DataFrame\n",
    "confm = pd.DataFrame({'Predicted': y_pred,\n",
    "                      'True': y_test})\n",
    "print('Sigmoid Function Kernel yields the following confusion matrix:')\n",
    "print(confm.groupby(['True','Predicted'], sort=True).size().unstack('Predicted'))\n"
   ]
  },
  {
   "cell_type": "code",
   "execution_count": null,
   "id": "nuclear-serve",
   "metadata": {},
   "outputs": [],
   "source": []
  }
 ],
 "metadata": {
  "kernelspec": {
   "display_name": "Python 3",
   "language": "python",
   "name": "python3"
  },
  "language_info": {
   "codemirror_mode": {
    "name": "ipython",
    "version": 3
   },
   "file_extension": ".py",
   "mimetype": "text/x-python",
   "name": "python",
   "nbconvert_exporter": "python",
   "pygments_lexer": "ipython3",
   "version": "3.8.5"
  }
 },
 "nbformat": 4,
 "nbformat_minor": 5
}
