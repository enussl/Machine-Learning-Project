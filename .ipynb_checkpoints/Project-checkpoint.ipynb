{
 "cells": [
  {
   "cell_type": "markdown",
   "metadata": {},
   "source": [
    "# TO DO\n",
    "\n",
    "## 0 values\n",
    "## resampling bc imbalance\n",
    "## performance\n",
    "## slides and report\n",
    "## finalize feature selection\n",
    "## other stuff...?\n"
   ]
  },
  {
   "cell_type": "code",
   "execution_count": 1,
   "metadata": {},
   "outputs": [],
   "source": [
    "import pandas as pd\n",
    "import numpy as np\n",
    "import matplotlib.pyplot as plt\n",
    "from sklearn.pipeline import Pipeline, make_pipeline\n",
    "from sklearn.model_selection import GridSearchCV, cross_validate, cross_val_score, StratifiedKFold\n",
    "from sklearn.preprocessing import StandardScaler\n",
    "from sklearn.preprocessing import OneHotEncoder\n",
    "from sklearn.metrics import accuracy_score, confusion_matrix, classification_report, f1_score\n",
    "from sklearn.svm import SVC\n",
    "from sklearn.ensemble import RandomForestClassifier\n",
    "from sklearn.model_selection import train_test_split\n",
    "from sklearn.feature_selection import SelectFromModel\n",
    "from sklearn.decomposition import PCA\n",
    "import statsmodels.api as sm\n",
    "from statsmodels.imputation.mice import MICE, MICEData\n",
    "from matplotlib import pyplot\n",
    "from sklearn.model_selection import KFold\n",
    "from sklearn.preprocessing import LabelEncoder\n",
    "from sklearn import preprocessing\n",
    "from sklearn.metrics import confusion_matrix\n",
    "from sklearn import metrics\n",
    "from sklearn.linear_model import LinearRegression, LogisticRegression\n",
    "from sklearn.impute import SimpleImputer\n",
    "import time\n",
    "import datetime\n",
    "from collections import Counter\n",
    "from sklearn.pipeline import Pipeline\n",
    "from sklearn.model_selection import GridSearchCV\n",
    "from sklearn.preprocessing import StandardScaler\n",
    "from sklearn.impute import SimpleImputer\n",
    "from sklearn import metrics\n",
    "from sklearn.svm import SVC\n",
    "from sklearn.ensemble import RandomForestClassifier\n",
    "from sklearn.model_selection import train_test_split\n",
    "from sklearn.linear_model import LogisticRegression\n",
    "from sklearn.experimental import enable_iterative_imputer \n",
    "from sklearn.impute import IterativeImputer\n",
    "from sklearn.neural_network import MLPClassifier\n",
    "import itertools"
   ]
  },
  {
   "cell_type": "markdown",
   "metadata": {},
   "source": [
    "# 1 Dataset Preparation\n",
    " \n",
    "(i) loading and adding important variables\\\n",
    "(ii) rough overview\\\n",
    "(iii) missing values (remove columns, impute)\\\n",
    "(iv) outliers\\\n",
    "(v) data types\\\n",
    "(vi) standardize\\\n",
    "(vii) export cleaned dataset to csv for visual overview\n"
   ]
  },
  {
   "cell_type": "markdown",
   "metadata": {},
   "source": [
    "## 1.1 combine datasets, append new variables, create target variable, ..."
   ]
  },
  {
   "cell_type": "code",
   "execution_count": 2,
   "metadata": {},
   "outputs": [
    {
     "data": {
      "text/plain": [
       "Revenue                 float64\n",
       "Revenue Growth          float64\n",
       "Cost of Revenue         float64\n",
       "Gross Profit            float64\n",
       "R&D Expenses            float64\n",
       "                         ...   \n",
       "R&D Expense Growth      float64\n",
       "SG&A Expenses Growth    float64\n",
       "Sector                   object\n",
       "2015 PRICE VAR [%]      float64\n",
       "Class                     int64\n",
       "Length: 224, dtype: object"
      ]
     },
     "execution_count": 2,
     "metadata": {},
     "output_type": "execute_result"
    }
   ],
   "source": [
    "#index_col=0 to make the companies/ the dates the indizes\n",
    "sp=pd.read_csv(\"Data/SP500.csv\",sep=\",\",index_col=0)\n",
    "\n",
    "# GDP and Inflation less important than thought\n",
    "# gdp = pd.read_csv(\"Data/GDP USA.csv\", sep=\",\", index_col=0)\n",
    "# infl = pd.read_csv(\"Data/INFL.csv\",sep=\",\", index_col=0)\n",
    "\n",
    "df14=pd.read_csv(\"Data/2014_Financial_Data.csv\",sep=\",\",index_col=0)\n",
    "df15=pd.read_csv(\"Data/2015_Financial_Data.csv\",sep=\",\",index_col=0)\n",
    "df16=pd.read_csv(\"Data/2016_Financial_Data.csv\",sep=\",\",index_col=0)\n",
    "df17=pd.read_csv(\"Data/2017_Financial_Data.csv\",sep=\",\",index_col=0)\n",
    "df18=pd.read_csv(\"Data/2018_Financial_Data.csv\",sep=\",\",index_col=0)\n",
    "\n",
    "#first overview\n",
    "df14.describe(include=\"all\")\n",
    "df14.dtypes"
   ]
  },
  {
   "cell_type": "code",
   "execution_count": 3,
   "metadata": {},
   "outputs": [],
   "source": [
    "#making one column with price var (neater if done here)\n",
    "#no need for pipeline\n",
    "\n",
    "df14.rename(columns={\"2015 PRICE VAR [%]\": \"PRICE_VAR\"},inplace=True)\n",
    "df15.rename(columns={\"2016 PRICE VAR [%]\": \"PRICE_VAR\"},inplace=True)\n",
    "df16.rename(columns={\"2017 PRICE VAR [%]\": \"PRICE_VAR\"},inplace=True)\n",
    "df17.rename(columns={\"2018 PRICE VAR [%]\": \"PRICE_VAR\"},inplace=True)\n",
    "df18.rename(columns={\"2019 PRICE VAR [%]\": \"PRICE_VAR\"},inplace=True)"
   ]
  },
  {
   "cell_type": "code",
   "execution_count": 4,
   "metadata": {},
   "outputs": [],
   "source": [
    "# create variables for gdp and inflation per year\n",
    "# GDP and Inflation less important than thought\n",
    "# gdp14 = gdp.iloc[1][0] * 1000000000\n",
    "# gdp15 = gdp.iloc[2][0] * 1000000000\n",
    "# gdp16 = gdp.iloc[3][0] * 1000000000\n",
    "# gdp17 = gdp.iloc[4][0] * 1000000000\n",
    "# gdp18 = gdp.iloc[5][0] * 1000000000\n",
    "\n",
    "# infl14 = infl.iloc[0][0]\n",
    "# infl15 = infl.iloc[1][0]\n",
    "# infl16 = infl.iloc[2][0]\n",
    "# infl17 = infl.iloc[3][0]\n",
    "# infl18 = infl.iloc[4][0]"
   ]
  },
  {
   "cell_type": "code",
   "execution_count": 5,
   "metadata": {},
   "outputs": [],
   "source": [
    "# #adding the variables to the dataset\n",
    "# # GDP and Inflation less important than thought\n",
    "# all_data=[df14,df15,df16,df17,df18]\n",
    "# all_gdp=[gdp14,gdp15,gdp16,gdp17,gdp18]\n",
    "# all_infl=[infl14,infl15,infl16,infl17,infl18]\n",
    "\n",
    "# for data, gdp in zip(all_data, all_gdp):\n",
    "#     data[\"GDP\"] = gdp\n",
    "\n",
    "# for data, infl in zip(all_data, all_infl):\n",
    "#     data[\"Inflation\"] = infl"
   ]
  },
  {
   "cell_type": "code",
   "execution_count": 4,
   "metadata": {},
   "outputs": [],
   "source": [
    "#creating year variable\n",
    "\n",
    "all_data=[df14,df15,df16,df17,df18]\n",
    "\n",
    "count=0\n",
    "for data in all_data:\n",
    "    data[\"year\"]=2014+count\n",
    "    count+=1\n",
    "    \n",
    "#converting to cat. variable\n",
    "\n",
    "for data in all_data:\n",
    "        data[\"year\"]=data.year.astype(\"category\")"
   ]
  },
  {
   "cell_type": "code",
   "execution_count": 5,
   "metadata": {},
   "outputs": [],
   "source": [
    "#creating the values with the perf. of the s&p to compare the companies to\n",
    "sp14_performance=sp.loc[\"2014-12-31\"].item()\n",
    "sp15_performance=sp.loc[\"2015-12-31\"].item()\n",
    "sp16_performance=sp.loc[\"2016-12-30\"].item()\n",
    "sp17_performance=sp.loc[\"2017-12-29\"].item()\n",
    "sp18_performance=sp.loc[\"2018-12-31\"].item()\n",
    "#list with the performances\n",
    "sp_performances=[sp14_performance,sp15_performance,sp16_performance,sp17_performance,sp18_performance]"
   ]
  },
  {
   "cell_type": "code",
   "execution_count": 6,
   "metadata": {},
   "outputs": [],
   "source": [
    "#using encoder to make the categorical vars as that will still work when using the pipeline\n",
    "from sklearn import preprocessing as pp\n",
    "from sklearn.pipeline import Pipeline, FeatureUnion\n",
    "\n",
    "all_data=[df14,df15,df16,df17,df18]\n",
    "\n",
    "le=pp.LabelEncoder()\n",
    "\n",
    "for data in all_data:\n",
    "    data[\"Sector\"]=le.fit_transform(data[\"Sector\"])"
   ]
  },
  {
   "cell_type": "code",
   "execution_count": 7,
   "metadata": {},
   "outputs": [],
   "source": [
    "#for just one column (problem with length)\n",
    "\n",
    "all_data = [df14, df15, df16, df17, df18]\n",
    "sp_performances\n",
    "\n",
    "#preallocation for faster results\n",
    "for data in all_data:\n",
    "    data[\"strategy\"]=\"\"\n",
    "    \n",
    "\n",
    "for data, value in zip(all_data,sp_performances):\n",
    "        data[\"strategy\"] = np.where((data[\"PRICE_VAR\"].subtract(value)) > 2.5, [\"buy\"], data[\"strategy\"])\n",
    "        data[\"strategy\"] = np.where((data[\"PRICE_VAR\"].subtract(value) <= 2.5) &\n",
    "                            (data[\"PRICE_VAR\"].subtract(value) >= -2.5), [\"hold\"], data[\"strategy\"])\n",
    "        data[\"strategy\"] = np.where((data[\"PRICE_VAR\"].subtract(value)) < -2.5, [\"sell\"], data[\"strategy\"])\n",
    "\n",
    "#making it a categorical variable where 2 is sell, 1 is hold and 0 is buy\n",
    "\n",
    "le=pp.LabelEncoder()\n",
    "\n",
    "for data in all_data:\n",
    "        data[\"strategy\"]=le.fit_transform(data[\"strategy\"])"
   ]
  },
  {
   "cell_type": "markdown",
   "metadata": {},
   "source": [
    "## 1.2 Missing Values\n",
    "\n",
    "\n",
    "what should one do with zeros in the dataset? Are they imputed by iterative imputing?"
   ]
  },
  {
   "cell_type": "code",
   "execution_count": 8,
   "metadata": {},
   "outputs": [
    {
     "name": "stdout",
     "output_type": "stream",
     "text": [
      "New NUMBER OF VARIABLES: 206\n"
     ]
    }
   ],
   "source": [
    "df=pd.concat([df14,df15,df16,df17,df18])\n",
    "\n",
    "bad_col=df.isnull().sum()>0.3*len(df)\n",
    "\n",
    "all_data=[df14,df15,df16,df17,df18]\n",
    "\n",
    "for data in all_data:\n",
    "    NA=data.columns[bad_col]\n",
    "    data.drop(NA,axis=1,inplace=True)\n",
    "    \n",
    "print(f'New NUMBER OF VARIABLES: {df14.shape[1]}')"
   ]
  },
  {
   "cell_type": "markdown",
   "metadata": {},
   "source": [
    "What do we do with the zeros?"
   ]
  },
  {
   "cell_type": "markdown",
   "metadata": {},
   "source": [
    "## 1.3 Balancedness"
   ]
  },
  {
   "cell_type": "code",
   "execution_count": 9,
   "metadata": {},
   "outputs": [
    {
     "name": "stderr",
     "output_type": "stream",
     "text": [
      "C:\\Users\\frede\\anaconda3\\lib\\site-packages\\seaborn\\_decorators.py:36: FutureWarning: Pass the following variables as keyword args: x, y. From version 0.12, the only valid positional argument will be `data`, and passing other arguments without an explicit keyword will result in an error or misinterpretation.\n",
      "  warnings.warn(\n"
     ]
    },
    {
     "data": {
      "image/png": "[encoded data removed]",
      "text/plain": [
       "<Figure size 432x288 with 1 Axes>"
      ]
     },
     "metadata": {
      "needs_background": "light"
     },
     "output_type": "display_data"
    }
   ],
   "source": [
    "#going on a journey to search for outliers/check balancedness of the dataset\n",
    "import seaborn as sns\n",
    "\n",
    "strat=df[\"strategy\"].value_counts()\n",
    "\n",
    "# Plot class distribution\n",
    "\n",
    "sns.barplot(np.arange(len(strat)), strat)\n",
    "plt.title('Strategy count', fontsize=20)\n",
    "plt.show()\n",
    "\n",
    "#pretty imbalanced so we resample later"
   ]
  },
  {
   "cell_type": "markdown",
   "metadata": {},
   "source": [
    "## 1.4 Outliers"
   ]
  },
  {
   "cell_type": "code",
   "execution_count": 10,
   "metadata": {},
   "outputs": [
    {
     "name": "stdout",
     "output_type": "stream",
     "text": [
      "36 STOCKS with more than 200% gain.\n",
      "51 STOCKS with more than 200% gain.\n",
      "80 STOCKS with more than 200% gain.\n",
      "12 STOCKS with more than 200% gain.\n",
      "52 STOCKS with more than 200% gain.\n"
     ]
    }
   ],
   "source": [
    "#outliers (saw that in the description)\n",
    "#no problem if we do not have the same observations; so i`ll do it yearwise\n",
    "\n",
    "# Get stocks that increased more than 200%\n",
    "\n",
    "all_data=[df14,df15,df16,df17,df18]\n",
    "\n",
    "gain = 200\n",
    "\n",
    "for data in all_data:\n",
    "\n",
    "    top_gainers = data[data[\"PRICE_VAR\"] >= gain]\n",
    "    top_gainers = top_gainers[\"PRICE_VAR\"].sort_values(ascending=False)\n",
    "    print(f\"{len(top_gainers)} STOCKS with more than {gain}% gain.\")\n",
    "    data = data.drop(top_gainers.index,inplace=True)\n",
    "\n",
    "#we have 231 stocks with more than 200% gain\n",
    "\n",
    "#we do not want these stocks as we think that they are \"faked\" (or typos etc.)"
   ]
  },
  {
   "cell_type": "code",
   "execution_count": 11,
   "metadata": {},
   "outputs": [
    {
     "data": {
      "image/png": "[encoded data removed]",
      "text/plain": [
       "<Figure size 2160x360 with 1 Axes>"
      ]
     },
     "metadata": {
      "needs_background": "light"
     },
     "output_type": "display_data"
    },
    {
     "data": {
      "image/png": "[encoded data removed]",
      "text/plain": [
       "<Figure size 2160x360 with 1 Axes>"
      ]
     },
     "metadata": {
      "needs_background": "light"
     },
     "output_type": "display_data"
    },
    {
     "name": "stderr",
     "output_type": "stream",
     "text": [
      "ERROR:root:Internal Python error in the inspect module.\n",
      "Below is the traceback from this internal error.\n",
      "\n"
     ]
    },
    {
     "name": "stdout",
     "output_type": "stream",
     "text": [
      "Traceback (most recent call last):\n",
      "  File \"C:\\Users\\frede\\anaconda3\\lib\\site-packages\\IPython\\core\\interactiveshell.py\", line 3418, in run_code\n",
      "    exec(code_obj, self.user_global_ns, self.user_ns)\n",
      "  File \"<ipython-input-11-6473f85f59e1>\", line 17, in <module>\n",
      "    plt.show()\n",
      "  File \"C:\\Users\\frede\\anaconda3\\lib\\site-packages\\matplotlib\\pyplot.py\", line 353, in show\n",
      "    return _backend_mod.show(*args, **kwargs)\n",
      "  File \"C:\\Users\\frede\\anaconda3\\lib\\site-packages\\ipykernel\\pylab\\backend_inline.py\", line 41, in show\n",
      "    display(\n",
      "  File \"C:\\Users\\frede\\anaconda3\\lib\\site-packages\\IPython\\core\\display.py\", line 313, in display\n",
      "    format_dict, md_dict = format(obj, include=include, exclude=exclude)\n",
      "  File \"C:\\Users\\frede\\anaconda3\\lib\\site-packages\\IPython\\core\\formatters.py\", line 180, in format\n",
      "    data = formatter(obj)\n",
      "  File \"<decorator-gen-2>\", line 2, in __call__\n",
      "  File \"C:\\Users\\frede\\anaconda3\\lib\\site-packages\\IPython\\core\\formatters.py\", line 224, in catch_format_error\n",
      "    r = method(self, *args, **kwargs)\n",
      "  File \"C:\\Users\\frede\\anaconda3\\lib\\site-packages\\IPython\\core\\formatters.py\", line 341, in __call__\n",
      "    return printer(obj)\n",
      "  File \"C:\\Users\\frede\\anaconda3\\lib\\site-packages\\IPython\\core\\pylabtools.py\", line 248, in <lambda>\n",
      "    png_formatter.for_type(Figure, lambda fig: print_figure(fig, 'png', **kwargs))\n",
      "  File \"C:\\Users\\frede\\anaconda3\\lib\\site-packages\\IPython\\core\\pylabtools.py\", line 132, in print_figure\n",
      "    fig.canvas.print_figure(bytes_io, **kw)\n",
      "  File \"C:\\Users\\frede\\anaconda3\\lib\\site-packages\\matplotlib\\backend_bases.py\", line 2193, in print_figure\n",
      "    self.figure.draw(renderer)\n",
      "  File \"C:\\Users\\frede\\anaconda3\\lib\\site-packages\\matplotlib\\artist.py\", line 41, in draw_wrapper\n",
      "    return draw(artist, renderer, *args, **kwargs)\n",
      "  File \"C:\\Users\\frede\\anaconda3\\lib\\site-packages\\matplotlib\\figure.py\", line 1863, in draw\n",
      "    mimage._draw_list_compositing_images(\n",
      "  File \"C:\\Users\\frede\\anaconda3\\lib\\site-packages\\matplotlib\\image.py\", line 131, in _draw_list_compositing_images\n",
      "    a.draw(renderer)\n",
      "  File \"C:\\Users\\frede\\anaconda3\\lib\\site-packages\\matplotlib\\artist.py\", line 41, in draw_wrapper\n",
      "    return draw(artist, renderer, *args, **kwargs)\n",
      "  File \"C:\\Users\\frede\\anaconda3\\lib\\site-packages\\matplotlib\\cbook\\deprecation.py\", line 411, in wrapper\n",
      "    return func(*inner_args, **inner_kwargs)\n",
      "  File \"C:\\Users\\frede\\anaconda3\\lib\\site-packages\\matplotlib\\axes\\_base.py\", line 2747, in draw\n",
      "    mimage._draw_list_compositing_images(renderer, self, artists)\n",
      "  File \"C:\\Users\\frede\\anaconda3\\lib\\site-packages\\matplotlib\\image.py\", line 131, in _draw_list_compositing_images\n",
      "    a.draw(renderer)\n",
      "  File \"C:\\Users\\frede\\anaconda3\\lib\\site-packages\\matplotlib\\artist.py\", line 41, in draw_wrapper\n",
      "    return draw(artist, renderer, *args, **kwargs)\n",
      "  File \"C:\\Users\\frede\\anaconda3\\lib\\site-packages\\matplotlib\\axis.py\", line 1176, in draw\n",
      "    self._update_label_position(renderer)\n",
      "  File \"C:\\Users\\frede\\anaconda3\\lib\\site-packages\\matplotlib\\axis.py\", line 2058, in _update_label_position\n",
      "    bboxes, bboxes2 = self._get_tick_boxes_siblings(renderer=renderer)\n",
      "  File \"C:\\Users\\frede\\anaconda3\\lib\\site-packages\\matplotlib\\axis.py\", line 2043, in _get_tick_boxes_siblings\n",
      "    tlb, tlb2 = axx.xaxis._get_tick_bboxes(ticks_to_draw, renderer)\n",
      "  File \"C:\\Users\\frede\\anaconda3\\lib\\site-packages\\matplotlib\\axis.py\", line 1091, in _get_tick_bboxes\n",
      "    return ([tick.label1.get_window_extent(renderer)\n",
      "  File \"C:\\Users\\frede\\anaconda3\\lib\\site-packages\\matplotlib\\axis.py\", line 1091, in <listcomp>\n",
      "    return ([tick.label1.get_window_extent(renderer)\n",
      "  File \"C:\\Users\\frede\\anaconda3\\lib\\site-packages\\matplotlib\\text.py\", line 900, in get_window_extent\n",
      "    bbox, info, descent = self._get_layout(self._renderer)\n",
      "  File \"C:\\Users\\frede\\anaconda3\\lib\\site-packages\\matplotlib\\text.py\", line 293, in _get_layout\n",
      "    w, h, d = renderer.get_text_width_height_descent(\n",
      "  File \"C:\\Users\\frede\\anaconda3\\lib\\site-packages\\matplotlib\\backends\\backend_agg.py\", line 237, in get_text_width_height_descent\n",
      "    font = self._get_agg_font(prop)\n",
      "  File \"C:\\Users\\frede\\anaconda3\\lib\\site-packages\\matplotlib\\backends\\backend_agg.py\", line 273, in _get_agg_font\n",
      "    font = get_font(fname)\n",
      "  File \"C:\\Users\\frede\\anaconda3\\lib\\site-packages\\matplotlib\\font_manager.py\", line 1414, in get_font\n",
      "    filename = os.path.realpath(filename)\n",
      "  File \"C:\\Users\\frede\\anaconda3\\lib\\ntpath.py\", line 664, in realpath\n",
      "    if _getfinalpathname(spath) == path:\n",
      "KeyboardInterrupt\n",
      "\n",
      "During handling of the above exception, another exception occurred:\n",
      "\n",
      "Traceback (most recent call last):\n",
      "  File \"C:\\Users\\frede\\anaconda3\\lib\\site-packages\\IPython\\core\\interactiveshell.py\", line 2045, in showtraceback\n",
      "    stb = value._render_traceback_()\n",
      "AttributeError: 'KeyboardInterrupt' object has no attribute '_render_traceback_'\n",
      "\n",
      "During handling of the above exception, another exception occurred:\n",
      "\n",
      "Traceback (most recent call last):\n",
      "  File \"C:\\Users\\frede\\anaconda3\\lib\\site-packages\\IPython\\core\\ultratb.py\", line 1170, in get_records\n",
      "    return _fixed_getinnerframes(etb, number_of_lines_of_context, tb_offset)\n",
      "  File \"C:\\Users\\frede\\anaconda3\\lib\\site-packages\\IPython\\core\\ultratb.py\", line 316, in wrapped\n",
      "    return f(*args, **kwargs)\n",
      "  File \"C:\\Users\\frede\\anaconda3\\lib\\site-packages\\IPython\\core\\ultratb.py\", line 350, in _fixed_getinnerframes\n",
      "    records = fix_frame_records_filenames(inspect.getinnerframes(etb, context))\n",
      "  File \"C:\\Users\\frede\\anaconda3\\lib\\inspect.py\", line 1503, in getinnerframes\n",
      "    frameinfo = (tb.tb_frame,) + getframeinfo(tb, context)\n",
      "  File \"C:\\Users\\frede\\anaconda3\\lib\\inspect.py\", line 1461, in getframeinfo\n",
      "    filename = getsourcefile(frame) or getfile(frame)\n",
      "  File \"C:\\Users\\frede\\anaconda3\\lib\\inspect.py\", line 708, in getsourcefile\n",
      "    if getattr(getmodule(object, filename), '__loader__', None) is not None:\n",
      "  File \"C:\\Users\\frede\\anaconda3\\lib\\inspect.py\", line 751, in getmodule\n",
      "    f = getabsfile(module)\n",
      "  File \"C:\\Users\\frede\\anaconda3\\lib\\inspect.py\", line 720, in getabsfile\n",
      "    _filename = getsourcefile(object) or getfile(object)\n",
      "  File \"C:\\Users\\frede\\anaconda3\\lib\\inspect.py\", line 705, in getsourcefile\n",
      "    if os.path.exists(filename):\n",
      "  File \"C:\\Users\\frede\\anaconda3\\lib\\genericpath.py\", line 19, in exists\n",
      "    os.stat(path)\n",
      "KeyboardInterrupt\n"
     ]
    },
    {
     "ename": "TypeError",
     "evalue": "object of type 'NoneType' has no len()",
     "output_type": "error",
     "traceback": [
      "\u001b[1;31m---------------------------------------------------------------------------\u001b[0m",
      "\u001b[1;31mKeyboardInterrupt\u001b[0m                         Traceback (most recent call last)",
      "    \u001b[1;31m[... skipping hidden 1 frame]\u001b[0m\n",
      "\u001b[1;32m<ipython-input-11-6473f85f59e1>\u001b[0m in \u001b[0;36m<module>\u001b[1;34m\u001b[0m\n\u001b[0;32m     16\u001b[0m         \u001b[0mplt\u001b[0m\u001b[1;33m.\u001b[0m\u001b[0mtitle\u001b[0m\u001b[1;33m(\u001b[0m\u001b[0msector\u001b[0m\u001b[1;33m,\u001b[0m\u001b[0mfontsize\u001b[0m\u001b[1;33m=\u001b[0m\u001b[1;36m20\u001b[0m\u001b[1;33m)\u001b[0m\u001b[1;33m\u001b[0m\u001b[1;33m\u001b[0m\u001b[0m\n\u001b[1;32m---> 17\u001b[1;33m         \u001b[0mplt\u001b[0m\u001b[1;33m.\u001b[0m\u001b[0mshow\u001b[0m\u001b[1;33m(\u001b[0m\u001b[1;33m)\u001b[0m\u001b[1;33m\u001b[0m\u001b[1;33m\u001b[0m\u001b[0m\n\u001b[0m",
      "\u001b[1;32m~\\anaconda3\\lib\\site-packages\\matplotlib\\pyplot.py\u001b[0m in \u001b[0;36mshow\u001b[1;34m(*args, **kwargs)\u001b[0m\n\u001b[0;32m    352\u001b[0m     \u001b[0m_warn_if_gui_out_of_main_thread\u001b[0m\u001b[1;33m(\u001b[0m\u001b[1;33m)\u001b[0m\u001b[1;33m\u001b[0m\u001b[1;33m\u001b[0m\u001b[0m\n\u001b[1;32m--> 353\u001b[1;33m     \u001b[1;32mreturn\u001b[0m \u001b[0m_backend_mod\u001b[0m\u001b[1;33m.\u001b[0m\u001b[0mshow\u001b[0m\u001b[1;33m(\u001b[0m\u001b[1;33m*\u001b[0m\u001b[0margs\u001b[0m\u001b[1;33m,\u001b[0m \u001b[1;33m**\u001b[0m\u001b[0mkwargs\u001b[0m\u001b[1;33m)\u001b[0m\u001b[1;33m\u001b[0m\u001b[1;33m\u001b[0m\u001b[0m\n\u001b[0m\u001b[0;32m    354\u001b[0m \u001b[1;33m\u001b[0m\u001b[0m\n",
      "\u001b[1;32m~\\anaconda3\\lib\\site-packages\\ipykernel\\pylab\\backend_inline.py\u001b[0m in \u001b[0;36mshow\u001b[1;34m(close, block)\u001b[0m\n\u001b[0;32m     40\u001b[0m         \u001b[1;32mfor\u001b[0m \u001b[0mfigure_manager\u001b[0m \u001b[1;32min\u001b[0m \u001b[0mGcf\u001b[0m\u001b[1;33m.\u001b[0m\u001b[0mget_all_fig_managers\u001b[0m\u001b[1;33m(\u001b[0m\u001b[1;33m)\u001b[0m\u001b[1;33m:\u001b[0m\u001b[1;33m\u001b[0m\u001b[1;33m\u001b[0m\u001b[0m\n\u001b[1;32m---> 41\u001b[1;33m             display(\n\u001b[0m\u001b[0;32m     42\u001b[0m                 \u001b[0mfigure_manager\u001b[0m\u001b[1;33m.\u001b[0m\u001b[0mcanvas\u001b[0m\u001b[1;33m.\u001b[0m\u001b[0mfigure\u001b[0m\u001b[1;33m,\u001b[0m\u001b[1;33m\u001b[0m\u001b[1;33m\u001b[0m\u001b[0m\n",
      "\u001b[1;32m~\\anaconda3\\lib\\site-packages\\IPython\\core\\display.py\u001b[0m in \u001b[0;36mdisplay\u001b[1;34m(include, exclude, metadata, transient, display_id, *objs, **kwargs)\u001b[0m\n\u001b[0;32m    312\u001b[0m         \u001b[1;32melse\u001b[0m\u001b[1;33m:\u001b[0m\u001b[1;33m\u001b[0m\u001b[1;33m\u001b[0m\u001b[0m\n\u001b[1;32m--> 313\u001b[1;33m             \u001b[0mformat_dict\u001b[0m\u001b[1;33m,\u001b[0m \u001b[0mmd_dict\u001b[0m \u001b[1;33m=\u001b[0m \u001b[0mformat\u001b[0m\u001b[1;33m(\u001b[0m\u001b[0mobj\u001b[0m\u001b[1;33m,\u001b[0m \u001b[0minclude\u001b[0m\u001b[1;33m=\u001b[0m\u001b[0minclude\u001b[0m\u001b[1;33m,\u001b[0m \u001b[0mexclude\u001b[0m\u001b[1;33m=\u001b[0m\u001b[0mexclude\u001b[0m\u001b[1;33m)\u001b[0m\u001b[1;33m\u001b[0m\u001b[1;33m\u001b[0m\u001b[0m\n\u001b[0m\u001b[0;32m    314\u001b[0m             \u001b[1;32mif\u001b[0m \u001b[1;32mnot\u001b[0m \u001b[0mformat_dict\u001b[0m\u001b[1;33m:\u001b[0m\u001b[1;33m\u001b[0m\u001b[1;33m\u001b[0m\u001b[0m\n",
      "\u001b[1;32m~\\anaconda3\\lib\\site-packages\\IPython\\core\\formatters.py\u001b[0m in \u001b[0;36mformat\u001b[1;34m(self, obj, include, exclude)\u001b[0m\n\u001b[0;32m    179\u001b[0m             \u001b[1;32mtry\u001b[0m\u001b[1;33m:\u001b[0m\u001b[1;33m\u001b[0m\u001b[1;33m\u001b[0m\u001b[0m\n\u001b[1;32m--> 180\u001b[1;33m                 \u001b[0mdata\u001b[0m \u001b[1;33m=\u001b[0m \u001b[0mformatter\u001b[0m\u001b[1;33m(\u001b[0m\u001b[0mobj\u001b[0m\u001b[1;33m)\u001b[0m\u001b[1;33m\u001b[0m\u001b[1;33m\u001b[0m\u001b[0m\n\u001b[0m\u001b[0;32m    181\u001b[0m             \u001b[1;32mexcept\u001b[0m\u001b[1;33m:\u001b[0m\u001b[1;33m\u001b[0m\u001b[1;33m\u001b[0m\u001b[0m\n",
      "\u001b[1;32m<decorator-gen-2>\u001b[0m in \u001b[0;36m__call__\u001b[1;34m(self, obj)\u001b[0m\n",
      "\u001b[1;32m~\\anaconda3\\lib\\site-packages\\IPython\\core\\formatters.py\u001b[0m in \u001b[0;36mcatch_format_error\u001b[1;34m(method, self, *args, **kwargs)\u001b[0m\n\u001b[0;32m    223\u001b[0m     \u001b[1;32mtry\u001b[0m\u001b[1;33m:\u001b[0m\u001b[1;33m\u001b[0m\u001b[1;33m\u001b[0m\u001b[0m\n\u001b[1;32m--> 224\u001b[1;33m         \u001b[0mr\u001b[0m \u001b[1;33m=\u001b[0m \u001b[0mmethod\u001b[0m\u001b[1;33m(\u001b[0m\u001b[0mself\u001b[0m\u001b[1;33m,\u001b[0m \u001b[1;33m*\u001b[0m\u001b[0margs\u001b[0m\u001b[1;33m,\u001b[0m \u001b[1;33m**\u001b[0m\u001b[0mkwargs\u001b[0m\u001b[1;33m)\u001b[0m\u001b[1;33m\u001b[0m\u001b[1;33m\u001b[0m\u001b[0m\n\u001b[0m\u001b[0;32m    225\u001b[0m     \u001b[1;32mexcept\u001b[0m \u001b[0mNotImplementedError\u001b[0m\u001b[1;33m:\u001b[0m\u001b[1;33m\u001b[0m\u001b[1;33m\u001b[0m\u001b[0m\n",
      "\u001b[1;32m~\\anaconda3\\lib\\site-packages\\IPython\\core\\formatters.py\u001b[0m in \u001b[0;36m__call__\u001b[1;34m(self, obj)\u001b[0m\n\u001b[0;32m    340\u001b[0m             \u001b[1;32melse\u001b[0m\u001b[1;33m:\u001b[0m\u001b[1;33m\u001b[0m\u001b[1;33m\u001b[0m\u001b[0m\n\u001b[1;32m--> 341\u001b[1;33m                 \u001b[1;32mreturn\u001b[0m \u001b[0mprinter\u001b[0m\u001b[1;33m(\u001b[0m\u001b[0mobj\u001b[0m\u001b[1;33m)\u001b[0m\u001b[1;33m\u001b[0m\u001b[1;33m\u001b[0m\u001b[0m\n\u001b[0m\u001b[0;32m    342\u001b[0m             \u001b[1;31m# Finally look for special method names\u001b[0m\u001b[1;33m\u001b[0m\u001b[1;33m\u001b[0m\u001b[1;33m\u001b[0m\u001b[0m\n",
      "\u001b[1;32m~\\anaconda3\\lib\\site-packages\\IPython\\core\\pylabtools.py\u001b[0m in \u001b[0;36m<lambda>\u001b[1;34m(fig)\u001b[0m\n\u001b[0;32m    247\u001b[0m     \u001b[1;32mif\u001b[0m \u001b[1;34m'png'\u001b[0m \u001b[1;32min\u001b[0m \u001b[0mformats\u001b[0m\u001b[1;33m:\u001b[0m\u001b[1;33m\u001b[0m\u001b[1;33m\u001b[0m\u001b[0m\n\u001b[1;32m--> 248\u001b[1;33m         \u001b[0mpng_formatter\u001b[0m\u001b[1;33m.\u001b[0m\u001b[0mfor_type\u001b[0m\u001b[1;33m(\u001b[0m\u001b[0mFigure\u001b[0m\u001b[1;33m,\u001b[0m \u001b[1;32mlambda\u001b[0m \u001b[0mfig\u001b[0m\u001b[1;33m:\u001b[0m \u001b[0mprint_figure\u001b[0m\u001b[1;33m(\u001b[0m\u001b[0mfig\u001b[0m\u001b[1;33m,\u001b[0m \u001b[1;34m'png'\u001b[0m\u001b[1;33m,\u001b[0m \u001b[1;33m**\u001b[0m\u001b[0mkwargs\u001b[0m\u001b[1;33m)\u001b[0m\u001b[1;33m)\u001b[0m\u001b[1;33m\u001b[0m\u001b[1;33m\u001b[0m\u001b[0m\n\u001b[0m\u001b[0;32m    249\u001b[0m     \u001b[1;32mif\u001b[0m \u001b[1;34m'retina'\u001b[0m \u001b[1;32min\u001b[0m \u001b[0mformats\u001b[0m \u001b[1;32mor\u001b[0m \u001b[1;34m'png2x'\u001b[0m \u001b[1;32min\u001b[0m \u001b[0mformats\u001b[0m\u001b[1;33m:\u001b[0m\u001b[1;33m\u001b[0m\u001b[1;33m\u001b[0m\u001b[0m\n",
      "\u001b[1;32m~\\anaconda3\\lib\\site-packages\\IPython\\core\\pylabtools.py\u001b[0m in \u001b[0;36mprint_figure\u001b[1;34m(fig, fmt, bbox_inches, **kwargs)\u001b[0m\n\u001b[0;32m    131\u001b[0m \u001b[1;33m\u001b[0m\u001b[0m\n\u001b[1;32m--> 132\u001b[1;33m     \u001b[0mfig\u001b[0m\u001b[1;33m.\u001b[0m\u001b[0mcanvas\u001b[0m\u001b[1;33m.\u001b[0m\u001b[0mprint_figure\u001b[0m\u001b[1;33m(\u001b[0m\u001b[0mbytes_io\u001b[0m\u001b[1;33m,\u001b[0m \u001b[1;33m**\u001b[0m\u001b[0mkw\u001b[0m\u001b[1;33m)\u001b[0m\u001b[1;33m\u001b[0m\u001b[1;33m\u001b[0m\u001b[0m\n\u001b[0m\u001b[0;32m    133\u001b[0m     \u001b[0mdata\u001b[0m \u001b[1;33m=\u001b[0m \u001b[0mbytes_io\u001b[0m\u001b[1;33m.\u001b[0m\u001b[0mgetvalue\u001b[0m\u001b[1;33m(\u001b[0m\u001b[1;33m)\u001b[0m\u001b[1;33m\u001b[0m\u001b[1;33m\u001b[0m\u001b[0m\n",
      "\u001b[1;32m~\\anaconda3\\lib\\site-packages\\matplotlib\\backend_bases.py\u001b[0m in \u001b[0;36mprint_figure\u001b[1;34m(self, filename, dpi, facecolor, edgecolor, orientation, format, bbox_inches, pad_inches, bbox_extra_artists, backend, **kwargs)\u001b[0m\n\u001b[0;32m   2192\u001b[0m                     \u001b[1;32mwith\u001b[0m \u001b[0mctx\u001b[0m\u001b[1;33m:\u001b[0m\u001b[1;33m\u001b[0m\u001b[1;33m\u001b[0m\u001b[0m\n\u001b[1;32m-> 2193\u001b[1;33m                         \u001b[0mself\u001b[0m\u001b[1;33m.\u001b[0m\u001b[0mfigure\u001b[0m\u001b[1;33m.\u001b[0m\u001b[0mdraw\u001b[0m\u001b[1;33m(\u001b[0m\u001b[0mrenderer\u001b[0m\u001b[1;33m)\u001b[0m\u001b[1;33m\u001b[0m\u001b[1;33m\u001b[0m\u001b[0m\n\u001b[0m\u001b[0;32m   2194\u001b[0m \u001b[1;33m\u001b[0m\u001b[0m\n",
      "\u001b[1;32m~\\anaconda3\\lib\\site-packages\\matplotlib\\artist.py\u001b[0m in \u001b[0;36mdraw_wrapper\u001b[1;34m(artist, renderer, *args, **kwargs)\u001b[0m\n\u001b[0;32m     40\u001b[0m \u001b[1;33m\u001b[0m\u001b[0m\n\u001b[1;32m---> 41\u001b[1;33m             \u001b[1;32mreturn\u001b[0m \u001b[0mdraw\u001b[0m\u001b[1;33m(\u001b[0m\u001b[0martist\u001b[0m\u001b[1;33m,\u001b[0m \u001b[0mrenderer\u001b[0m\u001b[1;33m,\u001b[0m \u001b[1;33m*\u001b[0m\u001b[0margs\u001b[0m\u001b[1;33m,\u001b[0m \u001b[1;33m**\u001b[0m\u001b[0mkwargs\u001b[0m\u001b[1;33m)\u001b[0m\u001b[1;33m\u001b[0m\u001b[1;33m\u001b[0m\u001b[0m\n\u001b[0m\u001b[0;32m     42\u001b[0m         \u001b[1;32mfinally\u001b[0m\u001b[1;33m:\u001b[0m\u001b[1;33m\u001b[0m\u001b[1;33m\u001b[0m\u001b[0m\n",
      "\u001b[1;32m~\\anaconda3\\lib\\site-packages\\matplotlib\\figure.py\u001b[0m in \u001b[0;36mdraw\u001b[1;34m(self, renderer)\u001b[0m\n\u001b[0;32m   1862\u001b[0m             \u001b[0mself\u001b[0m\u001b[1;33m.\u001b[0m\u001b[0mpatch\u001b[0m\u001b[1;33m.\u001b[0m\u001b[0mdraw\u001b[0m\u001b[1;33m(\u001b[0m\u001b[0mrenderer\u001b[0m\u001b[1;33m)\u001b[0m\u001b[1;33m\u001b[0m\u001b[1;33m\u001b[0m\u001b[0m\n\u001b[1;32m-> 1863\u001b[1;33m             mimage._draw_list_compositing_images(\n\u001b[0m\u001b[0;32m   1864\u001b[0m                 renderer, self, artists, self.suppressComposite)\n",
      "\u001b[1;32m~\\anaconda3\\lib\\site-packages\\matplotlib\\image.py\u001b[0m in \u001b[0;36m_draw_list_compositing_images\u001b[1;34m(renderer, parent, artists, suppress_composite)\u001b[0m\n\u001b[0;32m    130\u001b[0m         \u001b[1;32mfor\u001b[0m \u001b[0ma\u001b[0m \u001b[1;32min\u001b[0m \u001b[0martists\u001b[0m\u001b[1;33m:\u001b[0m\u001b[1;33m\u001b[0m\u001b[1;33m\u001b[0m\u001b[0m\n\u001b[1;32m--> 131\u001b[1;33m             \u001b[0ma\u001b[0m\u001b[1;33m.\u001b[0m\u001b[0mdraw\u001b[0m\u001b[1;33m(\u001b[0m\u001b[0mrenderer\u001b[0m\u001b[1;33m)\u001b[0m\u001b[1;33m\u001b[0m\u001b[1;33m\u001b[0m\u001b[0m\n\u001b[0m\u001b[0;32m    132\u001b[0m     \u001b[1;32melse\u001b[0m\u001b[1;33m:\u001b[0m\u001b[1;33m\u001b[0m\u001b[1;33m\u001b[0m\u001b[0m\n",
      "\u001b[1;32m~\\anaconda3\\lib\\site-packages\\matplotlib\\artist.py\u001b[0m in \u001b[0;36mdraw_wrapper\u001b[1;34m(artist, renderer, *args, **kwargs)\u001b[0m\n\u001b[0;32m     40\u001b[0m \u001b[1;33m\u001b[0m\u001b[0m\n\u001b[1;32m---> 41\u001b[1;33m             \u001b[1;32mreturn\u001b[0m \u001b[0mdraw\u001b[0m\u001b[1;33m(\u001b[0m\u001b[0martist\u001b[0m\u001b[1;33m,\u001b[0m \u001b[0mrenderer\u001b[0m\u001b[1;33m,\u001b[0m \u001b[1;33m*\u001b[0m\u001b[0margs\u001b[0m\u001b[1;33m,\u001b[0m \u001b[1;33m**\u001b[0m\u001b[0mkwargs\u001b[0m\u001b[1;33m)\u001b[0m\u001b[1;33m\u001b[0m\u001b[1;33m\u001b[0m\u001b[0m\n\u001b[0m\u001b[0;32m     42\u001b[0m         \u001b[1;32mfinally\u001b[0m\u001b[1;33m:\u001b[0m\u001b[1;33m\u001b[0m\u001b[1;33m\u001b[0m\u001b[0m\n",
      "\u001b[1;32m~\\anaconda3\\lib\\site-packages\\matplotlib\\cbook\\deprecation.py\u001b[0m in \u001b[0;36mwrapper\u001b[1;34m(*inner_args, **inner_kwargs)\u001b[0m\n\u001b[0;32m    410\u001b[0m                 **kwargs)\n\u001b[1;32m--> 411\u001b[1;33m         \u001b[1;32mreturn\u001b[0m \u001b[0mfunc\u001b[0m\u001b[1;33m(\u001b[0m\u001b[1;33m*\u001b[0m\u001b[0minner_args\u001b[0m\u001b[1;33m,\u001b[0m \u001b[1;33m**\u001b[0m\u001b[0minner_kwargs\u001b[0m\u001b[1;33m)\u001b[0m\u001b[1;33m\u001b[0m\u001b[1;33m\u001b[0m\u001b[0m\n\u001b[0m\u001b[0;32m    412\u001b[0m \u001b[1;33m\u001b[0m\u001b[0m\n",
      "\u001b[1;32m~\\anaconda3\\lib\\site-packages\\matplotlib\\axes\\_base.py\u001b[0m in \u001b[0;36mdraw\u001b[1;34m(self, renderer, inframe)\u001b[0m\n\u001b[0;32m   2746\u001b[0m \u001b[1;33m\u001b[0m\u001b[0m\n\u001b[1;32m-> 2747\u001b[1;33m         \u001b[0mmimage\u001b[0m\u001b[1;33m.\u001b[0m\u001b[0m_draw_list_compositing_images\u001b[0m\u001b[1;33m(\u001b[0m\u001b[0mrenderer\u001b[0m\u001b[1;33m,\u001b[0m \u001b[0mself\u001b[0m\u001b[1;33m,\u001b[0m \u001b[0martists\u001b[0m\u001b[1;33m)\u001b[0m\u001b[1;33m\u001b[0m\u001b[1;33m\u001b[0m\u001b[0m\n\u001b[0m\u001b[0;32m   2748\u001b[0m \u001b[1;33m\u001b[0m\u001b[0m\n",
      "\u001b[1;32m~\\anaconda3\\lib\\site-packages\\matplotlib\\image.py\u001b[0m in \u001b[0;36m_draw_list_compositing_images\u001b[1;34m(renderer, parent, artists, suppress_composite)\u001b[0m\n\u001b[0;32m    130\u001b[0m         \u001b[1;32mfor\u001b[0m \u001b[0ma\u001b[0m \u001b[1;32min\u001b[0m \u001b[0martists\u001b[0m\u001b[1;33m:\u001b[0m\u001b[1;33m\u001b[0m\u001b[1;33m\u001b[0m\u001b[0m\n\u001b[1;32m--> 131\u001b[1;33m             \u001b[0ma\u001b[0m\u001b[1;33m.\u001b[0m\u001b[0mdraw\u001b[0m\u001b[1;33m(\u001b[0m\u001b[0mrenderer\u001b[0m\u001b[1;33m)\u001b[0m\u001b[1;33m\u001b[0m\u001b[1;33m\u001b[0m\u001b[0m\n\u001b[0m\u001b[0;32m    132\u001b[0m     \u001b[1;32melse\u001b[0m\u001b[1;33m:\u001b[0m\u001b[1;33m\u001b[0m\u001b[1;33m\u001b[0m\u001b[0m\n",
      "\u001b[1;32m~\\anaconda3\\lib\\site-packages\\matplotlib\\artist.py\u001b[0m in \u001b[0;36mdraw_wrapper\u001b[1;34m(artist, renderer, *args, **kwargs)\u001b[0m\n\u001b[0;32m     40\u001b[0m \u001b[1;33m\u001b[0m\u001b[0m\n\u001b[1;32m---> 41\u001b[1;33m             \u001b[1;32mreturn\u001b[0m \u001b[0mdraw\u001b[0m\u001b[1;33m(\u001b[0m\u001b[0martist\u001b[0m\u001b[1;33m,\u001b[0m \u001b[0mrenderer\u001b[0m\u001b[1;33m,\u001b[0m \u001b[1;33m*\u001b[0m\u001b[0margs\u001b[0m\u001b[1;33m,\u001b[0m \u001b[1;33m**\u001b[0m\u001b[0mkwargs\u001b[0m\u001b[1;33m)\u001b[0m\u001b[1;33m\u001b[0m\u001b[1;33m\u001b[0m\u001b[0m\n\u001b[0m\u001b[0;32m     42\u001b[0m         \u001b[1;32mfinally\u001b[0m\u001b[1;33m:\u001b[0m\u001b[1;33m\u001b[0m\u001b[1;33m\u001b[0m\u001b[0m\n",
      "\u001b[1;32m~\\anaconda3\\lib\\site-packages\\matplotlib\\axis.py\u001b[0m in \u001b[0;36mdraw\u001b[1;34m(self, renderer, *args, **kwargs)\u001b[0m\n\u001b[0;32m   1175\u001b[0m \u001b[1;33m\u001b[0m\u001b[0m\n\u001b[1;32m-> 1176\u001b[1;33m         \u001b[0mself\u001b[0m\u001b[1;33m.\u001b[0m\u001b[0m_update_label_position\u001b[0m\u001b[1;33m(\u001b[0m\u001b[0mrenderer\u001b[0m\u001b[1;33m)\u001b[0m\u001b[1;33m\u001b[0m\u001b[1;33m\u001b[0m\u001b[0m\n\u001b[0m\u001b[0;32m   1177\u001b[0m \u001b[1;33m\u001b[0m\u001b[0m\n",
      "\u001b[1;32m~\\anaconda3\\lib\\site-packages\\matplotlib\\axis.py\u001b[0m in \u001b[0;36m_update_label_position\u001b[1;34m(self, renderer)\u001b[0m\n\u001b[0;32m   2057\u001b[0m         \u001b[1;31m# that have been set by `fig.align_xlabels()`\u001b[0m\u001b[1;33m\u001b[0m\u001b[1;33m\u001b[0m\u001b[1;33m\u001b[0m\u001b[0m\n\u001b[1;32m-> 2058\u001b[1;33m         \u001b[0mbboxes\u001b[0m\u001b[1;33m,\u001b[0m \u001b[0mbboxes2\u001b[0m \u001b[1;33m=\u001b[0m \u001b[0mself\u001b[0m\u001b[1;33m.\u001b[0m\u001b[0m_get_tick_boxes_siblings\u001b[0m\u001b[1;33m(\u001b[0m\u001b[0mrenderer\u001b[0m\u001b[1;33m=\u001b[0m\u001b[0mrenderer\u001b[0m\u001b[1;33m)\u001b[0m\u001b[1;33m\u001b[0m\u001b[1;33m\u001b[0m\u001b[0m\n\u001b[0m\u001b[0;32m   2059\u001b[0m \u001b[1;33m\u001b[0m\u001b[0m\n",
      "\u001b[1;32m~\\anaconda3\\lib\\site-packages\\matplotlib\\axis.py\u001b[0m in \u001b[0;36m_get_tick_boxes_siblings\u001b[1;34m(self, renderer)\u001b[0m\n\u001b[0;32m   2042\u001b[0m             \u001b[0mticks_to_draw\u001b[0m \u001b[1;33m=\u001b[0m \u001b[0maxx\u001b[0m\u001b[1;33m.\u001b[0m\u001b[0mxaxis\u001b[0m\u001b[1;33m.\u001b[0m\u001b[0m_update_ticks\u001b[0m\u001b[1;33m(\u001b[0m\u001b[1;33m)\u001b[0m\u001b[1;33m\u001b[0m\u001b[1;33m\u001b[0m\u001b[0m\n\u001b[1;32m-> 2043\u001b[1;33m             \u001b[0mtlb\u001b[0m\u001b[1;33m,\u001b[0m \u001b[0mtlb2\u001b[0m \u001b[1;33m=\u001b[0m \u001b[0maxx\u001b[0m\u001b[1;33m.\u001b[0m\u001b[0mxaxis\u001b[0m\u001b[1;33m.\u001b[0m\u001b[0m_get_tick_bboxes\u001b[0m\u001b[1;33m(\u001b[0m\u001b[0mticks_to_draw\u001b[0m\u001b[1;33m,\u001b[0m \u001b[0mrenderer\u001b[0m\u001b[1;33m)\u001b[0m\u001b[1;33m\u001b[0m\u001b[1;33m\u001b[0m\u001b[0m\n\u001b[0m\u001b[0;32m   2044\u001b[0m             \u001b[0mbboxes\u001b[0m\u001b[1;33m.\u001b[0m\u001b[0mextend\u001b[0m\u001b[1;33m(\u001b[0m\u001b[0mtlb\u001b[0m\u001b[1;33m)\u001b[0m\u001b[1;33m\u001b[0m\u001b[1;33m\u001b[0m\u001b[0m\n",
      "\u001b[1;32m~\\anaconda3\\lib\\site-packages\\matplotlib\\axis.py\u001b[0m in \u001b[0;36m_get_tick_bboxes\u001b[1;34m(self, ticks, renderer)\u001b[0m\n\u001b[0;32m   1090\u001b[0m         \u001b[1;34m\"\"\"Return lists of bboxes for ticks' label1's and label2's.\"\"\"\u001b[0m\u001b[1;33m\u001b[0m\u001b[1;33m\u001b[0m\u001b[0m\n\u001b[1;32m-> 1091\u001b[1;33m         return ([tick.label1.get_window_extent(renderer)\n\u001b[0m\u001b[0;32m   1092\u001b[0m                  for tick in ticks if tick.label1.get_visible()],\n",
      "\u001b[1;32m~\\anaconda3\\lib\\site-packages\\matplotlib\\axis.py\u001b[0m in \u001b[0;36m<listcomp>\u001b[1;34m(.0)\u001b[0m\n\u001b[0;32m   1090\u001b[0m         \u001b[1;34m\"\"\"Return lists of bboxes for ticks' label1's and label2's.\"\"\"\u001b[0m\u001b[1;33m\u001b[0m\u001b[1;33m\u001b[0m\u001b[0m\n\u001b[1;32m-> 1091\u001b[1;33m         return ([tick.label1.get_window_extent(renderer)\n\u001b[0m\u001b[0;32m   1092\u001b[0m                  for tick in ticks if tick.label1.get_visible()],\n",
      "\u001b[1;32m~\\anaconda3\\lib\\site-packages\\matplotlib\\text.py\u001b[0m in \u001b[0;36mget_window_extent\u001b[1;34m(self, renderer, dpi)\u001b[0m\n\u001b[0;32m    899\u001b[0m         \u001b[1;32mwith\u001b[0m \u001b[0mcbook\u001b[0m\u001b[1;33m.\u001b[0m\u001b[0m_setattr_cm\u001b[0m\u001b[1;33m(\u001b[0m\u001b[0mself\u001b[0m\u001b[1;33m.\u001b[0m\u001b[0mfigure\u001b[0m\u001b[1;33m,\u001b[0m \u001b[0mdpi\u001b[0m\u001b[1;33m=\u001b[0m\u001b[0mdpi\u001b[0m\u001b[1;33m)\u001b[0m\u001b[1;33m:\u001b[0m\u001b[1;33m\u001b[0m\u001b[1;33m\u001b[0m\u001b[0m\n\u001b[1;32m--> 900\u001b[1;33m             \u001b[0mbbox\u001b[0m\u001b[1;33m,\u001b[0m \u001b[0minfo\u001b[0m\u001b[1;33m,\u001b[0m \u001b[0mdescent\u001b[0m \u001b[1;33m=\u001b[0m \u001b[0mself\u001b[0m\u001b[1;33m.\u001b[0m\u001b[0m_get_layout\u001b[0m\u001b[1;33m(\u001b[0m\u001b[0mself\u001b[0m\u001b[1;33m.\u001b[0m\u001b[0m_renderer\u001b[0m\u001b[1;33m)\u001b[0m\u001b[1;33m\u001b[0m\u001b[1;33m\u001b[0m\u001b[0m\n\u001b[0m\u001b[0;32m    901\u001b[0m             \u001b[0mx\u001b[0m\u001b[1;33m,\u001b[0m \u001b[0my\u001b[0m \u001b[1;33m=\u001b[0m \u001b[0mself\u001b[0m\u001b[1;33m.\u001b[0m\u001b[0mget_unitless_position\u001b[0m\u001b[1;33m(\u001b[0m\u001b[1;33m)\u001b[0m\u001b[1;33m\u001b[0m\u001b[1;33m\u001b[0m\u001b[0m\n",
      "\u001b[1;32m~\\anaconda3\\lib\\site-packages\\matplotlib\\text.py\u001b[0m in \u001b[0;36m_get_layout\u001b[1;34m(self, renderer)\u001b[0m\n\u001b[0;32m    292\u001b[0m             \u001b[1;32mif\u001b[0m \u001b[0mclean_line\u001b[0m\u001b[1;33m:\u001b[0m\u001b[1;33m\u001b[0m\u001b[1;33m\u001b[0m\u001b[0m\n\u001b[1;32m--> 293\u001b[1;33m                 w, h, d = renderer.get_text_width_height_descent(\n\u001b[0m\u001b[0;32m    294\u001b[0m                     clean_line, self._fontproperties, ismath=ismath)\n",
      "\u001b[1;32m~\\anaconda3\\lib\\site-packages\\matplotlib\\backends\\backend_agg.py\u001b[0m in \u001b[0;36mget_text_width_height_descent\u001b[1;34m(self, s, prop, ismath)\u001b[0m\n\u001b[0;32m    236\u001b[0m         \u001b[0mflags\u001b[0m \u001b[1;33m=\u001b[0m \u001b[0mget_hinting_flag\u001b[0m\u001b[1;33m(\u001b[0m\u001b[1;33m)\u001b[0m\u001b[1;33m\u001b[0m\u001b[1;33m\u001b[0m\u001b[0m\n\u001b[1;32m--> 237\u001b[1;33m         \u001b[0mfont\u001b[0m \u001b[1;33m=\u001b[0m \u001b[0mself\u001b[0m\u001b[1;33m.\u001b[0m\u001b[0m_get_agg_font\u001b[0m\u001b[1;33m(\u001b[0m\u001b[0mprop\u001b[0m\u001b[1;33m)\u001b[0m\u001b[1;33m\u001b[0m\u001b[1;33m\u001b[0m\u001b[0m\n\u001b[0m\u001b[0;32m    238\u001b[0m         \u001b[0mfont\u001b[0m\u001b[1;33m.\u001b[0m\u001b[0mset_text\u001b[0m\u001b[1;33m(\u001b[0m\u001b[0ms\u001b[0m\u001b[1;33m,\u001b[0m \u001b[1;36m0.0\u001b[0m\u001b[1;33m,\u001b[0m \u001b[0mflags\u001b[0m\u001b[1;33m=\u001b[0m\u001b[0mflags\u001b[0m\u001b[1;33m)\u001b[0m\u001b[1;33m\u001b[0m\u001b[1;33m\u001b[0m\u001b[0m\n",
      "\u001b[1;32m~\\anaconda3\\lib\\site-packages\\matplotlib\\backends\\backend_agg.py\u001b[0m in \u001b[0;36m_get_agg_font\u001b[1;34m(self, prop)\u001b[0m\n\u001b[0;32m    272\u001b[0m         \u001b[0mfname\u001b[0m \u001b[1;33m=\u001b[0m \u001b[0mfindfont\u001b[0m\u001b[1;33m(\u001b[0m\u001b[0mprop\u001b[0m\u001b[1;33m)\u001b[0m\u001b[1;33m\u001b[0m\u001b[1;33m\u001b[0m\u001b[0m\n\u001b[1;32m--> 273\u001b[1;33m         \u001b[0mfont\u001b[0m \u001b[1;33m=\u001b[0m \u001b[0mget_font\u001b[0m\u001b[1;33m(\u001b[0m\u001b[0mfname\u001b[0m\u001b[1;33m)\u001b[0m\u001b[1;33m\u001b[0m\u001b[1;33m\u001b[0m\u001b[0m\n\u001b[0m\u001b[0;32m    274\u001b[0m \u001b[1;33m\u001b[0m\u001b[0m\n",
      "\u001b[1;32m~\\anaconda3\\lib\\site-packages\\matplotlib\\font_manager.py\u001b[0m in \u001b[0;36mget_font\u001b[1;34m(filename, hinting_factor)\u001b[0m\n\u001b[0;32m   1413\u001b[0m     \u001b[1;31m# single font is selected using two different relative paths.\u001b[0m\u001b[1;33m\u001b[0m\u001b[1;33m\u001b[0m\u001b[1;33m\u001b[0m\u001b[0m\n\u001b[1;32m-> 1414\u001b[1;33m     \u001b[0mfilename\u001b[0m \u001b[1;33m=\u001b[0m \u001b[0mos\u001b[0m\u001b[1;33m.\u001b[0m\u001b[0mpath\u001b[0m\u001b[1;33m.\u001b[0m\u001b[0mrealpath\u001b[0m\u001b[1;33m(\u001b[0m\u001b[0mfilename\u001b[0m\u001b[1;33m)\u001b[0m\u001b[1;33m\u001b[0m\u001b[1;33m\u001b[0m\u001b[0m\n\u001b[0m\u001b[0;32m   1415\u001b[0m     \u001b[1;32mif\u001b[0m \u001b[0mhinting_factor\u001b[0m \u001b[1;32mis\u001b[0m \u001b[1;32mNone\u001b[0m\u001b[1;33m:\u001b[0m\u001b[1;33m\u001b[0m\u001b[1;33m\u001b[0m\u001b[0m\n",
      "\u001b[1;32m~\\anaconda3\\lib\\ntpath.py\u001b[0m in \u001b[0;36mrealpath\u001b[1;34m(path)\u001b[0m\n\u001b[0;32m    663\u001b[0m             \u001b[1;32mtry\u001b[0m\u001b[1;33m:\u001b[0m\u001b[1;33m\u001b[0m\u001b[1;33m\u001b[0m\u001b[0m\n\u001b[1;32m--> 664\u001b[1;33m                 \u001b[1;32mif\u001b[0m \u001b[0m_getfinalpathname\u001b[0m\u001b[1;33m(\u001b[0m\u001b[0mspath\u001b[0m\u001b[1;33m)\u001b[0m \u001b[1;33m==\u001b[0m \u001b[0mpath\u001b[0m\u001b[1;33m:\u001b[0m\u001b[1;33m\u001b[0m\u001b[1;33m\u001b[0m\u001b[0m\n\u001b[0m\u001b[0;32m    665\u001b[0m                     \u001b[0mpath\u001b[0m \u001b[1;33m=\u001b[0m \u001b[0mspath\u001b[0m\u001b[1;33m\u001b[0m\u001b[1;33m\u001b[0m\u001b[0m\n",
      "\u001b[1;31mKeyboardInterrupt\u001b[0m: ",
      "\nDuring handling of the above exception, another exception occurred:\n",
      "\u001b[1;31mAttributeError\u001b[0m                            Traceback (most recent call last)",
      "\u001b[1;32m~\\anaconda3\\lib\\site-packages\\IPython\\core\\interactiveshell.py\u001b[0m in \u001b[0;36mshowtraceback\u001b[1;34m(self, exc_tuple, filename, tb_offset, exception_only, running_compiled_code)\u001b[0m\n\u001b[0;32m   2044\u001b[0m                         \u001b[1;31m# in the engines. This should return a list of strings.\u001b[0m\u001b[1;33m\u001b[0m\u001b[1;33m\u001b[0m\u001b[1;33m\u001b[0m\u001b[0m\n\u001b[1;32m-> 2045\u001b[1;33m                         \u001b[0mstb\u001b[0m \u001b[1;33m=\u001b[0m \u001b[0mvalue\u001b[0m\u001b[1;33m.\u001b[0m\u001b[0m_render_traceback_\u001b[0m\u001b[1;33m(\u001b[0m\u001b[1;33m)\u001b[0m\u001b[1;33m\u001b[0m\u001b[1;33m\u001b[0m\u001b[0m\n\u001b[0m\u001b[0;32m   2046\u001b[0m                     \u001b[1;32mexcept\u001b[0m \u001b[0mException\u001b[0m\u001b[1;33m:\u001b[0m\u001b[1;33m\u001b[0m\u001b[1;33m\u001b[0m\u001b[0m\n",
      "\u001b[1;31mAttributeError\u001b[0m: 'KeyboardInterrupt' object has no attribute '_render_traceback_'",
      "\nDuring handling of the above exception, another exception occurred:\n",
      "\u001b[1;31mTypeError\u001b[0m                                 Traceback (most recent call last)",
      "    \u001b[1;31m[... skipping hidden 1 frame]\u001b[0m\n",
      "\u001b[1;32m~\\anaconda3\\lib\\site-packages\\IPython\\core\\interactiveshell.py\u001b[0m in \u001b[0;36mshowtraceback\u001b[1;34m(self, exc_tuple, filename, tb_offset, exception_only, running_compiled_code)\u001b[0m\n\u001b[0;32m   2045\u001b[0m                         \u001b[0mstb\u001b[0m \u001b[1;33m=\u001b[0m \u001b[0mvalue\u001b[0m\u001b[1;33m.\u001b[0m\u001b[0m_render_traceback_\u001b[0m\u001b[1;33m(\u001b[0m\u001b[1;33m)\u001b[0m\u001b[1;33m\u001b[0m\u001b[1;33m\u001b[0m\u001b[0m\n\u001b[0;32m   2046\u001b[0m                     \u001b[1;32mexcept\u001b[0m \u001b[0mException\u001b[0m\u001b[1;33m:\u001b[0m\u001b[1;33m\u001b[0m\u001b[1;33m\u001b[0m\u001b[0m\n\u001b[1;32m-> 2047\u001b[1;33m                         stb = self.InteractiveTB.structured_traceback(etype,\n\u001b[0m\u001b[0;32m   2048\u001b[0m                                             value, tb, tb_offset=tb_offset)\n\u001b[0;32m   2049\u001b[0m \u001b[1;33m\u001b[0m\u001b[0m\n",
      "\u001b[1;32m~\\anaconda3\\lib\\site-packages\\IPython\\core\\ultratb.py\u001b[0m in \u001b[0;36mstructured_traceback\u001b[1;34m(self, etype, value, tb, tb_offset, number_of_lines_of_context)\u001b[0m\n\u001b[0;32m   1434\u001b[0m         \u001b[1;32melse\u001b[0m\u001b[1;33m:\u001b[0m\u001b[1;33m\u001b[0m\u001b[1;33m\u001b[0m\u001b[0m\n\u001b[0;32m   1435\u001b[0m             \u001b[0mself\u001b[0m\u001b[1;33m.\u001b[0m\u001b[0mtb\u001b[0m \u001b[1;33m=\u001b[0m \u001b[0mtb\u001b[0m\u001b[1;33m\u001b[0m\u001b[1;33m\u001b[0m\u001b[0m\n\u001b[1;32m-> 1436\u001b[1;33m         return FormattedTB.structured_traceback(\n\u001b[0m\u001b[0;32m   1437\u001b[0m             self, etype, value, tb, tb_offset, number_of_lines_of_context)\n\u001b[0;32m   1438\u001b[0m \u001b[1;33m\u001b[0m\u001b[0m\n",
      "\u001b[1;32m~\\anaconda3\\lib\\site-packages\\IPython\\core\\ultratb.py\u001b[0m in \u001b[0;36mstructured_traceback\u001b[1;34m(self, etype, value, tb, tb_offset, number_of_lines_of_context)\u001b[0m\n\u001b[0;32m   1334\u001b[0m         \u001b[1;32mif\u001b[0m \u001b[0mmode\u001b[0m \u001b[1;32min\u001b[0m \u001b[0mself\u001b[0m\u001b[1;33m.\u001b[0m\u001b[0mverbose_modes\u001b[0m\u001b[1;33m:\u001b[0m\u001b[1;33m\u001b[0m\u001b[1;33m\u001b[0m\u001b[0m\n\u001b[0;32m   1335\u001b[0m             \u001b[1;31m# Verbose modes need a full traceback\u001b[0m\u001b[1;33m\u001b[0m\u001b[1;33m\u001b[0m\u001b[1;33m\u001b[0m\u001b[0m\n\u001b[1;32m-> 1336\u001b[1;33m             return VerboseTB.structured_traceback(\n\u001b[0m\u001b[0;32m   1337\u001b[0m                 \u001b[0mself\u001b[0m\u001b[1;33m,\u001b[0m \u001b[0metype\u001b[0m\u001b[1;33m,\u001b[0m \u001b[0mvalue\u001b[0m\u001b[1;33m,\u001b[0m \u001b[0mtb\u001b[0m\u001b[1;33m,\u001b[0m \u001b[0mtb_offset\u001b[0m\u001b[1;33m,\u001b[0m \u001b[0mnumber_of_lines_of_context\u001b[0m\u001b[1;33m\u001b[0m\u001b[1;33m\u001b[0m\u001b[0m\n\u001b[0;32m   1338\u001b[0m             )\n",
      "\u001b[1;32m~\\anaconda3\\lib\\site-packages\\IPython\\core\\ultratb.py\u001b[0m in \u001b[0;36mstructured_traceback\u001b[1;34m(self, etype, evalue, etb, tb_offset, number_of_lines_of_context)\u001b[0m\n\u001b[0;32m   1191\u001b[0m         \u001b[1;34m\"\"\"Return a nice text document describing the traceback.\"\"\"\u001b[0m\u001b[1;33m\u001b[0m\u001b[1;33m\u001b[0m\u001b[0m\n\u001b[0;32m   1192\u001b[0m \u001b[1;33m\u001b[0m\u001b[0m\n\u001b[1;32m-> 1193\u001b[1;33m         formatted_exception = self.format_exception_as_a_whole(etype, evalue, etb, number_of_lines_of_context,\n\u001b[0m\u001b[0;32m   1194\u001b[0m                                                                tb_offset)\n\u001b[0;32m   1195\u001b[0m \u001b[1;33m\u001b[0m\u001b[0m\n",
      "\u001b[1;32m~\\anaconda3\\lib\\site-packages\\IPython\\core\\ultratb.py\u001b[0m in \u001b[0;36mformat_exception_as_a_whole\u001b[1;34m(self, etype, evalue, etb, number_of_lines_of_context, tb_offset)\u001b[0m\n\u001b[0;32m   1149\u001b[0m \u001b[1;33m\u001b[0m\u001b[0m\n\u001b[0;32m   1150\u001b[0m \u001b[1;33m\u001b[0m\u001b[0m\n\u001b[1;32m-> 1151\u001b[1;33m         \u001b[0mlast_unique\u001b[0m\u001b[1;33m,\u001b[0m \u001b[0mrecursion_repeat\u001b[0m \u001b[1;33m=\u001b[0m \u001b[0mfind_recursion\u001b[0m\u001b[1;33m(\u001b[0m\u001b[0morig_etype\u001b[0m\u001b[1;33m,\u001b[0m \u001b[0mevalue\u001b[0m\u001b[1;33m,\u001b[0m \u001b[0mrecords\u001b[0m\u001b[1;33m)\u001b[0m\u001b[1;33m\u001b[0m\u001b[1;33m\u001b[0m\u001b[0m\n\u001b[0m\u001b[0;32m   1152\u001b[0m \u001b[1;33m\u001b[0m\u001b[0m\n\u001b[0;32m   1153\u001b[0m         \u001b[0mframes\u001b[0m \u001b[1;33m=\u001b[0m \u001b[0mself\u001b[0m\u001b[1;33m.\u001b[0m\u001b[0mformat_records\u001b[0m\u001b[1;33m(\u001b[0m\u001b[0mrecords\u001b[0m\u001b[1;33m,\u001b[0m \u001b[0mlast_unique\u001b[0m\u001b[1;33m,\u001b[0m \u001b[0mrecursion_repeat\u001b[0m\u001b[1;33m)\u001b[0m\u001b[1;33m\u001b[0m\u001b[1;33m\u001b[0m\u001b[0m\n",
      "\u001b[1;32m~\\anaconda3\\lib\\site-packages\\IPython\\core\\ultratb.py\u001b[0m in \u001b[0;36mfind_recursion\u001b[1;34m(etype, value, records)\u001b[0m\n\u001b[0;32m    449\u001b[0m     \u001b[1;31m# first frame (from in to out) that looks different.\u001b[0m\u001b[1;33m\u001b[0m\u001b[1;33m\u001b[0m\u001b[1;33m\u001b[0m\u001b[0m\n\u001b[0;32m    450\u001b[0m     \u001b[1;32mif\u001b[0m \u001b[1;32mnot\u001b[0m \u001b[0mis_recursion_error\u001b[0m\u001b[1;33m(\u001b[0m\u001b[0metype\u001b[0m\u001b[1;33m,\u001b[0m \u001b[0mvalue\u001b[0m\u001b[1;33m,\u001b[0m \u001b[0mrecords\u001b[0m\u001b[1;33m)\u001b[0m\u001b[1;33m:\u001b[0m\u001b[1;33m\u001b[0m\u001b[1;33m\u001b[0m\u001b[0m\n\u001b[1;32m--> 451\u001b[1;33m         \u001b[1;32mreturn\u001b[0m \u001b[0mlen\u001b[0m\u001b[1;33m(\u001b[0m\u001b[0mrecords\u001b[0m\u001b[1;33m)\u001b[0m\u001b[1;33m,\u001b[0m \u001b[1;36m0\u001b[0m\u001b[1;33m\u001b[0m\u001b[1;33m\u001b[0m\u001b[0m\n\u001b[0m\u001b[0;32m    452\u001b[0m \u001b[1;33m\u001b[0m\u001b[0m\n\u001b[0;32m    453\u001b[0m     \u001b[1;31m# Select filename, lineno, func_name to track frames with\u001b[0m\u001b[1;33m\u001b[0m\u001b[1;33m\u001b[0m\u001b[1;33m\u001b[0m\u001b[0m\n",
      "\u001b[1;31mTypeError\u001b[0m: object of type 'NoneType' has no len()"
     ]
    }
   ],
   "source": [
    "#visualization of outliers (saw that in the description)\n",
    "\n",
    "for data in all_data:\n",
    "    \n",
    "    data_outliers=data.loc[:,[\"Sector\", \"PRICE_VAR\"]]\n",
    "\n",
    "    sector_list=data_outliers[\"Sector\"].unique()\n",
    "\n",
    "    \n",
    "    for sector in sector_list:\n",
    "    \n",
    "        temp=data_outliers[data_outliers[\"Sector\"] == sector]\n",
    "    \n",
    "        plt.figure(figsize=(30,5))\n",
    "        plt.plot(temp[\"PRICE_VAR\"])\n",
    "        plt.title(sector,fontsize=20)\n",
    "        plt.show()"
   ]
  },
  {
   "cell_type": "markdown",
   "metadata": {},
   "source": [
    "## 1.5 Drop unnecessary columns"
   ]
  },
  {
   "cell_type": "code",
   "execution_count": 12,
   "metadata": {
    "scrolled": true
   },
   "outputs": [],
   "source": [
    "for data in all_data:\n",
    "    data.drop(columns=[\"Class\",\"PRICE_VAR\"],inplace=True)"
   ]
  },
  {
   "cell_type": "markdown",
   "metadata": {},
   "source": [
    "## 1.6 Creating Test and Train Sets"
   ]
  },
  {
   "cell_type": "code",
   "execution_count": 13,
   "metadata": {},
   "outputs": [
    {
     "data": {
      "text/plain": [
       "Index(['Revenue', 'Revenue Growth', 'Cost of Revenue', 'Gross Profit',\n",
       "       'R&D Expenses', 'SG&A Expense', 'Operating Expenses',\n",
       "       'Operating Income', 'Interest Expense', 'Earnings before Tax',\n",
       "       ...\n",
       "       'Receivables growth', 'Inventory Growth', 'Asset Growth',\n",
       "       'Book Value per Share Growth', 'Debt Growth', 'R&D Expense Growth',\n",
       "       'SG&A Expenses Growth', 'Sector', 'year', 'strategy'],\n",
       "      dtype='object', length=204)"
      ]
     },
     "execution_count": 13,
     "metadata": {},
     "output_type": "execute_result"
    }
   ],
   "source": [
    "#creating train and test data in spirit of time series analysis\n",
    "\n",
    "df_train=pd.concat([df14,df15,df16,df17])\n",
    "df_test=df18\n",
    "\n",
    "df_train.shape\n",
    "\n",
    "df_train.columns"
   ]
  },
  {
   "cell_type": "code",
   "execution_count": 14,
   "metadata": {},
   "outputs": [],
   "source": [
    "#resampling\n",
    "\n",
    "X_train=df_train.drop(columns=[\"strategy\"])\n",
    "Y_train=df_train[\"strategy\"]\n",
    "\n",
    "X_test=df_test.drop(columns=[\"strategy\"])\n",
    "Y_test=df_test[\"strategy\"]"
   ]
  },
  {
   "cell_type": "markdown",
   "metadata": {},
   "source": [
    "## 1.7 Impute the remaining data"
   ]
  },
  {
   "cell_type": "code",
   "execution_count": 15,
   "metadata": {},
   "outputs": [
    {
     "name": "stderr",
     "output_type": "stream",
     "text": [
      "C:\\Users\\frede\\anaconda3\\lib\\site-packages\\sklearn\\impute\\_iterative.py:669: ConvergenceWarning: [IterativeImputer] Early stopping criterion not reached.\n",
      "  warnings.warn(\"[IterativeImputer] Early stopping criterion not\"\n",
      "C:\\Users\\frede\\anaconda3\\lib\\site-packages\\sklearn\\impute\\_iterative.py:669: ConvergenceWarning: [IterativeImputer] Early stopping criterion not reached.\n",
      "  warnings.warn(\"[IterativeImputer] Early stopping criterion not\"\n"
     ]
    }
   ],
   "source": [
    "#imputer; impute for train and test seperately\n",
    "#increase max_iter (takes long though)\n",
    "def imputer(data):\n",
    "    \n",
    "    imputer=IterativeImputer(max_iter=1,random_state=0)\n",
    "    imputer.fit(data)\n",
    "    imp_transform=imputer.transform(data)\n",
    "    df_filled=pd.DataFrame(imp_transform,columns=df_train.columns,index=data.index)\n",
    "\n",
    "    return df_filled\n",
    "\n",
    "df_train_imputed=imputer(df_train)\n",
    "df_test_imputed=imputer(df_test)"
   ]
  },
  {
   "cell_type": "code",
   "execution_count": 16,
   "metadata": {},
   "outputs": [],
   "source": [
    "#making csv files for the preprocessed dataset\n",
    "\n",
    "df_train_imputed.to_csv(\"Data/Clean Training Set.csv\")\n",
    "df_test_imputed.to_csv(\"Data/Clean Test Set.csv\")"
   ]
  },
  {
   "cell_type": "code",
   "execution_count": 17,
   "metadata": {},
   "outputs": [
    {
     "data": {
      "text/plain": [
       "Revenue                 0\n",
       "Revenue Growth          0\n",
       "Cost of Revenue         0\n",
       "Gross Profit            0\n",
       "R&D Expenses            0\n",
       "                       ..\n",
       "R&D Expense Growth      0\n",
       "SG&A Expenses Growth    0\n",
       "Sector                  0\n",
       "year                    0\n",
       "strategy                0\n",
       "Length: 204, dtype: int64"
      ]
     },
     "execution_count": 17,
     "metadata": {},
     "output_type": "execute_result"
    }
   ],
   "source": [
    "#checking if it worked\n",
    "\n",
    "df_train_imputed.isnull().sum()\n",
    "df_test_imputed.isnull().sum()\n",
    "\n",
    "#df_train_imputed.isin([0]).sum()"
   ]
  },
  {
   "cell_type": "markdown",
   "metadata": {},
   "source": [
    "## 1.8 Creating features and target variable for  the test and training sets"
   ]
  },
  {
   "cell_type": "code",
   "execution_count": 18,
   "metadata": {},
   "outputs": [],
   "source": [
    "#variables for the algos and standardisation\n",
    "\n",
    "#scaler=StandardScaler().fit(X_train)\n",
    "\n",
    "#X_train=scaler.transform(df_train_imputed.drop(columns=[\"strategy\"]))\n",
    "Y_train=df_train_imputed[\"strategy\"]\n",
    "\n",
    "#X_test=scaler.transform(df_test_imputed.drop(columns=[\"strategy\"]))\n",
    "Y_test=df_test_imputed[\"strategy\"]\n",
    "\n",
    "X_train=df_train_imputed.drop(columns=[\"strategy\"])\n",
    "\n",
    "X_test=df_test_imputed.drop(columns=[\"strategy\"])"
   ]
  },
  {
   "cell_type": "markdown",
   "metadata": {},
   "source": [
    "## 1.9 Checking for collinearity (GDP and Infl etc.)"
   ]
  },
  {
   "cell_type": "code",
   "execution_count": null,
   "metadata": {},
   "outputs": [],
   "source": [
    "#checking for multicollinearity (values bigger than 5 or 10 are bad)\n",
    "\n",
    "from statsmodels.stats.outliers_influence import variance_inflation_factor\n",
    "\n",
    "def calc_vif(X):\n",
    "\n",
    "    vif = pd.DataFrame()\n",
    "    vif[\"variables\"] = X.columns\n",
    "    vif[\"VIF\"] = [variance_inflation_factor(X.values, i) for i in range(X.shape[1])]\n",
    "    return(vif)\n",
    "\n",
    "calc_vif(X_train)"
   ]
  },
  {
   "cell_type": "markdown",
   "metadata": {},
   "source": [
    "# 2 Feature Selection \n"
   ]
  },
  {
   "cell_type": "code",
   "execution_count": 24,
   "metadata": {},
   "outputs": [
    {
     "name": "stdout",
     "output_type": "stream",
     "text": [
      "Feature: 0, Score: 0.00521\n",
      "Feature: 1, Score: 0.00758\n",
      "Feature: 2, Score: 0.00370\n",
      "Feature: 3, Score: 0.00523\n",
      "Feature: 4, Score: 0.00246\n",
      "Feature: 5, Score: 0.00462\n",
      "Feature: 6, Score: 0.00526\n",
      "Feature: 7, Score: 0.00509\n",
      "Feature: 8, Score: 0.00381\n",
      "Feature: 9, Score: 0.00508\n",
      "Feature: 10, Score: 0.00524\n",
      "Feature: 11, Score: 0.00332\n",
      "Feature: 12, Score: 0.00169\n",
      "Feature: 13, Score: 0.00437\n",
      "Feature: 14, Score: 0.00241\n",
      "Feature: 15, Score: 0.00447\n",
      "Feature: 16, Score: 0.00822\n",
      "Feature: 17, Score: 0.00641\n",
      "Feature: 18, Score: 0.00626\n",
      "Feature: 19, Score: 0.00580\n",
      "Feature: 20, Score: 0.00335\n",
      "Feature: 21, Score: 0.00608\n",
      "Feature: 22, Score: 0.00435\n",
      "Feature: 23, Score: 0.00543\n",
      "Feature: 24, Score: 0.00501\n",
      "Feature: 25, Score: 0.00488\n",
      "Feature: 26, Score: 0.00392\n",
      "Feature: 27, Score: 0.00410\n",
      "Feature: 28, Score: 0.00498\n",
      "Feature: 29, Score: 0.00604\n",
      "Feature: 30, Score: 0.00428\n",
      "Feature: 31, Score: 0.00760\n",
      "Feature: 32, Score: 0.00388\n",
      "Feature: 33, Score: 0.00497\n",
      "Feature: 34, Score: 0.00498\n",
      "Feature: 35, Score: 0.00317\n",
      "Feature: 36, Score: 0.00471\n",
      "Feature: 37, Score: 0.00485\n",
      "Feature: 38, Score: 0.00426\n",
      "Feature: 39, Score: 0.00460\n",
      "Feature: 40, Score: 0.00348\n",
      "Feature: 41, Score: 0.00440\n",
      "Feature: 42, Score: 0.00547\n",
      "Feature: 43, Score: 0.00497\n",
      "Feature: 44, Score: 0.00397\n",
      "Feature: 45, Score: 0.00775\n",
      "Feature: 46, Score: 0.00355\n",
      "Feature: 47, Score: 0.00345\n",
      "Feature: 48, Score: 0.00306\n",
      "Feature: 49, Score: 0.00372\n",
      "Feature: 50, Score: 0.00232\n",
      "Feature: 51, Score: 0.00519\n",
      "Feature: 52, Score: 0.00464\n",
      "Feature: 53, Score: 0.00687\n",
      "Feature: 54, Score: 0.00649\n",
      "Feature: 55, Score: 0.00452\n",
      "Feature: 56, Score: 0.00375\n",
      "Feature: 57, Score: 0.00495\n",
      "Feature: 58, Score: 0.00504\n",
      "Feature: 59, Score: 0.00485\n",
      "Feature: 60, Score: 0.00527\n",
      "Feature: 61, Score: 0.00484\n",
      "Feature: 62, Score: 0.00561\n",
      "Feature: 63, Score: 0.00522\n",
      "Feature: 64, Score: 0.00655\n",
      "Feature: 65, Score: 0.00556\n",
      "Feature: 66, Score: 0.00610\n",
      "Feature: 67, Score: 0.00263\n",
      "Feature: 68, Score: 0.00876\n",
      "Feature: 69, Score: 0.00826\n",
      "Feature: 70, Score: 0.00761\n",
      "Feature: 71, Score: 0.00477\n",
      "Feature: 72, Score: 0.00515\n",
      "Feature: 73, Score: 0.00510\n",
      "Feature: 74, Score: 0.00532\n",
      "Feature: 75, Score: 0.00470\n",
      "Feature: 76, Score: 0.00439\n",
      "Feature: 77, Score: 0.00370\n",
      "Feature: 78, Score: 0.00618\n",
      "Feature: 79, Score: 0.00532\n",
      "Feature: 80, Score: 0.00351\n",
      "Feature: 81, Score: 0.00563\n",
      "Feature: 82, Score: 0.00444\n",
      "Feature: 83, Score: 0.00502\n",
      "Feature: 84, Score: 0.00000\n",
      "Feature: 85, Score: 0.00504\n",
      "Feature: 86, Score: 0.00478\n",
      "Feature: 87, Score: 0.00552\n",
      "Feature: 88, Score: 0.00527\n",
      "Feature: 89, Score: 0.00388\n",
      "Feature: 90, Score: 0.00459\n",
      "Feature: 91, Score: 0.00437\n",
      "Feature: 92, Score: 0.00301\n",
      "Feature: 93, Score: 0.00546\n",
      "Feature: 94, Score: 0.00533\n",
      "Feature: 95, Score: 0.00658\n",
      "Feature: 96, Score: 0.00665\n",
      "Feature: 97, Score: 0.00590\n",
      "Feature: 98, Score: 0.00292\n",
      "Feature: 99, Score: 0.00483\n",
      "Feature: 100, Score: 0.00446\n",
      "Feature: 101, Score: 0.00378\n",
      "Feature: 102, Score: 0.00409\n",
      "Feature: 103, Score: 0.00336\n",
      "Feature: 104, Score: 0.00373\n",
      "Feature: 105, Score: 0.00522\n",
      "Feature: 106, Score: 0.00421\n",
      "Feature: 107, Score: 0.00827\n",
      "Feature: 108, Score: 0.00502\n",
      "Feature: 109, Score: 0.00578\n",
      "Feature: 110, Score: 0.00551\n",
      "Feature: 111, Score: 0.00348\n",
      "Feature: 112, Score: 0.00570\n",
      "Feature: 113, Score: 0.00462\n",
      "Feature: 114, Score: 0.00410\n",
      "Feature: 115, Score: 0.00509\n",
      "Feature: 116, Score: 0.00539\n",
      "Feature: 117, Score: 0.00464\n",
      "Feature: 118, Score: 0.00486\n",
      "Feature: 119, Score: 0.00470\n",
      "Feature: 120, Score: 0.00551\n",
      "Feature: 121, Score: 0.00574\n",
      "Feature: 122, Score: 0.00567\n",
      "Feature: 123, Score: 0.00503\n",
      "Feature: 124, Score: 0.00522\n",
      "Feature: 125, Score: 0.00396\n",
      "Feature: 126, Score: 0.00491\n",
      "Feature: 127, Score: 0.00558\n",
      "Feature: 128, Score: 0.00405\n",
      "Feature: 129, Score: 0.00476\n",
      "Feature: 130, Score: 0.00579\n",
      "Feature: 131, Score: 0.00412\n",
      "Feature: 132, Score: 0.00516\n",
      "Feature: 133, Score: 0.00451\n",
      "Feature: 134, Score: 0.00463\n",
      "Feature: 135, Score: 0.00448\n",
      "Feature: 136, Score: 0.00572\n",
      "Feature: 137, Score: 0.00546\n",
      "Feature: 138, Score: 0.00739\n",
      "Feature: 139, Score: 0.00486\n",
      "Feature: 140, Score: 0.00592\n",
      "Feature: 141, Score: 0.00396\n",
      "Feature: 142, Score: 0.00567\n",
      "Feature: 143, Score: 0.00471\n",
      "Feature: 144, Score: 0.00573\n",
      "Feature: 145, Score: 0.00308\n",
      "Feature: 146, Score: 0.00413\n",
      "Feature: 147, Score: 0.00546\n",
      "Feature: 148, Score: 0.00232\n",
      "Feature: 149, Score: 0.00432\n",
      "Feature: 150, Score: 0.00450\n",
      "Feature: 151, Score: 0.00574\n",
      "Feature: 152, Score: 0.00592\n",
      "Feature: 153, Score: 0.00447\n",
      "Feature: 154, Score: 0.00313\n",
      "Feature: 155, Score: 0.00370\n",
      "Feature: 156, Score: 0.00600\n",
      "Feature: 157, Score: 0.00515\n",
      "Feature: 158, Score: 0.00565\n",
      "Feature: 159, Score: 0.00487\n",
      "Feature: 160, Score: 0.00512\n",
      "Feature: 161, Score: 0.00462\n",
      "Feature: 162, Score: 0.00452\n",
      "Feature: 163, Score: 0.00504\n",
      "Feature: 164, Score: 0.00281\n",
      "Feature: 165, Score: 0.00530\n",
      "Feature: 166, Score: 0.00500\n",
      "Feature: 167, Score: 0.00296\n",
      "Feature: 168, Score: 0.00517\n",
      "Feature: 169, Score: 0.00441\n",
      "Feature: 170, Score: 0.00300\n",
      "Feature: 171, Score: 0.00527\n",
      "Feature: 172, Score: 0.00539\n",
      "Feature: 173, Score: 0.00570\n",
      "Feature: 174, Score: 0.00696\n",
      "Feature: 175, Score: 0.00673\n",
      "Feature: 176, Score: 0.00551\n",
      "Feature: 177, Score: 0.00640\n",
      "Feature: 178, Score: 0.00676\n",
      "Feature: 179, Score: 0.00649\n",
      "Feature: 180, Score: 0.00688\n",
      "Feature: 181, Score: 0.00336\n",
      "Feature: 182, Score: 0.00622\n",
      "Feature: 183, Score: 0.00744\n",
      "Feature: 184, Score: 0.00701\n",
      "Feature: 185, Score: 0.00522\n",
      "Feature: 186, Score: 0.00458\n",
      "Feature: 187, Score: 0.00445\n",
      "Feature: 188, Score: 0.00567\n",
      "Feature: 189, Score: 0.00434\n",
      "Feature: 190, Score: 0.00549\n",
      "Feature: 191, Score: 0.00543\n",
      "Feature: 192, Score: 0.00320\n",
      "Feature: 193, Score: 0.00346\n",
      "Feature: 194, Score: 0.00698\n",
      "Feature: 195, Score: 0.00474\n",
      "Feature: 196, Score: 0.00884\n",
      "Feature: 197, Score: 0.00596\n",
      "Feature: 198, Score: 0.00553\n",
      "Feature: 199, Score: 0.00267\n",
      "Feature: 200, Score: 0.00601\n",
      "Feature: 201, Score: 0.00252\n"
     ]
    },
    {
     "data": {
      "image/png": "[encoded data removed]",
      "text/plain": [
       "<Figure size 432x288 with 1 Axes>"
      ]
     },
     "metadata": {
      "needs_background": "light"
     },
     "output_type": "display_data"
    }
   ],
   "source": [
    "threshold = 1/200\n",
    "\n",
    "forest = RandomForestClassifier(random_state=0,class_weight=\"balanced\")\n",
    "forest.fit(X_train,Y_train)\n",
    "\n",
    "importance = forest.feature_importances_\n",
    "d = sum(importance>threshold)\n",
    "\n",
    "feat_imp = np.sort(importance)[::-1]\n",
    "indices = np.argsort(importance)[::-1]\n",
    "\n",
    "#summarize feature importance (table)\n",
    "for i,v in enumerate(importance):\n",
    "    print('Feature: %0d, Score: %.5f' % (i,v))\n",
    "\n",
    "# plot feature importance\n",
    "pyplot.bar([x for x in range(len(importance))], importance)\n",
    "pyplot.show()"
   ]
  },
  {
   "cell_type": "code",
   "execution_count": 25,
   "metadata": {},
   "outputs": [
    {
     "name": "stdout",
     "output_type": "stream",
     "text": [
      "Index(['Revenue', 'Revenue Growth', 'Gross Profit', 'SG&A Expense',\n",
      "       'Operating Income', 'Income Tax Expense', 'Net Income Com', 'EPS',\n",
      "       'EPS Diluted', 'Weighted Average Shs Out',\n",
      "       'Weighted Average Shs Out (Dil)', 'Gross Margin',\n",
      "       'Earnings Before Tax Margin', 'Cash and cash equivalents',\n",
      "       'Cash and short-term investments', 'Receivables',\n",
      "       'Total non-current assets', 'Total assets', 'Long-term debt',\n",
      "       'Total non-current liabilities', 'Other comprehensive income',\n",
      "       'Retained earnings (deficit)', 'Other Liabilities',\n",
      "       'Depreciation & Amortization', 'Operating Cash Flow',\n",
      "       'Investment purchases and sales', 'Investing Cash flow',\n",
      "       'Issuance (repayment) of debt', 'Issuance (buybacks) of shares',\n",
      "       'Financing Cash Flow', 'Effect of forex changes on cash',\n",
      "       'Net cash flow / Change in cash', 'Net Cash/Marketcap',\n",
      "       'priceToBookRatio', 'priceToOperatingCashFlowsRatio', 'priceSalesRatio',\n",
      "       'priceFairValue', 'returnOnAssets', 'returnOnEquity',\n",
      "       'fixedAssetTurnover', 'assetTurnover', 'currentRatio', 'quickRatio',\n",
      "       'cashRatio', 'daysOfInventoryOutstanding', 'daysOfPayablesOutstanding',\n",
      "       'companyEquityMultiplier', 'operatingCashFlowPerShare',\n",
      "       'freeCashFlowPerShare', 'cashPerShare',\n",
      "       'dividendpaidAndCapexCoverageRatios', 'Free Cash Flow per Share',\n",
      "       'Cash per Share', 'Book Value per Share',\n",
      "       'Tangible Book Value per Share', 'Shareholders Equity per Share',\n",
      "       'Enterprise Value', 'Price to Sales Ratio', 'POCF ratio',\n",
      "       'EV to Free cash flow', 'Earnings Yield', 'Income Quality',\n",
      "       'SG&A to Revenue', 'Capex to Revenue', 'Capex to Depreciation',\n",
      "       'Return on Tangible Assets', 'Graham Net-Net', 'Days Sales Outstanding',\n",
      "       'Days Payables Outstanding', 'Receivables Turnover', 'ROE',\n",
      "       'Capex per Share', 'Gross Profit Growth', 'EBIT Growth',\n",
      "       'Operating Income Growth', 'Net Income Growth', 'EPS Growth',\n",
      "       'EPS Diluted Growth', 'Weighted Average Shares Growth',\n",
      "       'Weighted Average Shares Diluted Growth', 'Operating Cash Flow growth',\n",
      "       'Free Cash Flow growth', '5Y Revenue Growth (per Share)',\n",
      "       '3Y Revenue Growth (per Share)', '5Y Net Income Growth (per Share)',\n",
      "       '5Y Shareholders Equity Growth (per Share)',\n",
      "       '3Y Shareholders Equity Growth (per Share)', 'Receivables growth',\n",
      "       'Inventory Growth', 'Asset Growth', 'Book Value per Share Growth',\n",
      "       'Debt Growth', 'SG&A Expenses Growth'],\n",
      "      dtype='object')\n"
     ]
    }
   ],
   "source": [
    "#feature selection\n",
    "sel = SelectFromModel(RandomForestClassifier(n_estimators = 100),threshold=1/200)\n",
    "sel.fit(X_train, Y_train)\n",
    "\n",
    "#which ones were selected?\n",
    "sel.get_support()\n",
    "\n",
    "#list of selected variables\n",
    "selected_feat= X_train.columns[(sel.get_support())]\n",
    "len(selected_feat)\n",
    "\n",
    "print(selected_feat)"
   ]
  },
  {
   "cell_type": "code",
   "execution_count": 26,
   "metadata": {},
   "outputs": [
    {
     "data": {
      "text/plain": [
       "(17506, 93)"
      ]
     },
     "execution_count": 26,
     "metadata": {},
     "output_type": "execute_result"
    }
   ],
   "source": [
    "#variables for the algos and standardisation after feature selection for reduction of computation time\n",
    "\n",
    "#the ys remain the same\n",
    "Y_train=df_train_imputed[\"strategy\"]\n",
    "\n",
    "Y_test=df_test_imputed[\"strategy\"]\n",
    "\n",
    "#we only choose 100 features according to our feature selection\n",
    "X_train=X_train[selected_feat]\n",
    "\n",
    "X_test=X_test[selected_feat]\n",
    "\n",
    "X_train.shape"
   ]
  },
  {
   "cell_type": "code",
   "execution_count": 27,
   "metadata": {},
   "outputs": [],
   "source": [
    "#making new csv files for the (shortened) data to use in separate algorithms\n",
    "\n",
    "X_train.to_csv(\"Data/X_train.csv\")\n",
    "X_test.to_csv(\"Data/X_test.csv\")\n",
    "Y_train.to_csv(\"Data/Y_train.csv\")\n",
    "Y_test.to_csv(\"Data/Y_test.csv\")"
   ]
  },
  {
   "cell_type": "markdown",
   "metadata": {},
   "source": [
    "# 3 Algorithms"
   ]
  },
  {
   "cell_type": "markdown",
   "metadata": {},
   "source": [
    "## 3.1 Logistic Regression\n",
    "\n"
   ]
  },
  {
   "cell_type": "code",
   "execution_count": 19,
   "metadata": {},
   "outputs": [
    {
     "data": {
      "text/plain": [
       "2.0    913\n",
       "1.0    913\n",
       "0.0    913\n",
       "Name: strategy, dtype: int64"
      ]
     },
     "execution_count": 19,
     "metadata": {},
     "output_type": "execute_result"
    }
   ],
   "source": [
    "## Undersample the Data to make it balanced\n",
    "from imblearn.under_sampling import RandomUnderSampler\n",
    "\n",
    "# create the object.\n",
    "under_sampler = RandomUnderSampler()\n",
    "\n",
    "# fit the object to the training data.\n",
    "x_train_under, y_train_under = under_sampler.fit_sample(X_train, Y_train)\n",
    "\n",
    "y_train_under1 = pd.DataFrame(y_train_under, columns = [\"strategy\"])\n",
    "y_train_under1.strategy.value_counts()"
   ]
  },
  {
   "cell_type": "code",
   "execution_count": 21,
   "metadata": {},
   "outputs": [
    {
     "name": "stdout",
     "output_type": "stream",
     "text": [
      "<class 'pandas.core.frame.DataFrame'>\n",
      "<class 'pandas.core.frame.DataFrame'>\n"
     ]
    }
   ],
   "source": [
    "print(type(y_train_under1))\n",
    "print(type(x_train_under))"
   ]
  },
  {
   "cell_type": "code",
   "execution_count": 22,
   "metadata": {},
   "outputs": [],
   "source": [
    "def LOGIMODI(X_train, Y_train):\n",
    "\n",
    "    logModel = LogisticRegression(max_iter=10, tol=0.001,random_state=1, n_jobs=-1,warm_start=True) #increasing iterations to 1000 increases score by only 1% -> it is not worth the additional time\n",
    "    \n",
    "    pipe = Pipeline([('scaler', StandardScaler()), \n",
    "                     ('logreg', logModel)])\n",
    "    \n",
    "    param_grid = {'logreg__penalty': [\"l1\", \"l2\",'elasticnet'], #elastic nets combines l1&l2\n",
    "              'logreg__C': np.logspace(-2,9,5),\n",
    "              'logreg__solver': [ \"liblinear\", \"saga\"], \n",
    "              'logreg__l1_ratio':[0,0.05,0.1,0.15,0.2,1]} #if 0, or 1 then l2 or l1 would be best. If between then the combination of both\n",
    "    \n",
    "    \n",
    "    \n",
    "    grid = GridSearchCV(pipe,param_grid=param_grid, cv=3, n_jobs=-1)\n",
    "    grid = grid.fit(X_train,Y_train)\n",
    "    \n",
    "    return(grid)"
   ]
  },
  {
   "cell_type": "code",
   "execution_count": 23,
   "metadata": {},
   "outputs": [
    {
     "name": "stdout",
     "output_type": "stream",
     "text": [
      "2021-04-13 12:09:50.270804\n",
      "Best parameters: {'logreg__C': 0.01, 'logreg__l1_ratio': 0.2, 'logreg__penalty': 'elasticnet', 'logreg__solver': 'saga'}\n",
      "Best CV accuracy: 0.3647316538882804\n",
      "Test score: 0.2566820276497696\n",
      "2021-04-13 12:10:53.384094\n"
     ]
    },
    {
     "name": "stderr",
     "output_type": "stream",
     "text": [
      "C:\\Users\\frede\\anaconda3\\lib\\site-packages\\sklearn\\linear_model\\_sag.py:329: ConvergenceWarning: The max_iter was reached which means the coef_ did not converge\n",
      "  warnings.warn(\"The max_iter was reached which means \"\n"
     ]
    }
   ],
   "source": [
    "#Run the Model\n",
    "import datetime\n",
    "print(datetime.datetime.now())\n",
    "\n",
    "grid = LOGIMODI(x_train_under,y_train_under)\n",
    "\n",
    "print('Best parameters:', grid.best_params_) \n",
    "print('Best CV accuracy:', grid.best_score_)\n",
    "print('Test score:', grid.score(X_test,Y_test)) \n",
    "\n",
    "print(datetime.datetime.now()) "
   ]
  },
  {
   "cell_type": "code",
   "execution_count": 24,
   "metadata": {},
   "outputs": [
    {
     "name": "stdout",
     "output_type": "stream",
     "text": [
      "Predicted   0.0    1.0     2.0\n",
      "True                          \n",
      "0.0        55.0  173.0  2894.0\n",
      "1.0         NaN   11.0   137.0\n",
      "2.0         3.0   19.0  1048.0\n"
     ]
    }
   ],
   "source": [
    "#predict and check precision\n",
    "# Predict classes\n",
    "y_pred = grid.predict(X_test)\n",
    "\n",
    "# Manual confusion matrix as pandas DataFrame\n",
    "confm = pd.DataFrame({'Predicted': y_pred,\n",
    "                      'True': Y_test})\n",
    "print(confm.groupby(['True','Predicted'], sort=True).size().unstack('Predicted'))"
   ]
  },
  {
   "cell_type": "markdown",
   "metadata": {},
   "source": [
    "## 3.2 Support Vector Machines \n",
    "#### *!param_grid & max_iter need to be adjusted for all functions based on test results!*"
   ]
  },
  {
   "cell_type": "markdown",
   "metadata": {},
   "source": [
    "### 3.2.1 Polynomial Kernel Function"
   ]
  },
  {
   "cell_type": "code",
   "execution_count": 28,
   "metadata": {},
   "outputs": [],
   "source": [
    "# function\n",
    "\n",
    "def SVM_poly(X_train,Y_train,param_grid):\n",
    "    '''\n",
    "    This function uses Support Vector Machines on X_train and Y_train with a Polynomial Kernel Function.\n",
    "    It uses Grid-Crossvalidation to find the best hyperparameters for the dataset\n",
    "    X_train: Training Set of X values\n",
    "    Y_train: Training Set of Y values(factorized)\n",
    "    param_grid: Grid of parameters to optimize over (done in test file)\n",
    "    return: Cross-Validated optimal hyperparamer model fit\n",
    "    '''\n",
    "    \n",
    "    # Create pipeline object with standard scaler and SVC estimator\n",
    "    pipe = Pipeline([('scaler', StandardScaler()), \n",
    "                     ('svm_poly', SVC(kernel='poly', random_state=0, max_iter=100000))])\n",
    "\n",
    "    # Run grid search\n",
    "    grid = GridSearchCV(pipe, param_grid=param_grid, cv=5, n_jobs=-1)\n",
    "    grid = grid.fit(X_train, Y_train)\n",
    "    return(grid)"
   ]
  },
  {
   "cell_type": "code",
   "execution_count": 29,
   "metadata": {},
   "outputs": [
    {
     "name": "stdout",
     "output_type": "stream",
     "text": [
      "2021-04-12 22:16:42.880462\n"
     ]
    },
    {
     "name": "stderr",
     "output_type": "stream",
     "text": [
      "C:\\Users\\Jan Beeler\\anaconda3\\lib\\site-packages\\sklearn\\svm\\_base.py:246: ConvergenceWarning: Solver terminated early (max_iter=100000).  Consider pre-processing your data with StandardScaler or MinMaxScaler.\n",
      "  warnings.warn('Solver terminated early (max_iter=%i).'\n"
     ]
    },
    {
     "name": "stdout",
     "output_type": "stream",
     "text": [
      "Best CV accuracy: 0.5828\n",
      "Test score:       0.2535\n",
      "Best parameters: {'svm_poly__C': 150, 'svm_poly__coef0': 0.01, 'svm_poly__degree': 5, 'svm_poly__gamma': 0.0001}\n",
      "2021-04-12 22:19:38.429408\n",
      "Polynomial Kernel Function yields the following confusion matrix:\n",
      "Predicted   0.0   1.0     2.0\n",
      "True                         \n",
      "0.0        33.0  13.0  3076.0\n",
      "1.0         1.0   NaN   147.0\n",
      "2.0         3.0   NaN  1067.0\n"
     ]
    }
   ],
   "source": [
    "# output\n",
    "\n",
    "param_grid = {'svm_poly__C': [150], #[1, 1500]\n",
    "              'svm_poly__degree': [5], #[1, 7]\n",
    "              'svm_poly__gamma': [0.0001], #[0.0001, 0.0005, 0.001, 0.005]\n",
    "              'svm_poly__coef0':[0.01]} #[0.01, 0.1, 0.5, 1]\n",
    "    \n",
    "print(datetime.datetime.now()) #computation time\n",
    "poly = SVM_poly(X_train,Y_train, param_grid)\n",
    "print('Best CV accuracy: {:.4f}'.format(poly.best_score_))\n",
    "print('Test score:       {:.4f}'.format(poly.score(X_test, Y_test)))\n",
    "print('Best parameters: {}'.format(poly.best_params_))\n",
    "print(datetime.datetime.now()) \n",
    "\n",
    "# Predict classes\n",
    "y_pred_svm_poly = poly.predict(X_test)\n",
    "\n",
    "# Manual confusion matrix as pandas DataFrame\n",
    "confm = pd.DataFrame({'Predicted': y_pred_svm_poly,\n",
    "                      'True': Y_test})\n",
    "print('Polynomial Kernel Function yields the following confusion matrix:')\n",
    "print(confm.groupby(['True','Predicted'], sort=True).size().unstack('Predicted')) "
   ]
  },
  {
   "cell_type": "markdown",
   "metadata": {},
   "source": [
    "### 3.2.2 Radial Basis Function"
   ]
  },
  {
   "cell_type": "code",
   "execution_count": 30,
   "metadata": {},
   "outputs": [],
   "source": [
    "# function\n",
    "\n",
    "def SVM_rbf(X_train,Y_train,param_grid):\n",
    "    '''\n",
    "    This function uses Support Vector Machines on X_train and Y_train with a Radial Basis Kernel Function(rbf).\n",
    "    It uses Grid-Crossvalidation to find the best hyperparameters for the dataset\n",
    "    X_train: Training Set of X values\n",
    "    Y_train: Training Set of Y values(factorized)\n",
    "    param_grid: Grid of parameters to optimize over\n",
    "    return: Cross-Validated optimal hyperparamer model fit\n",
    "    '''\n",
    "\n",
    "    # Create pipeline object with standard scaler and SVC estimator\n",
    "    pipe = Pipeline([('scaler', StandardScaler()), \n",
    "                     ('svm_rbf', SVC(kernel='rbf', random_state=0, max_iter=10000))])\n",
    "    \n",
    "    # Run grid search\n",
    "    grid = GridSearchCV(pipe, param_grid=param_grid, cv=5, n_jobs=-1)\n",
    "    grid = grid.fit(X_train, Y_train)\n",
    "    return(grid)"
   ]
  },
  {
   "cell_type": "code",
   "execution_count": 31,
   "metadata": {},
   "outputs": [
    {
     "name": "stdout",
     "output_type": "stream",
     "text": [
      "2021-04-12 22:23:24.767975\n"
     ]
    },
    {
     "name": "stderr",
     "output_type": "stream",
     "text": [
      "C:\\Users\\Jan Beeler\\anaconda3\\lib\\site-packages\\sklearn\\svm\\_base.py:246: ConvergenceWarning: Solver terminated early (max_iter=10000).  Consider pre-processing your data with StandardScaler or MinMaxScaler.\n",
      "  warnings.warn('Solver terminated early (max_iter=%i).'\n"
     ]
    },
    {
     "name": "stdout",
     "output_type": "stream",
     "text": [
      "Best CV accuracy: 0.5566\n",
      "Test score:       0.2468\n",
      "Best parameters: {'svm_rbf__C': 250, 'svm_rbf__gamma': 0.45}\n",
      "2021-04-12 22:26:39.423689\n",
      "Radial Basis Function Kernel yields the following confusion matrix:\n",
      "Predicted  0.0     2.0\n",
      "True                  \n",
      "0.0        1.0  3121.0\n",
      "1.0        NaN   148.0\n",
      "2.0        NaN  1070.0\n"
     ]
    }
   ],
   "source": [
    "# output\n",
    "\n",
    "param_grid = {'svm_rbf__C': [250], \n",
    "              'svm_rbf__gamma': [0.45]} \n",
    "\n",
    "print(datetime.datetime.now()) #computation time\n",
    "rbf = SVM_rbf(X_train,Y_train,param_grid)\n",
    "print('Best CV accuracy: {:.4f}'.format(rbf.best_score_))\n",
    "print('Test score:       {:.4f}'.format(rbf.score(X_test, Y_test)))\n",
    "print('Best parameters: {}'.format(rbf.best_params_))\n",
    "print(datetime.datetime.now())\n",
    "\n",
    "# Predict classes\n",
    "y_pred_svm_rbf = rbf.predict(X_test)\n",
    "\n",
    "# Manual confusion matrix as pandas DataFrame\n",
    "confm = pd.DataFrame({'Predicted': y_pred_svm_rbf,\n",
    "                      'True': Y_test})\n",
    "print('Radial Basis Function Kernel yields the following confusion matrix:')\n",
    "print(confm.groupby(['True','Predicted'], sort=True).size().unstack('Predicted'))"
   ]
  },
  {
   "cell_type": "markdown",
   "metadata": {},
   "source": [
    "### 3.2.3 Radial Basis Function (Balanced)"
   ]
  },
  {
   "cell_type": "code",
   "execution_count": 32,
   "metadata": {},
   "outputs": [],
   "source": [
    "# function\n",
    "\n",
    "def SVM_rbf_bal(X_train,Y_train,param_grid):\n",
    "    '''\n",
    "    This function uses Support Vector Machines on X_train and Y_train with a Radial Basis Kernel Function(rbf).\n",
    "    It uses Grid-Crossvalidation to find the best hyperparameters for the dataset where we use balanced class weights.\n",
    "    X_train: Training Set of X values\n",
    "    Y_train: Training Set of Y values\n",
    "    param_grid: Grid of parameters to optimize over\n",
    "    return: Cross-Validated optimal hyperparamer model fit\n",
    "    '''\n",
    "\n",
    "    # Create pipeline object with standard scaler and SVC estimator\n",
    "    pipe = Pipeline([('scaler', StandardScaler()), \n",
    "                     ('svm_rbf', SVC(kernel='rbf', random_state=0, max_iter=10000, class_weight='balanced'))])\n",
    "\n",
    "    # Run grid search\n",
    "    grid = GridSearchCV(pipe, param_grid=param_grid, cv=5, n_jobs=-1)\n",
    "    grid = grid.fit(X_train, Y_train)\n",
    "    return(grid)"
   ]
  },
  {
   "cell_type": "code",
   "execution_count": 33,
   "metadata": {},
   "outputs": [
    {
     "name": "stdout",
     "output_type": "stream",
     "text": [
      "2021-04-12 22:30:58.033481\n"
     ]
    },
    {
     "name": "stderr",
     "output_type": "stream",
     "text": [
      "C:\\Users\\Jan Beeler\\anaconda3\\lib\\site-packages\\sklearn\\svm\\_base.py:246: ConvergenceWarning: Solver terminated early (max_iter=10000).  Consider pre-processing your data with StandardScaler or MinMaxScaler.\n",
      "  warnings.warn('Solver terminated early (max_iter=%i).'\n"
     ]
    },
    {
     "name": "stdout",
     "output_type": "stream",
     "text": [
      "Best CV accuracy: 0.5162\n",
      "Test score:       0.3357\n",
      "Best parameters: {'svm_rbf__C': 300, 'svm_rbf__gamma': 0.25}\n",
      "2021-04-12 22:34:40.016208\n",
      "Radial Basis Function Kernel with Balanced class weights yields the following confusion matrix:\n",
      "Predicted    0.0  1.0     2.0\n",
      "True                         \n",
      "0.0        619.0  1.0  2502.0\n",
      "1.0         22.0  NaN   126.0\n",
      "2.0        232.0  NaN   838.0\n"
     ]
    }
   ],
   "source": [
    "# output \n",
    "\n",
    "param_grid = {'svm_rbf__C': [300], \n",
    "              'svm_rbf__gamma': [0.25]} \n",
    "\n",
    "print(datetime.datetime.now()) #computation time\n",
    "rbf_bal = SVM_rbf_bal(X_train,Y_train,param_grid)\n",
    "print('Best CV accuracy: {:.4f}'.format(rbf_bal.best_score_))\n",
    "print('Test score:       {:.4f}'.format(rbf_bal.score(X_test, Y_test)))\n",
    "print('Best parameters: {}'.format(rbf_bal.best_params_))\n",
    "print(datetime.datetime.now())\n",
    "\n",
    "# Predict classes\n",
    "y_pred_svm_rbf_bal = rbf_bal.predict(X_test)\n",
    "\n",
    "# Manual confusion matrix as pandas DataFrame\n",
    "confm = pd.DataFrame({'Predicted': y_pred_svm_rbf_bal,\n",
    "                      'True': Y_test})\n",
    "print('Radial Basis Function Kernel with Balanced class weights yields the following confusion matrix:')\n",
    "print(confm.groupby(['True','Predicted'], sort=True).size().unstack('Predicted'))\n"
   ]
  },
  {
   "cell_type": "markdown",
   "metadata": {},
   "source": [
    "### 3.2.4 Sigmoid Function"
   ]
  },
  {
   "cell_type": "code",
   "execution_count": 34,
   "metadata": {},
   "outputs": [],
   "source": [
    "# function\n",
    "\n",
    "def SVM_sig(X_train,Y_train,param_grid):\n",
    "    '''\n",
    "    This function uses Support Vector Machines on X_train and Y_train with a Sigmoid Function(sig).\n",
    "    It uses Grid-Crossvalidation to find the best hyperparameters for the dataset\n",
    "    X_train: Training Set of X values\n",
    "    Y_train: Training Set of Y values\n",
    "    param_grid: Grid of parameters to optimize over\n",
    "    return: Cross-Validated optimal hyperparamer model fit\n",
    "    '''\n",
    "    \n",
    "    # Create pipeline object with standard scaler and SVC estimator\n",
    "    pipe = Pipeline([('scaler', StandardScaler()), \n",
    "                     ('svm_sig', SVC(kernel='sigmoid', random_state=0, max_iter=1000))])\n",
    "\n",
    "    # Run grid search\n",
    "    grid = GridSearchCV(pipe, param_grid=param_grid, cv=5, n_jobs=-1) \n",
    "    grid = grid.fit(X_train, Y_train)\n",
    "    return(grid)"
   ]
  },
  {
   "cell_type": "code",
   "execution_count": 35,
   "metadata": {},
   "outputs": [
    {
     "name": "stdout",
     "output_type": "stream",
     "text": [
      "2021-04-12 22:35:34.722978\n"
     ]
    },
    {
     "name": "stderr",
     "output_type": "stream",
     "text": [
      "C:\\Users\\Jan Beeler\\anaconda3\\lib\\site-packages\\sklearn\\svm\\_base.py:246: ConvergenceWarning: Solver terminated early (max_iter=1000).  Consider pre-processing your data with StandardScaler or MinMaxScaler.\n",
      "  warnings.warn('Solver terminated early (max_iter=%i).'\n"
     ]
    },
    {
     "name": "stdout",
     "output_type": "stream",
     "text": [
      "Best CV accuracy: 0.54\n",
      "Test score:       0.27\n",
      "Best parameters: {'svm_sig__C': 200, 'svm_sig__gamma': 0.25}\n",
      "2021-04-12 22:36:14.248294\n",
      "Sigmoid Function Kernel yields the following confusion matrix:\n",
      "Predicted    0.0  1.0     2.0\n",
      "True                         \n",
      "0.0        108.0  5.0  3009.0\n",
      "1.0          4.0  NaN   144.0\n",
      "2.0         21.0  4.0  1045.0\n"
     ]
    }
   ],
   "source": [
    "# output\n",
    "\n",
    "param_grid = {'svm_sig__C': [200], \n",
    "              'svm_sig__gamma': [0.25]} \n",
    "\n",
    "print(datetime.datetime.now()) #computation time\n",
    "sig = SVM_sig(X_train,Y_train,param_grid)\n",
    "print('Best CV accuracy: {:.2f}'.format(sig.best_score_))\n",
    "print('Test score:       {:.2f}'.format(sig.score(X_test, Y_test)))\n",
    "print('Best parameters: {}'.format(sig.best_params_))\n",
    "print(datetime.datetime.now())\n",
    "\n",
    "\n",
    "# Predict classes\n",
    "y_pred_svm_sig = sig.predict(X_test)\n",
    "\n",
    "# Manual confusion matrix as pandas DataFrame\n",
    "confm = pd.DataFrame({'Predicted': y_pred_svm_sig,\n",
    "                      'True': Y_test})\n",
    "print('Sigmoid Function Kernel yields the following confusion matrix:')\n",
    "print(confm.groupby(['True','Predicted'], sort=True).size().unstack('Predicted'))"
   ]
  },
  {
   "cell_type": "markdown",
   "metadata": {},
   "source": [
    "## 3.3 Random Forest"
   ]
  },
  {
   "cell_type": "code",
   "execution_count": 25,
   "metadata": {},
   "outputs": [],
   "source": [
    "def randomforest(X_train, Y_train, n_estimators, max_depth, minSamplesNode, minSamplesLeaf):\n",
    "   \n",
    "    \"\"\"\n",
    "       X_train: training set of features\n",
    "       Y_train: training set of target variable (classifiable)\n",
    "       n_estimators: array of values of number of estimators that will be tested\n",
    "       max_depth: array of values that will be tested for max_depth\n",
    "       min_samples_split: array of values which will be tested for variable min_samples_split\n",
    "       min_samples_leaf: array of values which will be tested for variable min_samples_leaf\n",
    "       \n",
    "   \"\"\"\n",
    "\n",
    "    #specify the parameters that will be gone through\n",
    "    parameters = {\"n_estimators\": n_estimators,\n",
    "                  'max_depth': max_depth,\n",
    "                  'min_samples_split': min_samples_split,\n",
    "                  'min_samples_leaf': min_samples_leaf},\n",
    "\n",
    "    #lets do a crossvalidation over the entire grid and choose the best parameter-constellation\n",
    "    grid = GridSearchCV(estimator=RandomForestClassifier(random_state=0,class_weight=\"balanced\"),param_grid=parameters,\n",
    "                        scoring=\"accuracy\",cv= 5, n_jobs=-1)\n",
    "    \n",
    "    grid = grid.fit(X_train, Y_train)\n",
    "    return(grid)"
   ]
  },
  {
   "cell_type": "code",
   "execution_count": 26,
   "metadata": {},
   "outputs": [],
   "source": [
    "#define values for the arguments of randomforest\n",
    "\n",
    "#number of trees\n",
    "n_estimators = np.array([70])\n",
    "\n",
    "# maximal depth of trees\n",
    "max_depth = np.array([25])\n",
    "\n",
    "# at least min_samples_split samples split at each node\n",
    "min_samples_split = np.array([3])\n",
    "\n",
    "# at least min_samples_leaf at each leaf or terminal node\n",
    "min_samples_leaf = np.array([1])"
   ]
  },
  {
   "cell_type": "code",
   "execution_count": 27,
   "metadata": {},
   "outputs": [
    {
     "name": "stderr",
     "output_type": "stream",
     "text": [
      "C:\\Users\\frede\\anaconda3\\lib\\site-packages\\sklearn\\model_selection\\_search.py:765: DataConversionWarning: A column-vector y was passed when a 1d array was expected. Please change the shape of y to (n_samples,), for example using ravel().\n",
      "  self.best_estimator_.fit(X, y, **fit_params)\n"
     ]
    },
    {
     "name": "stdout",
     "output_type": "stream",
     "text": [
      "Best CV accuracy: 0.4615\n",
      "Test score:       0.2592\n",
      "Best parameters: {'max_depth': 25, 'min_samples_leaf': 1, 'min_samples_split': 3, 'n_estimators': 70}\n",
      "Predicted  0.0  1.0   2.0\n",
      "True                     \n",
      "0.0        137  319  2666\n",
      "1.0          7   17   124\n",
      "2.0         37   62   971\n",
      "Out of 4340 observations 1125 were classified correctly.\n"
     ]
    }
   ],
   "source": [
    "forest = randomforest(x_train_under,y_train_under1, n_estimators, max_depth, min_samples_split, min_samples_leaf)\n",
    "\n",
    "print(\"Best CV accuracy: {:.4f}\".format(forest.best_score_))\n",
    "print(\"Test score:       {:.4f}\".format(forest.score(X_test,Y_test)))\n",
    "print(\"Best parameters: {}\".format(forest.best_params_))\n",
    "\n",
    "\n",
    "#predicting on the test set\n",
    "Y_pred_rf = forest.predict(X_test)\n",
    "\n",
    "# confusing matrix\n",
    "confmat = pd.DataFrame({\"Predicted\": Y_pred_rf,\"True\": Y_test})\n",
    "\n",
    "print(confmat.groupby([\"True\",\"Predicted\"], sort=True).size().unstack(\"Predicted\"))\n",
    "\n",
    "correct = np.sum(Y_test == forest.predict(X_test))\n",
    "print(f\"Out of {len(Y_test)} observations {correct} were classified correctly.\")"
   ]
  },
  {
   "cell_type": "code",
   "execution_count": null,
   "metadata": {},
   "outputs": [],
   "source": [
    "#we only have 913 strategy==1 of a total of 17506 which is an immense imbalance sp no Y==1 are predicted\n",
    "Y_train.shape\n",
    "sum(Y_train==1)"
   ]
  },
  {
   "cell_type": "markdown",
   "metadata": {},
   "source": [
    "## 3.4 Neural Network"
   ]
  },
  {
   "cell_type": "code",
   "execution_count": 39,
   "metadata": {},
   "outputs": [],
   "source": [
    "def neuralnet(X_train, Y_train, hidden_layer, maxIter):\n",
    "    \n",
    "    \"\"\" \n",
    "    This function applies MLP Classifier on X_train and Y_train and uses grid-cross validation on the datasets.\n",
    "    :param X_train: Training Set of X values\n",
    "    :param Y_train: Training Set of Y values(factorized)\n",
    "    :param hidden_layer: array of values which will be tested for variable hidden_layer_sizes\n",
    "    :param maxIter: array of values which will be tested for variable max_iter\n",
    "        \n",
    "    \"\"\"\n",
    "\n",
    "    mlp = MLPClassifier(random_state=0, solver= \"lbfgs\", warm_start= True)\n",
    "    \n",
    "    pipe = Pipeline([('scaler', StandardScaler()), \n",
    "                     ('neural', MLPClassifier())])\n",
    "    \n",
    "    # Define the hyperparameter values to be tested\n",
    "    param_grid = {\"neural__hidden_layer_sizes\" : hidden_layer,\n",
    "                  'neural__max_iter': maxIter},\n",
    "\n",
    "\n",
    "    # Run brute-force grid search\n",
    "    #solver \"lbfgs\" has proven to be the best\n",
    "    grid = GridSearchCV(pipe,\n",
    "                  param_grid=param_grid,\n",
    "                  scoring='accuracy',\n",
    "                  cv= 5, n_jobs=-1)\n",
    "    grid = grid.fit(X_train, Y_train)\n",
    "    return(grid)"
   ]
  },
  {
   "cell_type": "code",
   "execution_count": 40,
   "metadata": {},
   "outputs": [
    {
     "name": "stdout",
     "output_type": "stream",
     "text": [
      "2021-04-12 22:38:30.805945\n",
      "Best CV accuracy: 0.5776\n",
      "Test score:       0.3253\n",
      "Best parameters: {'neural__hidden_layer_sizes': 400, 'neural__max_iter': 575}\n",
      "2021-04-12 22:40:53.480309\n",
      "Predicted  0.0   2.0\n",
      "True                \n",
      "0.0        536  2586\n",
      "1.0         17   131\n",
      "2.0        194   876\n"
     ]
    }
   ],
   "source": [
    "#neural networks (MLP)\n",
    "\n",
    "\n",
    "\n",
    "#Define arrays of values to be tested for paramgrid inside GridSearchCV function\n",
    "\n",
    "#The ith element represents the number of neurons in the ith hidden layer.\n",
    "hidden_lay = np.array([400])\n",
    "\n",
    "# Max number of iterations\n",
    "max_Iter = np.array([575])\n",
    "#Run MLP Classifier\n",
    "\n",
    "import datetime\n",
    "\n",
    "print(datetime.datetime.now())\n",
    "\n",
    "mlp = neuralnet(X_train,Y_train, hidden_lay, max_Iter)\n",
    "print('Best CV accuracy: {:.4f}'.format(mlp.best_score_))\n",
    "print('Test score:       {:.4f}'.format(mlp.score(X_test,Y_test)))\n",
    "print('Best parameters: {}'.format(mlp.best_params_))\n",
    "print(datetime.datetime.now())\n",
    "\n",
    "# Predict classes\n",
    "y_pred6 = mlp.predict(X_test)\n",
    "\n",
    "# Manual confusion matrix as pandas DataFrame\n",
    "confm = pd.DataFrame({'Predicted': y_pred6,\n",
    "                      'True': Y_test})\n",
    "print(confm.groupby(['True','Predicted'], sort=True).size().unstack('Predicted'))"
   ]
  },
  {
   "cell_type": "markdown",
   "metadata": {},
   "source": [
    "## 3.5 Deep Neural Network"
   ]
  },
  {
   "cell_type": "markdown",
   "metadata": {},
   "source": [
    "import tensorflow as tf\n",
    "from keras.models import Sequential\n",
    "from keras.layers import Dense\n",
    "\n",
    "model=Sequential()\n",
    "\n",
    "model.add(Dense(8, activation='relu', input_shape=(14,)))\n",
    "\n",
    "model.add(Dense(8, activation='relu'))\n",
    "\n",
    "model.add(Dense(1, activation='sigmoid'))\n",
    "\n",
    "\n",
    "model.compile(loss='binary_crossentropy',\n",
    "              optimizer='sgd',\n",
    "              metrics=['accuracy'])\n",
    "                   \n",
    "model.fit(X_train, Y_train,epochs=8, batch_size=1, verbose=1)"
   ]
  },
  {
   "cell_type": "markdown",
   "metadata": {},
   "source": [
    "# 4 Performance & Evaluation"
   ]
  },
  {
   "cell_type": "code",
   "execution_count": null,
   "metadata": {},
   "outputs": [],
   "source": [
    "#evaluation function for the algos (from towards data science; might be useful later)\n",
    "\n",
    "def evaluation(y, y_hat, title = 'Confusion Matrix'):\n",
    "    cm = confusion_matrix(y, y_hat)\n",
    "    precision = precision_score(y, y_hat)\n",
    "    recall = recall_score(y, y_hat)\n",
    "    accuracy = accuracy_score(y,y_hat)\n",
    "    f1 = f1_score(y,y_hat)\n",
    "    print('Recall: ', recall)\n",
    "    print('Accuracy: ', accuracy)\n",
    "    print('Precision: ', precision)\n",
    "    print('F1: ', f1)\n",
    "    sns.heatmap(cm,  cmap= 'PuBu', annot=True, fmt='g', annot_kws=    {'size':20})\n",
    "    plt.xlabel('predicted', fontsize=18)\n",
    "    plt.ylabel('actual', fontsize=18)\n",
    "    plt.title(title, fontsize=18)\n",
    "    \n",
    "    plt.show();"
   ]
  },
  {
   "cell_type": "code",
   "execution_count": null,
   "metadata": {},
   "outputs": [],
   "source": [
    "#pipelining all of the above to prevent leakage from test data into training data which might be useful later (from tds)\n",
    "def cross_validate(classifier, cv):\n",
    "    pipeline = Pipeline(steps=[\n",
    "        ('preprocess', preprocess),\n",
    "        ('classifier', classifier)\n",
    "    ])\n",
    "    train_acc = []\n",
    "    test_acc = []\n",
    "    for train_ind, val_ind in cv.split(X_train, y_train):\n",
    "        X_t, y_t = X_train.iloc[train_ind], y_train[train_ind]\n",
    "        pipeline.fit(X_t, y_t)\n",
    "        y_hat_t = pipeline.predict(X_t)\n",
    "        train_acc.append(accuracy_score(y_t, y_hat_t))\n",
    "        X_val, y_val = X_train.iloc[val_ind], y_train[val_ind]\n",
    "        y_hat_val = pipeline.predict(X_val)\n",
    "        test_acc.append(accuracy_score(y_val, y_hat_val))\n",
    "    print(evaluation(y_val, y_hat_val))\n",
    "    print('Training Accuracy: {}'.format(np.mean(train_acc)))\n",
    "    print('\\n')\n",
    "    print('Validation Accuracy: {}'.format(np.mean(test_acc)))\n",
    "    print('\\n')\n"
   ]
  },
  {
   "cell_type": "code",
   "execution_count": null,
   "metadata": {},
   "outputs": [],
   "source": []
  }
 ],
 "metadata": {
  "kernelspec": {
   "display_name": "Python 3",
   "language": "python",
   "name": "python3"
  },
  "language_info": {
   "codemirror_mode": {
    "name": "ipython",
    "version": 3
   },
   "file_extension": ".py",
   "mimetype": "text/x-python",
   "name": "python",
   "nbconvert_exporter": "python",
   "pygments_lexer": "ipython3",
   "version": "3.8.5"
  }
 },
 "nbformat": 4,
 "nbformat_minor": 4
}
