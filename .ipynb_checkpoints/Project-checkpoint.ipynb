{
 "cells": [
  {
   "cell_type": "markdown",
   "metadata": {},
   "source": [
    "# TO DO\n",
    "\n",
    "Investment Recommendation (Emi)\\\n",
    "\n",
    "Random Forest (ausser funktioniert bei allen ausser mir)\\\n",
    "\n",
    "NA/Zeros anpassen\n"
   ]
  },
  {
   "cell_type": "markdown",
   "metadata": {},
   "source": [
    "# 0 Loading packages"
   ]
  },
  {
   "cell_type": "code",
   "execution_count": 4,
   "metadata": {},
   "outputs": [],
   "source": [
    "import pandas as pd\n",
    "import numpy as np\n",
    "import matplotlib.pyplot as plt\n",
    "from sklearn.pipeline import Pipeline, make_pipeline\n",
    "from sklearn.model_selection import GridSearchCV, cross_validate, cross_val_score, StratifiedKFold\n",
    "from sklearn.preprocessing import StandardScaler\n",
    "from sklearn.preprocessing import OneHotEncoder\n",
    "from sklearn.metrics import accuracy_score, confusion_matrix, classification_report, f1_score\n",
    "from sklearn.svm import SVC\n",
    "from sklearn.ensemble import RandomForestClassifier\n",
    "from sklearn.model_selection import train_test_split\n",
    "from sklearn.feature_selection import SelectFromModel\n",
    "from sklearn.decomposition import PCA\n",
    "import statsmodels.api as sm\n",
    "from statsmodels.imputation.mice import MICE, MICEData\n",
    "from matplotlib import pyplot\n",
    "from sklearn.model_selection import KFold\n",
    "from sklearn.preprocessing import LabelEncoder\n",
    "from sklearn import preprocessing\n",
    "from sklearn.metrics import confusion_matrix\n",
    "from sklearn import metrics\n",
    "from sklearn.linear_model import LinearRegression, LogisticRegression\n",
    "from sklearn.impute import SimpleImputer\n",
    "import time\n",
    "import datetime\n",
    "from collections import Counter\n",
    "from sklearn.pipeline import Pipeline\n",
    "from sklearn.model_selection import GridSearchCV\n",
    "from sklearn.preprocessing import StandardScaler\n",
    "from sklearn.impute import SimpleImputer\n",
    "from sklearn import metrics\n",
    "from sklearn.svm import SVC\n",
    "from sklearn.ensemble import RandomForestClassifier\n",
    "from sklearn.model_selection import train_test_split\n",
    "from sklearn.linear_model import LogisticRegression\n",
    "from sklearn.experimental import enable_iterative_imputer \n",
    "from sklearn.impute import IterativeImputer\n",
    "from sklearn.neural_network import MLPClassifier\n",
    "import itertools"
   ]
  },
  {
   "cell_type": "markdown",
   "metadata": {},
   "source": [
    "# 1 Dataset Preparation\n"
   ]
  },
  {
   "cell_type": "markdown",
   "metadata": {},
   "source": [
    "### 1.1 Loading Datasets and having a first Look"
   ]
  },
  {
   "cell_type": "code",
   "execution_count": 5,
   "metadata": {},
   "outputs": [
    {
     "data": {
      "text/html": [
       "<div>\n",
       "<style scoped>\n",
       "    .dataframe tbody tr th:only-of-type {\n",
       "        vertical-align: middle;\n",
       "    }\n",
       "\n",
       "    .dataframe tbody tr th {\n",
       "        vertical-align: top;\n",
       "    }\n",
       "\n",
       "    .dataframe thead th {\n",
       "        text-align: right;\n",
       "    }\n",
       "</style>\n",
       "<table border=\"1\" class=\"dataframe\">\n",
       "  <thead>\n",
       "    <tr style=\"text-align: right;\">\n",
       "      <th></th>\n",
       "      <th>Revenue</th>\n",
       "      <th>Revenue Growth</th>\n",
       "      <th>Cost of Revenue</th>\n",
       "      <th>Gross Profit</th>\n",
       "      <th>R&amp;D Expenses</th>\n",
       "      <th>SG&amp;A Expense</th>\n",
       "      <th>Operating Expenses</th>\n",
       "      <th>Operating Income</th>\n",
       "      <th>Interest Expense</th>\n",
       "      <th>Earnings before Tax</th>\n",
       "      <th>...</th>\n",
       "      <th>Receivables growth</th>\n",
       "      <th>Inventory Growth</th>\n",
       "      <th>Asset Growth</th>\n",
       "      <th>Book Value per Share Growth</th>\n",
       "      <th>Debt Growth</th>\n",
       "      <th>R&amp;D Expense Growth</th>\n",
       "      <th>SG&amp;A Expenses Growth</th>\n",
       "      <th>Sector</th>\n",
       "      <th>2015 PRICE VAR [%]</th>\n",
       "      <th>Class</th>\n",
       "    </tr>\n",
       "  </thead>\n",
       "  <tbody>\n",
       "    <tr>\n",
       "      <th>count</th>\n",
       "      <td>3.764000e+03</td>\n",
       "      <td>3572.000000</td>\n",
       "      <td>3.734000e+03</td>\n",
       "      <td>3.756000e+03</td>\n",
       "      <td>3.672000e+03</td>\n",
       "      <td>3.749000e+03</td>\n",
       "      <td>3.745000e+03</td>\n",
       "      <td>3.753000e+03</td>\n",
       "      <td>3.745000e+03</td>\n",
       "      <td>3.728000e+03</td>\n",
       "      <td>...</td>\n",
       "      <td>3518.000000</td>\n",
       "      <td>3518.000000</td>\n",
       "      <td>3518.000000</td>\n",
       "      <td>3439.000000</td>\n",
       "      <td>3506.000000</td>\n",
       "      <td>3561.000000</td>\n",
       "      <td>3565.000000</td>\n",
       "      <td>3808</td>\n",
       "      <td>3.808000e+03</td>\n",
       "      <td>3808.000000</td>\n",
       "    </tr>\n",
       "    <tr>\n",
       "      <th>unique</th>\n",
       "      <td>NaN</td>\n",
       "      <td>NaN</td>\n",
       "      <td>NaN</td>\n",
       "      <td>NaN</td>\n",
       "      <td>NaN</td>\n",
       "      <td>NaN</td>\n",
       "      <td>NaN</td>\n",
       "      <td>NaN</td>\n",
       "      <td>NaN</td>\n",
       "      <td>NaN</td>\n",
       "      <td>...</td>\n",
       "      <td>NaN</td>\n",
       "      <td>NaN</td>\n",
       "      <td>NaN</td>\n",
       "      <td>NaN</td>\n",
       "      <td>NaN</td>\n",
       "      <td>NaN</td>\n",
       "      <td>NaN</td>\n",
       "      <td>11</td>\n",
       "      <td>NaN</td>\n",
       "      <td>NaN</td>\n",
       "    </tr>\n",
       "    <tr>\n",
       "      <th>top</th>\n",
       "      <td>NaN</td>\n",
       "      <td>NaN</td>\n",
       "      <td>NaN</td>\n",
       "      <td>NaN</td>\n",
       "      <td>NaN</td>\n",
       "      <td>NaN</td>\n",
       "      <td>NaN</td>\n",
       "      <td>NaN</td>\n",
       "      <td>NaN</td>\n",
       "      <td>NaN</td>\n",
       "      <td>...</td>\n",
       "      <td>NaN</td>\n",
       "      <td>NaN</td>\n",
       "      <td>NaN</td>\n",
       "      <td>NaN</td>\n",
       "      <td>NaN</td>\n",
       "      <td>NaN</td>\n",
       "      <td>NaN</td>\n",
       "      <td>Financial Services</td>\n",
       "      <td>NaN</td>\n",
       "      <td>NaN</td>\n",
       "    </tr>\n",
       "    <tr>\n",
       "      <th>freq</th>\n",
       "      <td>NaN</td>\n",
       "      <td>NaN</td>\n",
       "      <td>NaN</td>\n",
       "      <td>NaN</td>\n",
       "      <td>NaN</td>\n",
       "      <td>NaN</td>\n",
       "      <td>NaN</td>\n",
       "      <td>NaN</td>\n",
       "      <td>NaN</td>\n",
       "      <td>NaN</td>\n",
       "      <td>...</td>\n",
       "      <td>NaN</td>\n",
       "      <td>NaN</td>\n",
       "      <td>NaN</td>\n",
       "      <td>NaN</td>\n",
       "      <td>NaN</td>\n",
       "      <td>NaN</td>\n",
       "      <td>NaN</td>\n",
       "      <td>660</td>\n",
       "      <td>NaN</td>\n",
       "      <td>NaN</td>\n",
       "    </tr>\n",
       "    <tr>\n",
       "      <th>mean</th>\n",
       "      <td>5.879050e+09</td>\n",
       "      <td>12.954244</td>\n",
       "      <td>3.700973e+09</td>\n",
       "      <td>2.188214e+09</td>\n",
       "      <td>9.401830e+07</td>\n",
       "      <td>9.307406e+08</td>\n",
       "      <td>1.438144e+09</td>\n",
       "      <td>6.748248e+08</td>\n",
       "      <td>1.002018e+08</td>\n",
       "      <td>5.725866e+08</td>\n",
       "      <td>...</td>\n",
       "      <td>4.445793</td>\n",
       "      <td>0.164692</td>\n",
       "      <td>2.279999</td>\n",
       "      <td>0.813931</td>\n",
       "      <td>1.361780</td>\n",
       "      <td>0.596529</td>\n",
       "      <td>0.382284</td>\n",
       "      <td>NaN</td>\n",
       "      <td>9.751560e+02</td>\n",
       "      <td>0.429097</td>\n",
       "    </tr>\n",
       "    <tr>\n",
       "      <th>std</th>\n",
       "      <td>3.901741e+10</td>\n",
       "      <td>705.605473</td>\n",
       "      <td>3.040688e+10</td>\n",
       "      <td>1.159028e+10</td>\n",
       "      <td>6.408912e+08</td>\n",
       "      <td>4.820928e+09</td>\n",
       "      <td>7.305171e+09</td>\n",
       "      <td>3.786291e+09</td>\n",
       "      <td>6.991091e+08</td>\n",
       "      <td>2.793740e+09</td>\n",
       "      <td>...</td>\n",
       "      <td>161.135098</td>\n",
       "      <td>2.195115</td>\n",
       "      <td>92.428920</td>\n",
       "      <td>25.630214</td>\n",
       "      <td>18.734301</td>\n",
       "      <td>25.894049</td>\n",
       "      <td>4.696975</td>\n",
       "      <td>NaN</td>\n",
       "      <td>4.098461e+04</td>\n",
       "      <td>0.495012</td>\n",
       "    </tr>\n",
       "    <tr>\n",
       "      <th>min</th>\n",
       "      <td>-6.276160e+08</td>\n",
       "      <td>-1.773200</td>\n",
       "      <td>-5.455740e+08</td>\n",
       "      <td>-1.105000e+09</td>\n",
       "      <td>-1.500000e+05</td>\n",
       "      <td>0.000000e+00</td>\n",
       "      <td>-1.088448e+09</td>\n",
       "      <td>-6.786000e+09</td>\n",
       "      <td>-2.250000e+08</td>\n",
       "      <td>-8.878000e+09</td>\n",
       "      <td>...</td>\n",
       "      <td>-1.000000</td>\n",
       "      <td>-1.000000</td>\n",
       "      <td>-0.979600</td>\n",
       "      <td>-230.000000</td>\n",
       "      <td>-1.051000</td>\n",
       "      <td>-1.043700</td>\n",
       "      <td>-1.000000</td>\n",
       "      <td>NaN</td>\n",
       "      <td>-1.003972e+02</td>\n",
       "      <td>0.000000</td>\n",
       "    </tr>\n",
       "    <tr>\n",
       "      <th>25%</th>\n",
       "      <td>5.788880e+07</td>\n",
       "      <td>-0.002350</td>\n",
       "      <td>3.135714e+06</td>\n",
       "      <td>3.092900e+07</td>\n",
       "      <td>0.000000e+00</td>\n",
       "      <td>1.548900e+07</td>\n",
       "      <td>3.106600e+07</td>\n",
       "      <td>-1.308000e+06</td>\n",
       "      <td>0.000000e+00</td>\n",
       "      <td>-3.732902e+06</td>\n",
       "      <td>...</td>\n",
       "      <td>-0.045800</td>\n",
       "      <td>0.000000</td>\n",
       "      <td>-0.015400</td>\n",
       "      <td>-0.084550</td>\n",
       "      <td>-0.048200</td>\n",
       "      <td>0.000000</td>\n",
       "      <td>-0.003900</td>\n",
       "      <td>NaN</td>\n",
       "      <td>-2.857143e+01</td>\n",
       "      <td>0.000000</td>\n",
       "    </tr>\n",
       "    <tr>\n",
       "      <th>50%</th>\n",
       "      <td>4.349010e+08</td>\n",
       "      <td>0.061850</td>\n",
       "      <td>1.414420e+08</td>\n",
       "      <td>1.908760e+08</td>\n",
       "      <td>0.000000e+00</td>\n",
       "      <td>7.381800e+07</td>\n",
       "      <td>1.386610e+08</td>\n",
       "      <td>4.104400e+07</td>\n",
       "      <td>2.563000e+06</td>\n",
       "      <td>2.842700e+07</td>\n",
       "      <td>...</td>\n",
       "      <td>0.014250</td>\n",
       "      <td>0.000000</td>\n",
       "      <td>0.062200</td>\n",
       "      <td>0.037100</td>\n",
       "      <td>0.000000</td>\n",
       "      <td>0.000000</td>\n",
       "      <td>0.068800</td>\n",
       "      <td>NaN</td>\n",
       "      <td>-5.281842e+00</td>\n",
       "      <td>0.000000</td>\n",
       "    </tr>\n",
       "    <tr>\n",
       "      <th>75%</th>\n",
       "      <td>2.393625e+09</td>\n",
       "      <td>0.188875</td>\n",
       "      <td>1.199844e+09</td>\n",
       "      <td>8.922534e+08</td>\n",
       "      <td>9.911000e+06</td>\n",
       "      <td>3.510000e+08</td>\n",
       "      <td>5.885100e+08</td>\n",
       "      <td>2.712980e+08</td>\n",
       "      <td>4.300000e+07</td>\n",
       "      <td>2.193835e+08</td>\n",
       "      <td>...</td>\n",
       "      <td>0.205475</td>\n",
       "      <td>0.063850</td>\n",
       "      <td>0.217100</td>\n",
       "      <td>0.141900</td>\n",
       "      <td>0.210300</td>\n",
       "      <td>0.004700</td>\n",
       "      <td>0.220500</td>\n",
       "      <td>NaN</td>\n",
       "      <td>1.331484e+01</td>\n",
       "      <td>1.000000</td>\n",
       "    </tr>\n",
       "    <tr>\n",
       "      <th>max</th>\n",
       "      <td>1.824698e+12</td>\n",
       "      <td>42138.663900</td>\n",
       "      <td>1.537249e+12</td>\n",
       "      <td>4.621600e+11</td>\n",
       "      <td>1.153700e+10</td>\n",
       "      <td>1.856830e+11</td>\n",
       "      <td>3.056050e+11</td>\n",
       "      <td>1.565540e+11</td>\n",
       "      <td>3.152300e+10</td>\n",
       "      <td>8.720500e+10</td>\n",
       "      <td>...</td>\n",
       "      <td>9328.200000</td>\n",
       "      <td>76.625000</td>\n",
       "      <td>5468.426400</td>\n",
       "      <td>1360.125000</td>\n",
       "      <td>729.576600</td>\n",
       "      <td>1542.611000</td>\n",
       "      <td>225.690000</td>\n",
       "      <td>NaN</td>\n",
       "      <td>2.418601e+06</td>\n",
       "      <td>1.000000</td>\n",
       "    </tr>\n",
       "  </tbody>\n",
       "</table>\n",
       "<p>11 rows × 224 columns</p>\n",
       "</div>"
      ],
      "text/plain": [
       "             Revenue  Revenue Growth  Cost of Revenue  Gross Profit  \\\n",
       "count   3.764000e+03     3572.000000     3.734000e+03  3.756000e+03   \n",
       "unique           NaN             NaN              NaN           NaN   \n",
       "top              NaN             NaN              NaN           NaN   \n",
       "freq             NaN             NaN              NaN           NaN   \n",
       "mean    5.879050e+09       12.954244     3.700973e+09  2.188214e+09   \n",
       "std     3.901741e+10      705.605473     3.040688e+10  1.159028e+10   \n",
       "min    -6.276160e+08       -1.773200    -5.455740e+08 -1.105000e+09   \n",
       "25%     5.788880e+07       -0.002350     3.135714e+06  3.092900e+07   \n",
       "50%     4.349010e+08        0.061850     1.414420e+08  1.908760e+08   \n",
       "75%     2.393625e+09        0.188875     1.199844e+09  8.922534e+08   \n",
       "max     1.824698e+12    42138.663900     1.537249e+12  4.621600e+11   \n",
       "\n",
       "        R&D Expenses  SG&A Expense  Operating Expenses  Operating Income  \\\n",
       "count   3.672000e+03  3.749000e+03        3.745000e+03      3.753000e+03   \n",
       "unique           NaN           NaN                 NaN               NaN   \n",
       "top              NaN           NaN                 NaN               NaN   \n",
       "freq             NaN           NaN                 NaN               NaN   \n",
       "mean    9.401830e+07  9.307406e+08        1.438144e+09      6.748248e+08   \n",
       "std     6.408912e+08  4.820928e+09        7.305171e+09      3.786291e+09   \n",
       "min    -1.500000e+05  0.000000e+00       -1.088448e+09     -6.786000e+09   \n",
       "25%     0.000000e+00  1.548900e+07        3.106600e+07     -1.308000e+06   \n",
       "50%     0.000000e+00  7.381800e+07        1.386610e+08      4.104400e+07   \n",
       "75%     9.911000e+06  3.510000e+08        5.885100e+08      2.712980e+08   \n",
       "max     1.153700e+10  1.856830e+11        3.056050e+11      1.565540e+11   \n",
       "\n",
       "        Interest Expense  Earnings before Tax  ...  Receivables growth  \\\n",
       "count       3.745000e+03         3.728000e+03  ...         3518.000000   \n",
       "unique               NaN                  NaN  ...                 NaN   \n",
       "top                  NaN                  NaN  ...                 NaN   \n",
       "freq                 NaN                  NaN  ...                 NaN   \n",
       "mean        1.002018e+08         5.725866e+08  ...            4.445793   \n",
       "std         6.991091e+08         2.793740e+09  ...          161.135098   \n",
       "min        -2.250000e+08        -8.878000e+09  ...           -1.000000   \n",
       "25%         0.000000e+00        -3.732902e+06  ...           -0.045800   \n",
       "50%         2.563000e+06         2.842700e+07  ...            0.014250   \n",
       "75%         4.300000e+07         2.193835e+08  ...            0.205475   \n",
       "max         3.152300e+10         8.720500e+10  ...         9328.200000   \n",
       "\n",
       "        Inventory Growth  Asset Growth  Book Value per Share Growth  \\\n",
       "count        3518.000000   3518.000000                  3439.000000   \n",
       "unique               NaN           NaN                          NaN   \n",
       "top                  NaN           NaN                          NaN   \n",
       "freq                 NaN           NaN                          NaN   \n",
       "mean            0.164692      2.279999                     0.813931   \n",
       "std             2.195115     92.428920                    25.630214   \n",
       "min            -1.000000     -0.979600                  -230.000000   \n",
       "25%             0.000000     -0.015400                    -0.084550   \n",
       "50%             0.000000      0.062200                     0.037100   \n",
       "75%             0.063850      0.217100                     0.141900   \n",
       "max            76.625000   5468.426400                  1360.125000   \n",
       "\n",
       "        Debt Growth  R&D Expense Growth  SG&A Expenses Growth  \\\n",
       "count   3506.000000         3561.000000           3565.000000   \n",
       "unique          NaN                 NaN                   NaN   \n",
       "top             NaN                 NaN                   NaN   \n",
       "freq            NaN                 NaN                   NaN   \n",
       "mean       1.361780            0.596529              0.382284   \n",
       "std       18.734301           25.894049              4.696975   \n",
       "min       -1.051000           -1.043700             -1.000000   \n",
       "25%       -0.048200            0.000000             -0.003900   \n",
       "50%        0.000000            0.000000              0.068800   \n",
       "75%        0.210300            0.004700              0.220500   \n",
       "max      729.576600         1542.611000            225.690000   \n",
       "\n",
       "                    Sector  2015 PRICE VAR [%]        Class  \n",
       "count                 3808        3.808000e+03  3808.000000  \n",
       "unique                  11                 NaN          NaN  \n",
       "top     Financial Services                 NaN          NaN  \n",
       "freq                   660                 NaN          NaN  \n",
       "mean                   NaN        9.751560e+02     0.429097  \n",
       "std                    NaN        4.098461e+04     0.495012  \n",
       "min                    NaN       -1.003972e+02     0.000000  \n",
       "25%                    NaN       -2.857143e+01     0.000000  \n",
       "50%                    NaN       -5.281842e+00     0.000000  \n",
       "75%                    NaN        1.331484e+01     1.000000  \n",
       "max                    NaN        2.418601e+06     1.000000  \n",
       "\n",
       "[11 rows x 224 columns]"
      ]
     },
     "metadata": {},
     "output_type": "display_data"
    },
    {
     "data": {
      "text/plain": [
       "Revenue                 float64\n",
       "Revenue Growth          float64\n",
       "Cost of Revenue         float64\n",
       "Gross Profit            float64\n",
       "R&D Expenses            float64\n",
       "                         ...   \n",
       "R&D Expense Growth      float64\n",
       "SG&A Expenses Growth    float64\n",
       "Sector                   object\n",
       "2015 PRICE VAR [%]      float64\n",
       "Class                     int64\n",
       "Length: 224, dtype: object"
      ]
     },
     "metadata": {},
     "output_type": "display_data"
    },
    {
     "data": {
      "text/plain": [
       "<bound method DataFrame.info of             Revenue  Revenue Growth  Cost of Revenue  Gross Profit  \\\n",
       "PG     7.440100e+10         -0.0713     3.903000e+10  3.537100e+10   \n",
       "VIPS   3.734148e+09          1.1737     2.805625e+09  9.285226e+08   \n",
       "KR     9.837500e+10          0.0182     7.813800e+10  2.023700e+10   \n",
       "RAD    2.552641e+10          0.0053     1.820268e+10  7.323734e+09   \n",
       "GIS    1.790960e+10          0.0076     1.153980e+10  6.369800e+09   \n",
       "...             ...             ...              ...           ...   \n",
       "TSRI   4.952987e+07          0.1028     4.125164e+07  8.278229e+06   \n",
       "TZOO   1.532400e+08         -0.1019     1.917400e+07  1.340660e+08   \n",
       "USATP  4.200000e+07             NaN     2.700000e+07  1.500000e+07   \n",
       "WSTG   3.407580e+08          0.1344     3.159480e+08  2.481000e+07   \n",
       "WTT    4.033737e+07          0.1925     2.129368e+07  1.904369e+07   \n",
       "\n",
       "       R&D Expenses  SG&A Expense  Operating Expenses  Operating Income  \\\n",
       "PG     0.000000e+00  2.146100e+10        2.146100e+10      1.391000e+10   \n",
       "VIPS   1.083303e+08  3.441414e+08        7.939267e+08      1.345959e+08   \n",
       "KR     0.000000e+00  1.519600e+10        1.751200e+10      2.725000e+09   \n",
       "RAD    0.000000e+00  6.561162e+09        6.586482e+09      7.372520e+08   \n",
       "GIS    0.000000e+00  3.474300e+09        3.412400e+09      2.957400e+09   \n",
       "...             ...           ...                 ...               ...   \n",
       "TSRI   0.000000e+00  8.253061e+06        8.253061e+06      2.516800e+04   \n",
       "TZOO   1.132600e+07  1.125130e+08        1.162560e+08      1.781000e+07   \n",
       "USATP           NaN  1.400000e+07        1.500000e+07      0.000000e+00   \n",
       "WSTG   0.000000e+00  1.651300e+07        1.651300e+07      8.297000e+06   \n",
       "WTT    3.379920e+06  1.098477e+07        1.436469e+07      4.679002e+06   \n",
       "\n",
       "       Interest Expense  Earnings before Tax  ...  Receivables growth  \\\n",
       "PG         7.090000e+08         1.449400e+10  ...             -0.0187   \n",
       "VIPS       1.214869e+07         1.753823e+08  ...                 NaN   \n",
       "KR         4.430000e+08         2.270000e+09  ...              0.0618   \n",
       "RAD        4.245910e+08         2.502180e+08  ...              0.0211   \n",
       "GIS        3.024000e+08         2.707700e+09  ...              0.0257   \n",
       "...                 ...                  ...  ...                 ...   \n",
       "TSRI       0.000000e+00        -6.893600e+04  ...             -0.0384   \n",
       "TZOO       0.000000e+00         1.790100e+07  ...              0.1529   \n",
       "USATP      0.000000e+00         0.000000e+00  ...                 NaN   \n",
       "WSTG      -4.720000e+05         8.758000e+06  ...             -0.0333   \n",
       "WTT        0.000000e+00         4.588870e+06  ...             -0.0469   \n",
       "\n",
       "       Inventory Growth  Asset Growth  Book Value per Share Growth  \\\n",
       "PG              -0.0217        0.0359                       0.0316   \n",
       "VIPS                NaN           NaN                          NaN   \n",
       "KR               0.0981        0.1886                       0.3268   \n",
       "RAD             -0.0510       -0.0189                       0.1963   \n",
       "GIS              0.0090        0.0215                       0.0274   \n",
       "...                 ...           ...                          ...   \n",
       "TSRI             0.0000       -0.0041                      -0.0049   \n",
       "TZOO             0.0000       -0.1872                       0.1823   \n",
       "USATP               NaN           NaN                          NaN   \n",
       "WSTG             0.1338        0.0023                       0.0890   \n",
       "WTT              0.0455       -0.1646                      -0.0226   \n",
       "\n",
       "       Debt Growth  R&D Expense Growth  SG&A Expenses Growth  \\\n",
       "PG          0.1228              0.0000               -0.1746   \n",
       "VIPS           NaN              1.6484                1.7313   \n",
       "KR          0.2738              0.0000                0.0234   \n",
       "RAD        -0.0458              0.0000               -0.0060   \n",
       "GIS         0.1025              0.0000               -0.0220   \n",
       "...            ...                 ...                   ...   \n",
       "TSRI        0.0000              0.0000                0.0213   \n",
       "TZOO        0.0000              0.2830               -0.0637   \n",
       "USATP          NaN                 NaN                   NaN   \n",
       "WSTG        0.0000              0.0000                0.0650   \n",
       "WTT        -0.4594              0.2778               -0.0268   \n",
       "\n",
       "                   Sector  2015 PRICE VAR [%]  Class  \n",
       "PG     Consumer Defensive           -9.323276      0  \n",
       "VIPS   Consumer Defensive          -25.512193      0  \n",
       "KR     Consumer Defensive           33.118297      1  \n",
       "RAD    Consumer Defensive            2.752291      1  \n",
       "GIS    Consumer Defensive           12.897715      1  \n",
       "...                   ...                 ...    ...  \n",
       "TSRI           Technology           29.362884      1  \n",
       "TZOO           Technology          -31.167763      0  \n",
       "USATP          Technology          -23.558900      0  \n",
       "WSTG           Technology            7.779579      1  \n",
       "WTT            Technology          -34.099613      0  \n",
       "\n",
       "[3808 rows x 224 columns]>"
      ]
     },
     "metadata": {},
     "output_type": "display_data"
    }
   ],
   "source": [
    "#index_col=0 to make the companies/ the dates the indizes\n",
    "\n",
    "sp=pd.read_csv(\"Data/SP500.csv\",sep=\",\",index_col=0)\n",
    "\n",
    "# GDP and Inflation less important than thought\n",
    "# gdp = pd.read_csv(\"Data/GDP USA.csv\", sep=\",\", index_col=0)\n",
    "# infl = pd.read_csv(\"Data/INFL.csv\",sep=\",\", index_col=0)\n",
    "\n",
    "df14=pd.read_csv(\"Data/2014_Financial_Data.csv\",sep=\",\",index_col=0)\n",
    "df15=pd.read_csv(\"Data/2015_Financial_Data.csv\",sep=\",\",index_col=0)\n",
    "df16=pd.read_csv(\"Data/2016_Financial_Data.csv\",sep=\",\",index_col=0)\n",
    "df17=pd.read_csv(\"Data/2017_Financial_Data.csv\",sep=\",\",index_col=0)\n",
    "df18=pd.read_csv(\"Data/2018_Financial_Data.csv\",sep=\",\",index_col=0)\n",
    "\n",
    "#first overview\n",
    "\n",
    "display(df14.describe(include=\"all\"),df14.dtypes,df14.info)"
   ]
  },
  {
   "cell_type": "markdown",
   "metadata": {},
   "source": [
    "### 1.2 Getting rid of the Year-Dependence in PRICE_VAR"
   ]
  },
  {
   "cell_type": "code",
   "execution_count": 6,
   "metadata": {},
   "outputs": [],
   "source": [
    "df14.rename(columns={\"2015 PRICE VAR [%]\": \"PRICE_VAR\"},inplace=True)\n",
    "df15.rename(columns={\"2016 PRICE VAR [%]\": \"PRICE_VAR\"},inplace=True)\n",
    "df16.rename(columns={\"2017 PRICE VAR [%]\": \"PRICE_VAR\"},inplace=True)\n",
    "df17.rename(columns={\"2018 PRICE VAR [%]\": \"PRICE_VAR\"},inplace=True)\n",
    "df18.rename(columns={\"2019 PRICE VAR [%]\": \"PRICE_VAR\"},inplace=True)"
   ]
  },
  {
   "cell_type": "markdown",
   "metadata": {},
   "source": [
    "### 1.3 Inflation and GDP"
   ]
  },
  {
   "cell_type": "code",
   "execution_count": 7,
   "metadata": {},
   "outputs": [],
   "source": [
    "# create variables for gdp and inflation per year\n",
    "# GDP and Inflation less important than thought\n",
    "# gdp14 = gdp.iloc[1][0] * 1000000000\n",
    "# gdp15 = gdp.iloc[2][0] * 1000000000\n",
    "# gdp16 = gdp.iloc[3][0] * 1000000000\n",
    "# gdp17 = gdp.iloc[4][0] * 1000000000\n",
    "# gdp18 = gdp.iloc[5][0] * 1000000000\n",
    "\n",
    "# infl14 = infl.iloc[0][0]\n",
    "# infl15 = infl.iloc[1][0]\n",
    "# infl16 = infl.iloc[2][0]\n",
    "# infl17 = infl.iloc[3][0]\n",
    "# infl18 = infl.iloc[4][0]"
   ]
  },
  {
   "cell_type": "code",
   "execution_count": 8,
   "metadata": {},
   "outputs": [],
   "source": [
    "# #adding the variables to the dataset\n",
    "# # GDP and Inflation less important than thought\n",
    "# all_data=[df14,df15,df16,df17,df18]\n",
    "# all_gdp=[gdp14,gdp15,gdp16,gdp17,gdp18]\n",
    "# all_infl=[infl14,infl15,infl16,infl17,infl18]\n",
    "\n",
    "# for data, gdp in zip(all_data, all_gdp):\n",
    "#     data[\"GDP\"] = gdp\n",
    "\n",
    "# for data, infl in zip(all_data, all_infl):\n",
    "#     data[\"Inflation\"] = infl"
   ]
  },
  {
   "cell_type": "markdown",
   "metadata": {},
   "source": [
    "We tried using additional variables such as GDP and Inflation data but as the data was merely on a yearly level, it did not yield additional information but only cause problems with collinearity of the data, which is why we settled on not using it."
   ]
  },
  {
   "cell_type": "markdown",
   "metadata": {},
   "source": [
    "### 1.3 Creating a Year Variable"
   ]
  },
  {
   "cell_type": "code",
   "execution_count": 9,
   "metadata": {},
   "outputs": [],
   "source": [
    "#creating year variable\n",
    "\n",
    "all_data=[df14,df15,df16,df17,df18]\n",
    "\n",
    "count=0\n",
    "for data in all_data:\n",
    "    data[\"year\"]=2014+count\n",
    "    count+=1\n",
    "    \n",
    "#converting to cat. variable\n",
    "\n",
    "for data in all_data:\n",
    "        data[\"year\"]=data.year.astype(\"category\")"
   ]
  },
  {
   "cell_type": "markdown",
   "metadata": {},
   "source": [
    "We create a column with a year category for all the years in order to later be able to easily select subsets of the datasets for e.g the Train/Test split, which we do yearwise."
   ]
  },
  {
   "cell_type": "markdown",
   "metadata": {},
   "source": [
    "### 1.4 Creating Variables for the S&P500 Performances "
   ]
  },
  {
   "cell_type": "code",
   "execution_count": 10,
   "metadata": {},
   "outputs": [],
   "source": [
    "#creating the values with the perf. of the s&p to compare the companies to\n",
    "\n",
    "sp15_performance=sp.loc[\"2015-12-31\"].item()\n",
    "sp16_performance=sp.loc[\"2016-12-30\"].item()\n",
    "sp17_performance=sp.loc[\"2017-12-29\"].item()\n",
    "sp18_performance=sp.loc[\"2018-12-31\"].item()\n",
    "sp19_performance=sp.loc[\"2019-12-31\"].item()\n",
    "\n",
    "#list with the performances\n",
    "\n",
    "sp_performances=[sp15_performance,sp16_performance,sp17_performance,sp18_performance,sp19_performance]"
   ]
  },
  {
   "cell_type": "markdown",
   "metadata": {},
   "source": [
    "### 1.5 Creating our Target Variable Strategy"
   ]
  },
  {
   "cell_type": "code",
   "execution_count": 11,
   "metadata": {},
   "outputs": [],
   "source": [
    "all_data=[df14,df15,df16,df17,df18]\n",
    "\n",
    "#preallocation for faster results\n",
    "\n",
    "for data in all_data:\n",
    "    data[\"strategy\"]=\"\"\n",
    "\n",
    "for data,value in zip(all_data,sp_performances):\n",
    "        data[\"strategy\"] = np.where((data[\"PRICE_VAR\"].subtract(value)) > 2.5, [\"buy\"], data[\"strategy\"])\n",
    "        data[\"strategy\"] = np.where((data[\"PRICE_VAR\"].subtract(value) <= 2.5) &\n",
    "                            (data[\"PRICE_VAR\"].subtract(value) >= -2.5), [\"hold\"], data[\"strategy\"])\n",
    "        data[\"strategy\"] = np.where((data[\"PRICE_VAR\"].subtract(value)) < -2.5, [\"sell\"], data[\"strategy\"])\n",
    "\n",
    "#making it a categorical variable where 2 is sell, 1 is hold and 0 is buy\n",
    "\n",
    "from sklearn import preprocessing as pp\n",
    "le=pp.LabelEncoder()\n",
    "\n",
    "for data in all_data:\n",
    "    data[\"strategy\"]=le.fit_transform(data[\"strategy\"])"
   ]
  },
  {
   "cell_type": "markdown",
   "metadata": {},
   "source": [
    "### 1.6 Combining the Datasets using pd.concat()"
   ]
  },
  {
   "cell_type": "code",
   "execution_count": 12,
   "metadata": {},
   "outputs": [],
   "source": [
    "#combining to make final structure\n",
    "\n",
    "df=pd.concat([df14,df15,df16,df17,df18])"
   ]
  },
  {
   "cell_type": "markdown",
   "metadata": {},
   "source": [
    "### 1.7 Changing Datatype for Sector and Dropping the Class Variable"
   ]
  },
  {
   "cell_type": "code",
   "execution_count": 13,
   "metadata": {},
   "outputs": [],
   "source": [
    "#datatype\n",
    "\n",
    "df[\"Sector\"]=le.fit_transform(df[\"Sector\"])\n",
    "\n",
    "# drop unnecessary columns\n",
    "\n",
    "df.drop(['Class'], inplace=True, axis=1)"
   ]
  },
  {
   "cell_type": "markdown",
   "metadata": {},
   "source": [
    "# 2 Getting to know our data"
   ]
  },
  {
   "cell_type": "markdown",
   "metadata": {},
   "source": [
    "### 2.1 Exploratory Data Analysis and Visualization"
   ]
  },
  {
   "cell_type": "code",
   "execution_count": 14,
   "metadata": {},
   "outputs": [
    {
     "data": {
      "image/png": "[encoded data removed]",
      "text/plain": [
       "<Figure size 432x288 with 1 Axes>"
      ]
     },
     "metadata": {
      "needs_background": "light"
     },
     "output_type": "display_data"
    }
   ],
   "source": [
    "#boxplots of PRICE_VAR as its somewhat our target variable\n",
    "\n",
    "price=df[\"PRICE_VAR\"]\n",
    "plt.boxplot(price)\n",
    "plt.show()"
   ]
  },
  {
   "cell_type": "markdown",
   "metadata": {},
   "source": [
    "We want to have a look at the distribution of $\\textrm{PRICE_VAR}$ as our target variable is - to a large extent - made up by the variable $\\textrm{PRICE_VAR}$. We want to look out for outliers. Use a better plot."
   ]
  },
  {
   "cell_type": "markdown",
   "metadata": {},
   "source": [
    "### 2.2 Correlations"
   ]
  },
  {
   "cell_type": "code",
   "execution_count": 15,
   "metadata": {},
   "outputs": [
    {
     "data": {
      "text/plain": [
       "PRICE_VAR                                    1.000000\n",
       "operatingCycle                               0.161038\n",
       "cashConversionCycle                          0.087703\n",
       "SG&A Expenses Growth                         0.032797\n",
       "3Y Shareholders Equity Growth (per Share)    0.009771\n",
       "                                               ...   \n",
       "10Y Revenue Growth (per Share)              -0.019559\n",
       "Graham Net-Net                              -0.022868\n",
       "Earnings Yield                              -0.047149\n",
       "Free Cash Flow Yield                        -0.943080\n",
       "operatingProfitMargin                             NaN\n",
       "Length: 222, dtype: float64"
      ]
     },
     "execution_count": 15,
     "metadata": {},
     "output_type": "execute_result"
    }
   ],
   "source": [
    "#correlations with PRICE_VAR (sort of our target variable)\n",
    "\n",
    "df_num = df.select_dtypes(include=[\"float64\"])\n",
    "\n",
    "corr_feat = df_num.corrwith(df_num[\"PRICE_VAR\"])\n",
    "\n",
    "#sorting by importance\n",
    "corr_imp = corr_feat.sort_values(ascending=False)\n",
    "corr_imp\n",
    "\n",
    "#we have very interesting variables s.a Free Cash Flow Yield and SG&A Expenses Growth\n",
    "#check that they are not deleted"
   ]
  },
  {
   "cell_type": "markdown",
   "metadata": {},
   "source": [
    "As we are trying to classify a Buy/Hold/Sell strategy, we want to know which features are strongly correlated with $\\textrm{PRICE_VAR}$ as they are important. We later also need to check that we do not loose them due to NA values or Zero values."
   ]
  },
  {
   "cell_type": "markdown",
   "metadata": {},
   "source": [
    "### 2.3 Correlations between the features"
   ]
  },
  {
   "cell_type": "code",
   "execution_count": 16,
   "metadata": {},
   "outputs": [
    {
     "data": {
      "text/plain": [
       "<AxesSubplot:>"
      ]
     },
     "execution_count": 16,
     "metadata": {},
     "output_type": "execute_result"
    },
    {
     "data": {
      "image/png": "[encoded data removed]",
      "text/plain": [
       "<Figure size 864x720 with 2 Axes>"
      ]
     },
     "metadata": {
      "needs_background": "light"
     },
     "output_type": "display_data"
    }
   ],
   "source": [
    "#correlation matrix (PRICE_VAR taken out; already done that)\n",
    "#look at strongly correlated features\n",
    "\n",
    "import seaborn as sns\n",
    "\n",
    "corr=df_num.drop(\"PRICE_VAR\",axis=1).corr()\n",
    "\n",
    "plt.figure(figsize=(12,10))\n",
    "sns.heatmap(corr[(corr >= 0.8) | (corr <= -0.8)],\n",
    "            cmap='viridis', vmax=1.0, vmin=-1.0, linewidths=0.1,annot=True, \n",
    "            annot_kws={\"size\": 8}, square=True)"
   ]
  },
  {
   "cell_type": "markdown",
   "metadata": {},
   "source": [
    "# 3 Further Preprocessing "
   ]
  },
  {
   "cell_type": "markdown",
   "metadata": {},
   "source": [
    "### 3.1 Missing Values"
   ]
  },
  {
   "cell_type": "code",
   "execution_count": 17,
   "metadata": {},
   "outputs": [],
   "source": [
    "# As we don't want to lose any values from some columns, we need to exclude them before we start handling nan / zero-values\n",
    "# therefore we store the columns for later and drop them for now\n",
    "strategy_data = df.loc[:, ['strategy']]\n",
    "sector_data = df.loc[:, ['Sector']]\n",
    "price_data = df.loc[:, ['PRICE_VAR']]\n",
    "df.drop(['strategy', 'Sector', 'PRICE_VAR'], inplace=True, axis=1)"
   ]
  },
  {
   "cell_type": "code",
   "execution_count": 18,
   "metadata": {},
   "outputs": [
    {
     "data": {
      "image/png": "[encoded data removed]",
      "text/plain": [
       "<Figure size 1080x720 with 2 Axes>"
      ]
     },
     "metadata": {
      "needs_background": "light"
     },
     "output_type": "display_data"
    }
   ],
   "source": [
    "# to get some insight what percentage of nan/zero-values we have in the dataset, we visualize this by barchart\n",
    "total_nans = df.isnull().sum().sort_values(ascending=False)\n",
    "percent_nans = (df.isnull().sum()/df.isnull().count() * 100).sort_values(ascending=False)\n",
    "total_zeros = df.isin([0]).sum().sort_values(ascending=False)\n",
    "percent_zeros = (df.isin([0]).sum()/df.isin([0]).count() * 100).sort_values(ascending=False)\n",
    "df_nans = pd.concat([total_nans, percent_nans], axis=1, keys=['Total NaN', 'Percent NaN'])\n",
    "df_zeros = pd.concat([total_zeros, percent_zeros], axis=1, keys=['Total Zeros', 'Percent Zeros'])\n",
    "\n",
    "# Graphs\n",
    "plt.figure(figsize=(15,10))\n",
    "plt.subplot(2,1,1)\n",
    "plt.barh(np.arange(20), df_nans['Percent NaN'].iloc[:20].values.tolist(), color='silver')\n",
    "plt.yticks(np.arange(20), df_nans['Percent NaN'].iloc[:20].index.values.tolist())\n",
    "plt.xlabel('NAN-Values in %', fontsize=18)\n",
    "plt.grid(alpha=0.3, axis='y')\n",
    "\n",
    "plt.subplot(2,1,2)\n",
    "plt.barh(np.arange(20), df_zeros['Percent Zeros'].iloc[:20].values.tolist(), color='silver')\n",
    "plt.yticks(np.arange(20), df_zeros['Percent Zeros'].iloc[:20].index.values.tolist())\n",
    "plt.xlabel('Zero-Values in %', fontsize=18)\n",
    "plt.grid(alpha=0.3, axis='y')\n",
    "plt.show()"
   ]
  },
  {
   "cell_type": "code",
   "execution_count": 19,
   "metadata": {},
   "outputs": [
    {
     "name": "stdout",
     "output_type": "stream",
     "text": [
      "Total NaN      6535.000000\n",
      "Percent NaN      29.600942\n",
      "Name: 0.9, dtype: float64\n",
      "Total Zeros      9310.700000\n",
      "Percent Zeros      42.173755\n",
      "Name: 0.9, dtype: float64\n"
     ]
    }
   ],
   "source": [
    "# we need to find a reasonable threshold to deal with the nan's and zeros\n",
    "# we define to drop the top 10%\n",
    "\n",
    "#nan's\n",
    "test_nan_level = 0.9\n",
    "print(df_nans.quantile(test_nan_level))\n",
    "_, thresh_nan = df_nans.quantile(test_nan_level)\n",
    "\n",
    "#zeros\n",
    "test_zeros_level = 0.9\n",
    "print(df_zeros.quantile(test_zeros_level))\n",
    "_, thresh_zeros = df_zeros.quantile(test_zeros_level)"
   ]
  },
  {
   "cell_type": "code",
   "execution_count": 20,
   "metadata": {},
   "outputs": [
    {
     "name": "stdout",
     "output_type": "stream",
     "text": [
      "INITIAL NUMBER OF VARIABLES: 222\n",
      "\n",
      "NUMBER OF VARIABLES AFTER NaN THRESHOLD 29.60%: 200\n",
      "\n",
      "NUMBER OF VARIABLES AFTER Zeros THRESHOLD 42.17%: 177\n"
     ]
    }
   ],
   "source": [
    "# we clean our dataset by applying the thresholds for both zeros, nan's\n",
    "print(f'INITIAL NUMBER OF VARIABLES: {df.shape[1]}')\n",
    "print()\n",
    "\n",
    "df_test1 = df.drop((df_nans[df_nans['Percent NaN'] > thresh_nan]).index, 1)\n",
    "print(f'NUMBER OF VARIABLES AFTER NaN THRESHOLD {thresh_nan:.2f}%: {df_test1.shape[1]}')\n",
    "print()\n",
    "\n",
    "df_zeros_postnan = df_zeros.drop((df_nans[df_nans['Percent NaN'] > thresh_nan]).index, axis=0)\n",
    "df_test2 = df_test1.drop((df_zeros_postnan[df_zeros_postnan['Percent Zeros'] > thresh_zeros]).index, 1)\n",
    "print(f'NUMBER OF VARIABLES AFTER Zeros THRESHOLD {thresh_zeros:.2f}%: {df_test2.shape[1]}')"
   ]
  },
  {
   "cell_type": "code",
   "execution_count": 21,
   "metadata": {},
   "outputs": [],
   "source": [
    "# sector and strategy need to be added to df_test2\n",
    "df_test2['PRICE_VAR'] = price_data.values\n",
    "df_test2['Sector'] = sector_data.values\n",
    "df_test2['strategy'] = strategy_data.values"
   ]
  },
  {
   "cell_type": "code",
   "execution_count": 22,
   "metadata": {},
   "outputs": [
    {
     "data": {
      "text/plain": [
       "(3808, 180)"
      ]
     },
     "metadata": {},
     "output_type": "display_data"
    },
    {
     "data": {
      "text/plain": [
       "(4120, 180)"
      ]
     },
     "metadata": {},
     "output_type": "display_data"
    },
    {
     "data": {
      "text/plain": [
       "(4797, 180)"
      ]
     },
     "metadata": {},
     "output_type": "display_data"
    },
    {
     "data": {
      "text/plain": [
       "(4960, 180)"
      ]
     },
     "metadata": {},
     "output_type": "display_data"
    },
    {
     "data": {
      "text/plain": [
       "(4392, 180)"
      ]
     },
     "metadata": {},
     "output_type": "display_data"
    }
   ],
   "source": [
    "# create clean years\n",
    "df14_clean = df_test2[df_test2['year']==2014]\n",
    "df15_clean = df_test2[df_test2['year']==2015]\n",
    "df16_clean = df_test2[df_test2['year']==2016]\n",
    "df17_clean = df_test2[df_test2['year']==2017]\n",
    "df18_clean = df_test2[df_test2['year']==2018]\n",
    "\n",
    "display(df14_clean.shape, df15_clean.shape, df16_clean.shape, df17_clean.shape, df18_clean.shape)"
   ]
  },
  {
   "cell_type": "markdown",
   "metadata": {},
   "source": [
    "### 3.2 Balancedness of the Target Variable"
   ]
  },
  {
   "cell_type": "code",
   "execution_count": 23,
   "metadata": {},
   "outputs": [
    {
     "data": {
      "text/plain": [
       "8587"
      ]
     },
     "metadata": {},
     "output_type": "display_data"
    },
    {
     "data": {
      "text/plain": [
       "1506"
      ]
     },
     "metadata": {},
     "output_type": "display_data"
    },
    {
     "data": {
      "text/plain": [
       "11984"
      ]
     },
     "metadata": {},
     "output_type": "display_data"
    },
    {
     "data": {
      "image/png": "[encoded data removed]",
      "text/plain": [
       "<Figure size 360x360 with 1 Axes>"
      ]
     },
     "metadata": {
      "needs_background": "light"
     },
     "output_type": "display_data"
    }
   ],
   "source": [
    "#going on a journey to search for outliers/check balancedness of the dataset\n",
    "import seaborn as sns\n",
    "\n",
    "sns.catplot(x=\"strategy\", kind=\"count\", palette =\"ch:.25\", data=df_test2)\n",
    "\n",
    "display(sum(df_test2[\"strategy\"]==0),sum(df_test2[\"strategy\"]==1),sum(df_test2[\"strategy\"]==2))"
   ]
  },
  {
   "cell_type": "markdown",
   "metadata": {},
   "source": [
    "Our target variable $\\textrm{strategy}$ is hugely imbalanced. There are $8587$ situations where one should have bought, $1506$ situations where one should held and $11984$ situations where one should have sold. We need to correct that which will be done using resampling techniques under..."
   ]
  },
  {
   "cell_type": "markdown",
   "metadata": {},
   "source": [
    "### 3.3 Outliers "
   ]
  },
  {
   "cell_type": "code",
   "execution_count": 24,
   "metadata": {},
   "outputs": [
    {
     "name": "stdout",
     "output_type": "stream",
     "text": [
      "113 STOCKS with more than 300% gain.\n"
     ]
    }
   ],
   "source": [
    "# Get stocks that increased more than 200%\n",
    "\n",
    "gain = 300\n",
    "\n",
    "top_gainers = df_test2[df_test2[\"PRICE_VAR\"] >= gain]\n",
    "top_gainers = top_gainers[\"PRICE_VAR\"].sort_values(ascending=False)\n",
    "print(f\"{len(top_gainers)} STOCKS with more than {gain}% gain.\")\n",
    "df_test2_drop = df_test2.drop(top_gainers.index)"
   ]
  },
  {
   "cell_type": "markdown",
   "metadata": {},
   "source": [
    "#### 3.3.1 Visualization of Outliers to get Convinced"
   ]
  },
  {
   "cell_type": "code",
   "execution_count": 25,
   "metadata": {},
   "outputs": [
    {
     "data": {
      "image/png": "[encoded data removed]",
      "text/plain": [
       "<Figure size 2160x360 with 1 Axes>"
      ]
     },
     "metadata": {
      "needs_background": "light"
     },
     "output_type": "display_data"
    },
    {
     "ename": "KeyboardInterrupt",
     "evalue": "",
     "output_type": "error",
     "traceback": [
      "\u001b[1;31m---------------------------------------------------------------------------\u001b[0m",
      "\u001b[1;31mKeyboardInterrupt\u001b[0m                         Traceback (most recent call last)",
      "\u001b[1;32m<ipython-input-25-231f0b1b7848>\u001b[0m in \u001b[0;36m<module>\u001b[1;34m\u001b[0m\n\u001b[0;32m     13\u001b[0m         \u001b[0mplt\u001b[0m\u001b[1;33m.\u001b[0m\u001b[0mplot\u001b[0m\u001b[1;33m(\u001b[0m\u001b[0mtemp\u001b[0m\u001b[1;33m[\u001b[0m\u001b[1;34m\"PRICE_VAR\"\u001b[0m\u001b[1;33m]\u001b[0m\u001b[1;33m)\u001b[0m\u001b[1;33m\u001b[0m\u001b[1;33m\u001b[0m\u001b[0m\n\u001b[0;32m     14\u001b[0m         \u001b[0mplt\u001b[0m\u001b[1;33m.\u001b[0m\u001b[0mtitle\u001b[0m\u001b[1;33m(\u001b[0m\u001b[0msector\u001b[0m\u001b[1;33m,\u001b[0m\u001b[0mfontsize\u001b[0m\u001b[1;33m=\u001b[0m\u001b[1;36m20\u001b[0m\u001b[1;33m)\u001b[0m\u001b[1;33m\u001b[0m\u001b[1;33m\u001b[0m\u001b[0m\n\u001b[1;32m---> 15\u001b[1;33m         \u001b[0mplt\u001b[0m\u001b[1;33m.\u001b[0m\u001b[0mshow\u001b[0m\u001b[1;33m(\u001b[0m\u001b[1;33m)\u001b[0m\u001b[1;33m\u001b[0m\u001b[1;33m\u001b[0m\u001b[0m\n\u001b[0m",
      "\u001b[1;32m~\\anaconda3\\lib\\site-packages\\matplotlib\\pyplot.py\u001b[0m in \u001b[0;36mshow\u001b[1;34m(*args, **kwargs)\u001b[0m\n\u001b[0;32m    351\u001b[0m     \"\"\"\n\u001b[0;32m    352\u001b[0m     \u001b[0m_warn_if_gui_out_of_main_thread\u001b[0m\u001b[1;33m(\u001b[0m\u001b[1;33m)\u001b[0m\u001b[1;33m\u001b[0m\u001b[1;33m\u001b[0m\u001b[0m\n\u001b[1;32m--> 353\u001b[1;33m     \u001b[1;32mreturn\u001b[0m \u001b[0m_backend_mod\u001b[0m\u001b[1;33m.\u001b[0m\u001b[0mshow\u001b[0m\u001b[1;33m(\u001b[0m\u001b[1;33m*\u001b[0m\u001b[0margs\u001b[0m\u001b[1;33m,\u001b[0m \u001b[1;33m**\u001b[0m\u001b[0mkwargs\u001b[0m\u001b[1;33m)\u001b[0m\u001b[1;33m\u001b[0m\u001b[1;33m\u001b[0m\u001b[0m\n\u001b[0m\u001b[0;32m    354\u001b[0m \u001b[1;33m\u001b[0m\u001b[0m\n\u001b[0;32m    355\u001b[0m \u001b[1;33m\u001b[0m\u001b[0m\n",
      "\u001b[1;32m~\\anaconda3\\lib\\site-packages\\ipykernel\\pylab\\backend_inline.py\u001b[0m in \u001b[0;36mshow\u001b[1;34m(close, block)\u001b[0m\n\u001b[0;32m     39\u001b[0m     \u001b[1;32mtry\u001b[0m\u001b[1;33m:\u001b[0m\u001b[1;33m\u001b[0m\u001b[1;33m\u001b[0m\u001b[0m\n\u001b[0;32m     40\u001b[0m         \u001b[1;32mfor\u001b[0m \u001b[0mfigure_manager\u001b[0m \u001b[1;32min\u001b[0m \u001b[0mGcf\u001b[0m\u001b[1;33m.\u001b[0m\u001b[0mget_all_fig_managers\u001b[0m\u001b[1;33m(\u001b[0m\u001b[1;33m)\u001b[0m\u001b[1;33m:\u001b[0m\u001b[1;33m\u001b[0m\u001b[1;33m\u001b[0m\u001b[0m\n\u001b[1;32m---> 41\u001b[1;33m             display(\n\u001b[0m\u001b[0;32m     42\u001b[0m                 \u001b[0mfigure_manager\u001b[0m\u001b[1;33m.\u001b[0m\u001b[0mcanvas\u001b[0m\u001b[1;33m.\u001b[0m\u001b[0mfigure\u001b[0m\u001b[1;33m,\u001b[0m\u001b[1;33m\u001b[0m\u001b[1;33m\u001b[0m\u001b[0m\n\u001b[0;32m     43\u001b[0m                 \u001b[0mmetadata\u001b[0m\u001b[1;33m=\u001b[0m\u001b[0m_fetch_figure_metadata\u001b[0m\u001b[1;33m(\u001b[0m\u001b[0mfigure_manager\u001b[0m\u001b[1;33m.\u001b[0m\u001b[0mcanvas\u001b[0m\u001b[1;33m.\u001b[0m\u001b[0mfigure\u001b[0m\u001b[1;33m)\u001b[0m\u001b[1;33m\u001b[0m\u001b[1;33m\u001b[0m\u001b[0m\n",
      "\u001b[1;32m~\\anaconda3\\lib\\site-packages\\IPython\\core\\display.py\u001b[0m in \u001b[0;36mdisplay\u001b[1;34m(include, exclude, metadata, transient, display_id, *objs, **kwargs)\u001b[0m\n\u001b[0;32m    311\u001b[0m             \u001b[0mpublish_display_data\u001b[0m\u001b[1;33m(\u001b[0m\u001b[0mdata\u001b[0m\u001b[1;33m=\u001b[0m\u001b[0mobj\u001b[0m\u001b[1;33m,\u001b[0m \u001b[0mmetadata\u001b[0m\u001b[1;33m=\u001b[0m\u001b[0mmetadata\u001b[0m\u001b[1;33m,\u001b[0m \u001b[1;33m**\u001b[0m\u001b[0mkwargs\u001b[0m\u001b[1;33m)\u001b[0m\u001b[1;33m\u001b[0m\u001b[1;33m\u001b[0m\u001b[0m\n\u001b[0;32m    312\u001b[0m         \u001b[1;32melse\u001b[0m\u001b[1;33m:\u001b[0m\u001b[1;33m\u001b[0m\u001b[1;33m\u001b[0m\u001b[0m\n\u001b[1;32m--> 313\u001b[1;33m             \u001b[0mformat_dict\u001b[0m\u001b[1;33m,\u001b[0m \u001b[0mmd_dict\u001b[0m \u001b[1;33m=\u001b[0m \u001b[0mformat\u001b[0m\u001b[1;33m(\u001b[0m\u001b[0mobj\u001b[0m\u001b[1;33m,\u001b[0m \u001b[0minclude\u001b[0m\u001b[1;33m=\u001b[0m\u001b[0minclude\u001b[0m\u001b[1;33m,\u001b[0m \u001b[0mexclude\u001b[0m\u001b[1;33m=\u001b[0m\u001b[0mexclude\u001b[0m\u001b[1;33m)\u001b[0m\u001b[1;33m\u001b[0m\u001b[1;33m\u001b[0m\u001b[0m\n\u001b[0m\u001b[0;32m    314\u001b[0m             \u001b[1;32mif\u001b[0m \u001b[1;32mnot\u001b[0m \u001b[0mformat_dict\u001b[0m\u001b[1;33m:\u001b[0m\u001b[1;33m\u001b[0m\u001b[1;33m\u001b[0m\u001b[0m\n\u001b[0;32m    315\u001b[0m                 \u001b[1;31m# nothing to display (e.g. _ipython_display_ took over)\u001b[0m\u001b[1;33m\u001b[0m\u001b[1;33m\u001b[0m\u001b[1;33m\u001b[0m\u001b[0m\n",
      "\u001b[1;32m~\\anaconda3\\lib\\site-packages\\IPython\\core\\formatters.py\u001b[0m in \u001b[0;36mformat\u001b[1;34m(self, obj, include, exclude)\u001b[0m\n\u001b[0;32m    178\u001b[0m             \u001b[0mmd\u001b[0m \u001b[1;33m=\u001b[0m \u001b[1;32mNone\u001b[0m\u001b[1;33m\u001b[0m\u001b[1;33m\u001b[0m\u001b[0m\n\u001b[0;32m    179\u001b[0m             \u001b[1;32mtry\u001b[0m\u001b[1;33m:\u001b[0m\u001b[1;33m\u001b[0m\u001b[1;33m\u001b[0m\u001b[0m\n\u001b[1;32m--> 180\u001b[1;33m                 \u001b[0mdata\u001b[0m \u001b[1;33m=\u001b[0m \u001b[0mformatter\u001b[0m\u001b[1;33m(\u001b[0m\u001b[0mobj\u001b[0m\u001b[1;33m)\u001b[0m\u001b[1;33m\u001b[0m\u001b[1;33m\u001b[0m\u001b[0m\n\u001b[0m\u001b[0;32m    181\u001b[0m             \u001b[1;32mexcept\u001b[0m\u001b[1;33m:\u001b[0m\u001b[1;33m\u001b[0m\u001b[1;33m\u001b[0m\u001b[0m\n\u001b[0;32m    182\u001b[0m                 \u001b[1;31m# FIXME: log the exception\u001b[0m\u001b[1;33m\u001b[0m\u001b[1;33m\u001b[0m\u001b[1;33m\u001b[0m\u001b[0m\n",
      "\u001b[1;32m<decorator-gen-2>\u001b[0m in \u001b[0;36m__call__\u001b[1;34m(self, obj)\u001b[0m\n",
      "\u001b[1;32m~\\anaconda3\\lib\\site-packages\\IPython\\core\\formatters.py\u001b[0m in \u001b[0;36mcatch_format_error\u001b[1;34m(method, self, *args, **kwargs)\u001b[0m\n\u001b[0;32m    222\u001b[0m     \u001b[1;34m\"\"\"show traceback on failed format call\"\"\"\u001b[0m\u001b[1;33m\u001b[0m\u001b[1;33m\u001b[0m\u001b[0m\n\u001b[0;32m    223\u001b[0m     \u001b[1;32mtry\u001b[0m\u001b[1;33m:\u001b[0m\u001b[1;33m\u001b[0m\u001b[1;33m\u001b[0m\u001b[0m\n\u001b[1;32m--> 224\u001b[1;33m         \u001b[0mr\u001b[0m \u001b[1;33m=\u001b[0m \u001b[0mmethod\u001b[0m\u001b[1;33m(\u001b[0m\u001b[0mself\u001b[0m\u001b[1;33m,\u001b[0m \u001b[1;33m*\u001b[0m\u001b[0margs\u001b[0m\u001b[1;33m,\u001b[0m \u001b[1;33m**\u001b[0m\u001b[0mkwargs\u001b[0m\u001b[1;33m)\u001b[0m\u001b[1;33m\u001b[0m\u001b[1;33m\u001b[0m\u001b[0m\n\u001b[0m\u001b[0;32m    225\u001b[0m     \u001b[1;32mexcept\u001b[0m \u001b[0mNotImplementedError\u001b[0m\u001b[1;33m:\u001b[0m\u001b[1;33m\u001b[0m\u001b[1;33m\u001b[0m\u001b[0m\n\u001b[0;32m    226\u001b[0m         \u001b[1;31m# don't warn on NotImplementedErrors\u001b[0m\u001b[1;33m\u001b[0m\u001b[1;33m\u001b[0m\u001b[1;33m\u001b[0m\u001b[0m\n",
      "\u001b[1;32m~\\anaconda3\\lib\\site-packages\\IPython\\core\\formatters.py\u001b[0m in \u001b[0;36m__call__\u001b[1;34m(self, obj)\u001b[0m\n\u001b[0;32m    339\u001b[0m                 \u001b[1;32mpass\u001b[0m\u001b[1;33m\u001b[0m\u001b[1;33m\u001b[0m\u001b[0m\n\u001b[0;32m    340\u001b[0m             \u001b[1;32melse\u001b[0m\u001b[1;33m:\u001b[0m\u001b[1;33m\u001b[0m\u001b[1;33m\u001b[0m\u001b[0m\n\u001b[1;32m--> 341\u001b[1;33m                 \u001b[1;32mreturn\u001b[0m \u001b[0mprinter\u001b[0m\u001b[1;33m(\u001b[0m\u001b[0mobj\u001b[0m\u001b[1;33m)\u001b[0m\u001b[1;33m\u001b[0m\u001b[1;33m\u001b[0m\u001b[0m\n\u001b[0m\u001b[0;32m    342\u001b[0m             \u001b[1;31m# Finally look for special method names\u001b[0m\u001b[1;33m\u001b[0m\u001b[1;33m\u001b[0m\u001b[1;33m\u001b[0m\u001b[0m\n\u001b[0;32m    343\u001b[0m             \u001b[0mmethod\u001b[0m \u001b[1;33m=\u001b[0m \u001b[0mget_real_method\u001b[0m\u001b[1;33m(\u001b[0m\u001b[0mobj\u001b[0m\u001b[1;33m,\u001b[0m \u001b[0mself\u001b[0m\u001b[1;33m.\u001b[0m\u001b[0mprint_method\u001b[0m\u001b[1;33m)\u001b[0m\u001b[1;33m\u001b[0m\u001b[1;33m\u001b[0m\u001b[0m\n",
      "\u001b[1;32m~\\anaconda3\\lib\\site-packages\\IPython\\core\\pylabtools.py\u001b[0m in \u001b[0;36m<lambda>\u001b[1;34m(fig)\u001b[0m\n\u001b[0;32m    246\u001b[0m \u001b[1;33m\u001b[0m\u001b[0m\n\u001b[0;32m    247\u001b[0m     \u001b[1;32mif\u001b[0m \u001b[1;34m'png'\u001b[0m \u001b[1;32min\u001b[0m \u001b[0mformats\u001b[0m\u001b[1;33m:\u001b[0m\u001b[1;33m\u001b[0m\u001b[1;33m\u001b[0m\u001b[0m\n\u001b[1;32m--> 248\u001b[1;33m         \u001b[0mpng_formatter\u001b[0m\u001b[1;33m.\u001b[0m\u001b[0mfor_type\u001b[0m\u001b[1;33m(\u001b[0m\u001b[0mFigure\u001b[0m\u001b[1;33m,\u001b[0m \u001b[1;32mlambda\u001b[0m \u001b[0mfig\u001b[0m\u001b[1;33m:\u001b[0m \u001b[0mprint_figure\u001b[0m\u001b[1;33m(\u001b[0m\u001b[0mfig\u001b[0m\u001b[1;33m,\u001b[0m \u001b[1;34m'png'\u001b[0m\u001b[1;33m,\u001b[0m \u001b[1;33m**\u001b[0m\u001b[0mkwargs\u001b[0m\u001b[1;33m)\u001b[0m\u001b[1;33m)\u001b[0m\u001b[1;33m\u001b[0m\u001b[1;33m\u001b[0m\u001b[0m\n\u001b[0m\u001b[0;32m    249\u001b[0m     \u001b[1;32mif\u001b[0m \u001b[1;34m'retina'\u001b[0m \u001b[1;32min\u001b[0m \u001b[0mformats\u001b[0m \u001b[1;32mor\u001b[0m \u001b[1;34m'png2x'\u001b[0m \u001b[1;32min\u001b[0m \u001b[0mformats\u001b[0m\u001b[1;33m:\u001b[0m\u001b[1;33m\u001b[0m\u001b[1;33m\u001b[0m\u001b[0m\n\u001b[0;32m    250\u001b[0m         \u001b[0mpng_formatter\u001b[0m\u001b[1;33m.\u001b[0m\u001b[0mfor_type\u001b[0m\u001b[1;33m(\u001b[0m\u001b[0mFigure\u001b[0m\u001b[1;33m,\u001b[0m \u001b[1;32mlambda\u001b[0m \u001b[0mfig\u001b[0m\u001b[1;33m:\u001b[0m \u001b[0mretina_figure\u001b[0m\u001b[1;33m(\u001b[0m\u001b[0mfig\u001b[0m\u001b[1;33m,\u001b[0m \u001b[1;33m**\u001b[0m\u001b[0mkwargs\u001b[0m\u001b[1;33m)\u001b[0m\u001b[1;33m)\u001b[0m\u001b[1;33m\u001b[0m\u001b[1;33m\u001b[0m\u001b[0m\n",
      "\u001b[1;32m~\\anaconda3\\lib\\site-packages\\IPython\\core\\pylabtools.py\u001b[0m in \u001b[0;36mprint_figure\u001b[1;34m(fig, fmt, bbox_inches, **kwargs)\u001b[0m\n\u001b[0;32m    130\u001b[0m         \u001b[0mFigureCanvasBase\u001b[0m\u001b[1;33m(\u001b[0m\u001b[0mfig\u001b[0m\u001b[1;33m)\u001b[0m\u001b[1;33m\u001b[0m\u001b[1;33m\u001b[0m\u001b[0m\n\u001b[0;32m    131\u001b[0m \u001b[1;33m\u001b[0m\u001b[0m\n\u001b[1;32m--> 132\u001b[1;33m     \u001b[0mfig\u001b[0m\u001b[1;33m.\u001b[0m\u001b[0mcanvas\u001b[0m\u001b[1;33m.\u001b[0m\u001b[0mprint_figure\u001b[0m\u001b[1;33m(\u001b[0m\u001b[0mbytes_io\u001b[0m\u001b[1;33m,\u001b[0m \u001b[1;33m**\u001b[0m\u001b[0mkw\u001b[0m\u001b[1;33m)\u001b[0m\u001b[1;33m\u001b[0m\u001b[1;33m\u001b[0m\u001b[0m\n\u001b[0m\u001b[0;32m    133\u001b[0m     \u001b[0mdata\u001b[0m \u001b[1;33m=\u001b[0m \u001b[0mbytes_io\u001b[0m\u001b[1;33m.\u001b[0m\u001b[0mgetvalue\u001b[0m\u001b[1;33m(\u001b[0m\u001b[1;33m)\u001b[0m\u001b[1;33m\u001b[0m\u001b[1;33m\u001b[0m\u001b[0m\n\u001b[0;32m    134\u001b[0m     \u001b[1;32mif\u001b[0m \u001b[0mfmt\u001b[0m \u001b[1;33m==\u001b[0m \u001b[1;34m'svg'\u001b[0m\u001b[1;33m:\u001b[0m\u001b[1;33m\u001b[0m\u001b[1;33m\u001b[0m\u001b[0m\n",
      "\u001b[1;32m~\\anaconda3\\lib\\site-packages\\matplotlib\\backend_bases.py\u001b[0m in \u001b[0;36mprint_figure\u001b[1;34m(self, filename, dpi, facecolor, edgecolor, orientation, format, bbox_inches, pad_inches, bbox_extra_artists, backend, **kwargs)\u001b[0m\n\u001b[0;32m   2193\u001b[0m                         \u001b[0mself\u001b[0m\u001b[1;33m.\u001b[0m\u001b[0mfigure\u001b[0m\u001b[1;33m.\u001b[0m\u001b[0mdraw\u001b[0m\u001b[1;33m(\u001b[0m\u001b[0mrenderer\u001b[0m\u001b[1;33m)\u001b[0m\u001b[1;33m\u001b[0m\u001b[1;33m\u001b[0m\u001b[0m\n\u001b[0;32m   2194\u001b[0m \u001b[1;33m\u001b[0m\u001b[0m\n\u001b[1;32m-> 2195\u001b[1;33m                     bbox_inches = self.figure.get_tightbbox(\n\u001b[0m\u001b[0;32m   2196\u001b[0m                         renderer, bbox_extra_artists=bbox_extra_artists)\n\u001b[0;32m   2197\u001b[0m                     \u001b[1;32mif\u001b[0m \u001b[0mpad_inches\u001b[0m \u001b[1;32mis\u001b[0m \u001b[1;32mNone\u001b[0m\u001b[1;33m:\u001b[0m\u001b[1;33m\u001b[0m\u001b[1;33m\u001b[0m\u001b[0m\n",
      "\u001b[1;32m~\\anaconda3\\lib\\site-packages\\matplotlib\\figure.py\u001b[0m in \u001b[0;36mget_tightbbox\u001b[1;34m(self, renderer, bbox_extra_artists)\u001b[0m\n\u001b[0;32m   2504\u001b[0m \u001b[1;33m\u001b[0m\u001b[0m\n\u001b[0;32m   2505\u001b[0m         \u001b[1;32mfor\u001b[0m \u001b[0ma\u001b[0m \u001b[1;32min\u001b[0m \u001b[0martists\u001b[0m\u001b[1;33m:\u001b[0m\u001b[1;33m\u001b[0m\u001b[1;33m\u001b[0m\u001b[0m\n\u001b[1;32m-> 2506\u001b[1;33m             \u001b[0mbbox\u001b[0m \u001b[1;33m=\u001b[0m \u001b[0ma\u001b[0m\u001b[1;33m.\u001b[0m\u001b[0mget_tightbbox\u001b[0m\u001b[1;33m(\u001b[0m\u001b[0mrenderer\u001b[0m\u001b[1;33m)\u001b[0m\u001b[1;33m\u001b[0m\u001b[1;33m\u001b[0m\u001b[0m\n\u001b[0m\u001b[0;32m   2507\u001b[0m             \u001b[1;32mif\u001b[0m \u001b[0mbbox\u001b[0m \u001b[1;32mis\u001b[0m \u001b[1;32mnot\u001b[0m \u001b[1;32mNone\u001b[0m \u001b[1;32mand\u001b[0m \u001b[1;33m(\u001b[0m\u001b[0mbbox\u001b[0m\u001b[1;33m.\u001b[0m\u001b[0mwidth\u001b[0m \u001b[1;33m!=\u001b[0m \u001b[1;36m0\u001b[0m \u001b[1;32mor\u001b[0m \u001b[0mbbox\u001b[0m\u001b[1;33m.\u001b[0m\u001b[0mheight\u001b[0m \u001b[1;33m!=\u001b[0m \u001b[1;36m0\u001b[0m\u001b[1;33m)\u001b[0m\u001b[1;33m:\u001b[0m\u001b[1;33m\u001b[0m\u001b[1;33m\u001b[0m\u001b[0m\n\u001b[0;32m   2508\u001b[0m                 \u001b[0mbb\u001b[0m\u001b[1;33m.\u001b[0m\u001b[0mappend\u001b[0m\u001b[1;33m(\u001b[0m\u001b[0mbbox\u001b[0m\u001b[1;33m)\u001b[0m\u001b[1;33m\u001b[0m\u001b[1;33m\u001b[0m\u001b[0m\n",
      "\u001b[1;32m~\\anaconda3\\lib\\site-packages\\matplotlib\\axes\\_base.py\u001b[0m in \u001b[0;36mget_tightbbox\u001b[1;34m(self, renderer, call_axes_locator, bbox_extra_artists, for_layout_only)\u001b[0m\n\u001b[0;32m   4153\u001b[0m             \u001b[1;32mif\u001b[0m \u001b[0mself\u001b[0m\u001b[1;33m.\u001b[0m\u001b[0mxaxis\u001b[0m\u001b[1;33m.\u001b[0m\u001b[0mget_visible\u001b[0m\u001b[1;33m(\u001b[0m\u001b[1;33m)\u001b[0m\u001b[1;33m:\u001b[0m\u001b[1;33m\u001b[0m\u001b[1;33m\u001b[0m\u001b[0m\n\u001b[0;32m   4154\u001b[0m                 \u001b[1;32mtry\u001b[0m\u001b[1;33m:\u001b[0m\u001b[1;33m\u001b[0m\u001b[1;33m\u001b[0m\u001b[0m\n\u001b[1;32m-> 4155\u001b[1;33m                     bb_xaxis = self.xaxis.get_tightbbox(\n\u001b[0m\u001b[0;32m   4156\u001b[0m                         renderer, for_layout_only=for_layout_only)\n\u001b[0;32m   4157\u001b[0m                 \u001b[1;32mexcept\u001b[0m \u001b[0mTypeError\u001b[0m\u001b[1;33m:\u001b[0m\u001b[1;33m\u001b[0m\u001b[1;33m\u001b[0m\u001b[0m\n",
      "\u001b[1;32m~\\anaconda3\\lib\\site-packages\\matplotlib\\axis.py\u001b[0m in \u001b[0;36mget_tightbbox\u001b[1;34m(self, renderer, for_layout_only)\u001b[0m\n\u001b[0;32m   1112\u001b[0m \u001b[1;33m\u001b[0m\u001b[0m\n\u001b[0;32m   1113\u001b[0m         \u001b[1;31m# go back to just this axis's tick labels\u001b[0m\u001b[1;33m\u001b[0m\u001b[1;33m\u001b[0m\u001b[1;33m\u001b[0m\u001b[0m\n\u001b[1;32m-> 1114\u001b[1;33m         ticklabelBoxes, ticklabelBoxes2 = self._get_tick_bboxes(\n\u001b[0m\u001b[0;32m   1115\u001b[0m                     ticks_to_draw, renderer)\n\u001b[0;32m   1116\u001b[0m \u001b[1;33m\u001b[0m\u001b[0m\n",
      "\u001b[1;32m~\\anaconda3\\lib\\site-packages\\matplotlib\\axis.py\u001b[0m in \u001b[0;36m_get_tick_bboxes\u001b[1;34m(self, ticks, renderer)\u001b[0m\n\u001b[0;32m   1089\u001b[0m     \u001b[1;32mdef\u001b[0m \u001b[0m_get_tick_bboxes\u001b[0m\u001b[1;33m(\u001b[0m\u001b[0mself\u001b[0m\u001b[1;33m,\u001b[0m \u001b[0mticks\u001b[0m\u001b[1;33m,\u001b[0m \u001b[0mrenderer\u001b[0m\u001b[1;33m)\u001b[0m\u001b[1;33m:\u001b[0m\u001b[1;33m\u001b[0m\u001b[1;33m\u001b[0m\u001b[0m\n\u001b[0;32m   1090\u001b[0m         \u001b[1;34m\"\"\"Return lists of bboxes for ticks' label1's and label2's.\"\"\"\u001b[0m\u001b[1;33m\u001b[0m\u001b[1;33m\u001b[0m\u001b[0m\n\u001b[1;32m-> 1091\u001b[1;33m         return ([tick.label1.get_window_extent(renderer)\n\u001b[0m\u001b[0;32m   1092\u001b[0m                  for tick in ticks if tick.label1.get_visible()],\n\u001b[0;32m   1093\u001b[0m                 [tick.label2.get_window_extent(renderer)\n",
      "\u001b[1;32m~\\anaconda3\\lib\\site-packages\\matplotlib\\axis.py\u001b[0m in \u001b[0;36m<listcomp>\u001b[1;34m(.0)\u001b[0m\n\u001b[0;32m   1089\u001b[0m     \u001b[1;32mdef\u001b[0m \u001b[0m_get_tick_bboxes\u001b[0m\u001b[1;33m(\u001b[0m\u001b[0mself\u001b[0m\u001b[1;33m,\u001b[0m \u001b[0mticks\u001b[0m\u001b[1;33m,\u001b[0m \u001b[0mrenderer\u001b[0m\u001b[1;33m)\u001b[0m\u001b[1;33m:\u001b[0m\u001b[1;33m\u001b[0m\u001b[1;33m\u001b[0m\u001b[0m\n\u001b[0;32m   1090\u001b[0m         \u001b[1;34m\"\"\"Return lists of bboxes for ticks' label1's and label2's.\"\"\"\u001b[0m\u001b[1;33m\u001b[0m\u001b[1;33m\u001b[0m\u001b[0m\n\u001b[1;32m-> 1091\u001b[1;33m         return ([tick.label1.get_window_extent(renderer)\n\u001b[0m\u001b[0;32m   1092\u001b[0m                  for tick in ticks if tick.label1.get_visible()],\n\u001b[0;32m   1093\u001b[0m                 [tick.label2.get_window_extent(renderer)\n",
      "\u001b[1;32m~\\anaconda3\\lib\\site-packages\\matplotlib\\text.py\u001b[0m in \u001b[0;36mget_window_extent\u001b[1;34m(self, renderer, dpi)\u001b[0m\n\u001b[0;32m    898\u001b[0m \u001b[1;33m\u001b[0m\u001b[0m\n\u001b[0;32m    899\u001b[0m         \u001b[1;32mwith\u001b[0m \u001b[0mcbook\u001b[0m\u001b[1;33m.\u001b[0m\u001b[0m_setattr_cm\u001b[0m\u001b[1;33m(\u001b[0m\u001b[0mself\u001b[0m\u001b[1;33m.\u001b[0m\u001b[0mfigure\u001b[0m\u001b[1;33m,\u001b[0m \u001b[0mdpi\u001b[0m\u001b[1;33m=\u001b[0m\u001b[0mdpi\u001b[0m\u001b[1;33m)\u001b[0m\u001b[1;33m:\u001b[0m\u001b[1;33m\u001b[0m\u001b[1;33m\u001b[0m\u001b[0m\n\u001b[1;32m--> 900\u001b[1;33m             \u001b[0mbbox\u001b[0m\u001b[1;33m,\u001b[0m \u001b[0minfo\u001b[0m\u001b[1;33m,\u001b[0m \u001b[0mdescent\u001b[0m \u001b[1;33m=\u001b[0m \u001b[0mself\u001b[0m\u001b[1;33m.\u001b[0m\u001b[0m_get_layout\u001b[0m\u001b[1;33m(\u001b[0m\u001b[0mself\u001b[0m\u001b[1;33m.\u001b[0m\u001b[0m_renderer\u001b[0m\u001b[1;33m)\u001b[0m\u001b[1;33m\u001b[0m\u001b[1;33m\u001b[0m\u001b[0m\n\u001b[0m\u001b[0;32m    901\u001b[0m             \u001b[0mx\u001b[0m\u001b[1;33m,\u001b[0m \u001b[0my\u001b[0m \u001b[1;33m=\u001b[0m \u001b[0mself\u001b[0m\u001b[1;33m.\u001b[0m\u001b[0mget_unitless_position\u001b[0m\u001b[1;33m(\u001b[0m\u001b[1;33m)\u001b[0m\u001b[1;33m\u001b[0m\u001b[1;33m\u001b[0m\u001b[0m\n\u001b[0;32m    902\u001b[0m             \u001b[0mx\u001b[0m\u001b[1;33m,\u001b[0m \u001b[0my\u001b[0m \u001b[1;33m=\u001b[0m \u001b[0mself\u001b[0m\u001b[1;33m.\u001b[0m\u001b[0mget_transform\u001b[0m\u001b[1;33m(\u001b[0m\u001b[1;33m)\u001b[0m\u001b[1;33m.\u001b[0m\u001b[0mtransform\u001b[0m\u001b[1;33m(\u001b[0m\u001b[1;33m(\u001b[0m\u001b[0mx\u001b[0m\u001b[1;33m,\u001b[0m \u001b[0my\u001b[0m\u001b[1;33m)\u001b[0m\u001b[1;33m)\u001b[0m\u001b[1;33m\u001b[0m\u001b[1;33m\u001b[0m\u001b[0m\n",
      "\u001b[1;32m~\\anaconda3\\lib\\site-packages\\matplotlib\\text.py\u001b[0m in \u001b[0;36m_get_layout\u001b[1;34m(self, renderer)\u001b[0m\n\u001b[0;32m    291\u001b[0m             \u001b[0mclean_line\u001b[0m\u001b[1;33m,\u001b[0m \u001b[0mismath\u001b[0m \u001b[1;33m=\u001b[0m \u001b[0mself\u001b[0m\u001b[1;33m.\u001b[0m\u001b[0m_preprocess_math\u001b[0m\u001b[1;33m(\u001b[0m\u001b[0mline\u001b[0m\u001b[1;33m)\u001b[0m\u001b[1;33m\u001b[0m\u001b[1;33m\u001b[0m\u001b[0m\n\u001b[0;32m    292\u001b[0m             \u001b[1;32mif\u001b[0m \u001b[0mclean_line\u001b[0m\u001b[1;33m:\u001b[0m\u001b[1;33m\u001b[0m\u001b[1;33m\u001b[0m\u001b[0m\n\u001b[1;32m--> 293\u001b[1;33m                 w, h, d = renderer.get_text_width_height_descent(\n\u001b[0m\u001b[0;32m    294\u001b[0m                     clean_line, self._fontproperties, ismath=ismath)\n\u001b[0;32m    295\u001b[0m             \u001b[1;32melse\u001b[0m\u001b[1;33m:\u001b[0m\u001b[1;33m\u001b[0m\u001b[1;33m\u001b[0m\u001b[0m\n",
      "\u001b[1;32m~\\anaconda3\\lib\\site-packages\\matplotlib\\backends\\backend_agg.py\u001b[0m in \u001b[0;36mget_text_width_height_descent\u001b[1;34m(self, s, prop, ismath)\u001b[0m\n\u001b[0;32m    236\u001b[0m         \u001b[0mflags\u001b[0m \u001b[1;33m=\u001b[0m \u001b[0mget_hinting_flag\u001b[0m\u001b[1;33m(\u001b[0m\u001b[1;33m)\u001b[0m\u001b[1;33m\u001b[0m\u001b[1;33m\u001b[0m\u001b[0m\n\u001b[0;32m    237\u001b[0m         \u001b[0mfont\u001b[0m \u001b[1;33m=\u001b[0m \u001b[0mself\u001b[0m\u001b[1;33m.\u001b[0m\u001b[0m_get_agg_font\u001b[0m\u001b[1;33m(\u001b[0m\u001b[0mprop\u001b[0m\u001b[1;33m)\u001b[0m\u001b[1;33m\u001b[0m\u001b[1;33m\u001b[0m\u001b[0m\n\u001b[1;32m--> 238\u001b[1;33m         \u001b[0mfont\u001b[0m\u001b[1;33m.\u001b[0m\u001b[0mset_text\u001b[0m\u001b[1;33m(\u001b[0m\u001b[0ms\u001b[0m\u001b[1;33m,\u001b[0m \u001b[1;36m0.0\u001b[0m\u001b[1;33m,\u001b[0m \u001b[0mflags\u001b[0m\u001b[1;33m=\u001b[0m\u001b[0mflags\u001b[0m\u001b[1;33m)\u001b[0m\u001b[1;33m\u001b[0m\u001b[1;33m\u001b[0m\u001b[0m\n\u001b[0m\u001b[0;32m    239\u001b[0m         \u001b[0mw\u001b[0m\u001b[1;33m,\u001b[0m \u001b[0mh\u001b[0m \u001b[1;33m=\u001b[0m \u001b[0mfont\u001b[0m\u001b[1;33m.\u001b[0m\u001b[0mget_width_height\u001b[0m\u001b[1;33m(\u001b[0m\u001b[1;33m)\u001b[0m  \u001b[1;31m# width and height of unrotated string\u001b[0m\u001b[1;33m\u001b[0m\u001b[1;33m\u001b[0m\u001b[0m\n\u001b[0;32m    240\u001b[0m         \u001b[0md\u001b[0m \u001b[1;33m=\u001b[0m \u001b[0mfont\u001b[0m\u001b[1;33m.\u001b[0m\u001b[0mget_descent\u001b[0m\u001b[1;33m(\u001b[0m\u001b[1;33m)\u001b[0m\u001b[1;33m\u001b[0m\u001b[1;33m\u001b[0m\u001b[0m\n",
      "\u001b[1;31mKeyboardInterrupt\u001b[0m: "
     ]
    }
   ],
   "source": [
    "for data in all_data:\n",
    "    \n",
    "    data_outliers=data.loc[:,[\"Sector\", \"PRICE_VAR\"]]\n",
    "\n",
    "    sector_list=data_outliers[\"Sector\"].unique()\n",
    "\n",
    "    \n",
    "    for sector in sector_list:\n",
    "    \n",
    "        temp=data_outliers[data_outliers[\"Sector\"] == sector]\n",
    "    \n",
    "        plt.figure(figsize=(30,5))\n",
    "        plt.plot(temp[\"PRICE_VAR\"])\n",
    "        plt.title(sector,fontsize=20)\n",
    "        plt.show()"
   ]
  },
  {
   "cell_type": "markdown",
   "metadata": {},
   "source": [
    "We check the variable $\\textrm{PRICE_VAR}$ by Sector and indeed see that there are huge outliers.They are mostly likely not organic as that would mean huge changes in $\\textrm{PRICE_VAR}$ in one year, which is not likely. We hence delete those observations."
   ]
  },
  {
   "cell_type": "markdown",
   "metadata": {},
   "source": [
    "### 3.4 Deleting PRICE_VAR"
   ]
  },
  {
   "cell_type": "code",
   "execution_count": 25,
   "metadata": {
    "scrolled": true
   },
   "outputs": [],
   "source": [
    "df_test2_drop_pr=df_test2_drop.drop(columns=[\"PRICE_VAR\"])"
   ]
  },
  {
   "cell_type": "markdown",
   "metadata": {},
   "source": [
    "We are now done using PRICE_VAR and we have to delete it as it would otherwise explain our target variable almost perfectly as the target variable strategy is a categorical variable made from a linear combination of $\\textrm{PRICE_VAR}$ and the respective S&P500 performance."
   ]
  },
  {
   "cell_type": "markdown",
   "metadata": {},
   "source": [
    "### 3.5 Creating Test and Train Sets"
   ]
  },
  {
   "cell_type": "code",
   "execution_count": 26,
   "metadata": {},
   "outputs": [],
   "source": [
    "#creating train and test data in spirit of time series analysis\n",
    "\n",
    "df_train = df_test2_drop_pr[(df_test2_drop_pr['year'] == 2014) | (df_test2_drop_pr['year'] == 2015) | \n",
    "                            (df_test2_drop_pr['year'] == 2016) | (df_test2_drop_pr['year'] == 2017)]\n",
    "\n",
    "df_test = df_test2_drop_pr[df_test2_drop_pr[\"year\"]==2018]"
   ]
  },
  {
   "cell_type": "markdown",
   "metadata": {},
   "source": [
    "As we have data that implicitely capture a time variable and the observations are correlated (e.g the respective companies), we cannot just do a simple $80/20$ split as with i.i.d random variables but we need to use a Train/Test split in spirit of Time Series Analysis. That means that we train our model on the years $2014-2017$ and test it on the data from $2018$. That way, our model predicts the future, which is exactly what someone wanting an Investment Recommendation wants."
   ]
  },
  {
   "cell_type": "markdown",
   "metadata": {},
   "source": [
    "### 3.6 Deleting year"
   ]
  },
  {
   "cell_type": "code",
   "execution_count": 27,
   "metadata": {},
   "outputs": [],
   "source": [
    "#we do not need the year anymore\n",
    "df_train_drop=df_train.drop(columns=[\"year\"])\n",
    "\n",
    "df_test_drop=df_test.drop(columns=[\"year\"])"
   ]
  },
  {
   "cell_type": "markdown",
   "metadata": {},
   "source": [
    "We needed the column $\\textrm{years}$ to get a subset of the data for the train/test split easily, which is done now. We now delete that column to prevent problems with collinearity."
   ]
  },
  {
   "cell_type": "markdown",
   "metadata": {},
   "source": [
    "### 3.7 Impute the remaining Data"
   ]
  },
  {
   "cell_type": "markdown",
   "metadata": {},
   "source": [
    "#### 3.7.1 Choosing the numerical columns to impute on"
   ]
  },
  {
   "cell_type": "code",
   "execution_count": 28,
   "metadata": {},
   "outputs": [],
   "source": [
    "#alternative\n",
    "\n",
    "#for the train\n",
    "\n",
    "strategy_data_train = df_train_drop.loc[:, ['strategy']]\n",
    "sector_data_train = df_train_drop.loc[:, ['Sector']]\n",
    "\n",
    "df_train_drop_drop = df_train_drop.drop(columns=[\"strategy\",\"Sector\"],axis=1)\n",
    "\n",
    "#for the test\n",
    "\n",
    "strategy_data_test = df_test_drop.loc[:, ['strategy']]\n",
    "sector_data_test = df_test_drop.loc[:, ['Sector']]\n",
    "\n",
    "df_test_drop_drop = df_test_drop.drop(columns=[\"strategy\",\"Sector\"],axis=1)"
   ]
  },
  {
   "cell_type": "markdown",
   "metadata": {},
   "source": [
    "#### 3.7.2 Imputer"
   ]
  },
  {
   "cell_type": "code",
   "execution_count": 29,
   "metadata": {},
   "outputs": [
    {
     "name": "stderr",
     "output_type": "stream",
     "text": [
      "C:\\Users\\frede\\anaconda3\\lib\\site-packages\\sklearn\\impute\\_iterative.py:669: ConvergenceWarning: [IterativeImputer] Early stopping criterion not reached.\n",
      "  warnings.warn(\"[IterativeImputer] Early stopping criterion not\"\n",
      "C:\\Users\\frede\\anaconda3\\lib\\site-packages\\sklearn\\impute\\_iterative.py:669: ConvergenceWarning: [IterativeImputer] Early stopping criterion not reached.\n",
      "  warnings.warn(\"[IterativeImputer] Early stopping criterion not\"\n"
     ]
    }
   ],
   "source": [
    "def imputer(data):\n",
    "    \n",
    "    imputer=IterativeImputer(max_iter=1,random_state=0)\n",
    "    imputer.fit(data)\n",
    "    imp_transform=imputer.transform(data)\n",
    "    df_filled=pd.DataFrame(imp_transform,columns=df_train_drop_drop.columns,index=data.index)\n",
    "\n",
    "    return df_filled\n",
    "\n",
    "df_train_imputed=imputer(df_train_drop_drop)\n",
    "df_test_imputed=imputer(df_test_drop_drop)"
   ]
  },
  {
   "cell_type": "markdown",
   "metadata": {},
   "source": [
    "The Imputation is done seperately for the training set and for the test set as the imputer uses columns $X_{(-j)}$ to impute column $X_j$ and we do not want any information of the training set leaking into the testing set."
   ]
  },
  {
   "cell_type": "markdown",
   "metadata": {},
   "source": [
    "#### 3.7.3 Adding the non-numerical Columns back"
   ]
  },
  {
   "cell_type": "code",
   "execution_count": 30,
   "metadata": {},
   "outputs": [],
   "source": [
    "#first for train\n",
    "\n",
    "df_train_imputed[\"strategy\"]=strategy_data_train.values\n",
    "df_train_imputed[\"Sector\"]=sector_data_train.values\n",
    "\n",
    "#now for test\n",
    "\n",
    "df_test_imputed[\"strategy\"]=strategy_data_test.values\n",
    "df_test_imputed[\"Sector\"]=sector_data_test.values"
   ]
  },
  {
   "cell_type": "markdown",
   "metadata": {},
   "source": [
    "#### 3.7.4 Exporting to CSV files for easy workflow"
   ]
  },
  {
   "cell_type": "code",
   "execution_count": 31,
   "metadata": {},
   "outputs": [],
   "source": [
    "#making csv files for the preprocessed dataset\n",
    "\n",
    "df_train_imputed.to_csv(\"Data/Clean Training Set.csv\")\n",
    "df_test_imputed.to_csv(\"Data/Clean Test Set.csv\")"
   ]
  },
  {
   "cell_type": "markdown",
   "metadata": {},
   "source": [
    "#### 3.7.5 Did it work?"
   ]
  },
  {
   "cell_type": "code",
   "execution_count": 32,
   "metadata": {},
   "outputs": [
    {
     "data": {
      "text/plain": [
       "Revenue                        0\n",
       "Revenue Growth                 0\n",
       "Cost of Revenue                0\n",
       "Gross Profit                   0\n",
       "SG&A Expense                   0\n",
       "                              ..\n",
       "Book Value per Share Growth    0\n",
       "Debt Growth                    0\n",
       "SG&A Expenses Growth           0\n",
       "strategy                       0\n",
       "Sector                         0\n",
       "Length: 178, dtype: int64"
      ]
     },
     "metadata": {},
     "output_type": "display_data"
    },
    {
     "data": {
      "text/plain": [
       "Revenue                        0\n",
       "Revenue Growth                 0\n",
       "Cost of Revenue                0\n",
       "Gross Profit                   0\n",
       "SG&A Expense                   0\n",
       "                              ..\n",
       "Book Value per Share Growth    0\n",
       "Debt Growth                    0\n",
       "SG&A Expenses Growth           0\n",
       "strategy                       0\n",
       "Sector                         0\n",
       "Length: 178, dtype: int64"
      ]
     },
     "metadata": {},
     "output_type": "display_data"
    }
   ],
   "source": [
    "display(df_train_imputed.isnull().sum(),\n",
    "df_test_imputed.isnull().sum())"
   ]
  },
  {
   "cell_type": "markdown",
   "metadata": {},
   "source": [
    "### 3.8 Creating Feature Matrix and Target Variable Column for the Test and Training Sets"
   ]
  },
  {
   "cell_type": "code",
   "execution_count": 33,
   "metadata": {},
   "outputs": [],
   "source": [
    "Y_train=df_train_imputed[\"strategy\"]\n",
    "\n",
    "Y_test=df_test_imputed[\"strategy\"]\n",
    "\n",
    "X_train=df_train_imputed.drop(columns=[\"strategy\"])\n",
    "\n",
    "X_test=df_test_imputed.drop(columns=[\"strategy\"])"
   ]
  },
  {
   "cell_type": "markdown",
   "metadata": {},
   "source": [
    "### 3.9 Resampling the Data because of Imbalance of Target Variable"
   ]
  },
  {
   "cell_type": "code",
   "execution_count": 34,
   "metadata": {},
   "outputs": [
    {
     "data": {
      "text/plain": [
       "9086"
      ]
     },
     "metadata": {},
     "output_type": "display_data"
    },
    {
     "data": {
      "text/plain": [
       "9086"
      ]
     },
     "metadata": {},
     "output_type": "display_data"
    },
    {
     "data": {
      "text/plain": [
       "9086"
      ]
     },
     "metadata": {},
     "output_type": "display_data"
    }
   ],
   "source": [
    "from sklearn.utils import resample\n",
    "\n",
    "#first resample the 1s\n",
    "\n",
    "X_train_up_1, Y_train_up_1 = resample(X_train[Y_train==1],\n",
    "                                      Y_train[Y_train==1],replace=True,n_samples=X_train[Y_train==2].shape[0],random_state=1)\n",
    "#now resample the 0s\n",
    "\n",
    "X_train_up_0, Y_train_up_0 = resample(X_train[Y_train==0],\n",
    "                                      Y_train[Y_train==0],replace=True,n_samples=X_train[Y_train==2].shape[0],random_state=1)\n",
    "\n",
    "#combine datasets\n",
    "\n",
    "X_train_balanced=np.vstack((X_train[Y_train==2],X_train_up_1,X_train_up_0))\n",
    "Y_train_balanced=np.hstack((Y_train[Y_train==2],Y_train_up_1,Y_train_up_0))\n",
    "\n",
    "#we loose the indices while resampling so lets reconstruct them:\n",
    "#getting the indices\n",
    "\n",
    "array1l=X_train[Y_train==2].index\n",
    "array2l=X_train_up_1.index\n",
    "array3l=X_train_up_0.index\n",
    "\n",
    "#appending them to a 1D array suited for indices\n",
    "\n",
    "arr1=array1l.append(array2l)\n",
    "arr2=arr1.append(array3l)\n",
    "arr3 = np.array(arr2)\n",
    "\n",
    "#we now have to recover the pd.dataframes and pd.Series (numpy array otherwise)\n",
    "\n",
    "X_train_bal_df=pd.DataFrame(X_train_balanced,columns=X_train.columns, index=arr3)\n",
    "Y_train_bal_ser=pd.Series(Y_train_balanced)\n",
    "Y_train_bal_ser=Y_train_bal_ser.astype('category')\n",
    "\n",
    "#unfortunately the resampling converts all features into numerical variables which is why we have to convert them back\n",
    "#for the Xs\n",
    "\n",
    "le=pp.LabelEncoder()\n",
    "X_train_bal_df[\"Sector\"]=le.fit_transform(X_train_bal_df[\"Sector\"])\n",
    "\n",
    "#balance:\n",
    "display(sum(Y_train_bal_ser==0),sum(Y_train_bal_ser==1),sum(Y_train_bal_ser==2))"
   ]
  },
  {
   "cell_type": "markdown",
   "metadata": {},
   "source": [
    "We used differnet resampling techniques but settled on this one as it gives good results and yields a perfectly balanced target variable and does not reduce the observations $n$ at all. We end up with $9086$ observations implying a Hold strategy, $9086$ observations implying a Sell strategy and $9086$ observations implying a Buy strategy. We only impute on the training set as the test set should remain untouched as it represents the \"future\" we are trying the predict. "
   ]
  },
  {
   "cell_type": "markdown",
   "metadata": {},
   "source": [
    "# 4 Feature Selection \n"
   ]
  },
  {
   "cell_type": "markdown",
   "metadata": {},
   "source": [
    "### 4.1 Visualization of feature importance"
   ]
  },
  {
   "cell_type": "code",
   "execution_count": 35,
   "metadata": {},
   "outputs": [
    {
     "name": "stdout",
     "output_type": "stream",
     "text": [
      "Feature: 0, Score: 0.00498\n",
      "Feature: 1, Score: 0.00670\n",
      "Feature: 2, Score: 0.00396\n",
      "Feature: 3, Score: 0.00516\n",
      "Feature: 4, Score: 0.00580\n",
      "Feature: 5, Score: 0.00547\n",
      "Feature: 6, Score: 0.00544\n",
      "Feature: 7, Score: 0.00414\n",
      "Feature: 8, Score: 0.00574\n",
      "Feature: 9, Score: 0.00682\n",
      "Feature: 10, Score: 0.00621\n",
      "Feature: 11, Score: 0.00573\n",
      "Feature: 12, Score: 0.00670\n",
      "Feature: 13, Score: 0.00622\n",
      "Feature: 14, Score: 0.00630\n",
      "Feature: 15, Score: 0.00626\n",
      "Feature: 16, Score: 0.00479\n",
      "Feature: 17, Score: 0.00600\n",
      "Feature: 18, Score: 0.00523\n",
      "Feature: 19, Score: 0.00547\n",
      "Feature: 20, Score: 0.00559\n",
      "Feature: 21, Score: 0.00457\n",
      "Feature: 22, Score: 0.00467\n",
      "Feature: 23, Score: 0.00618\n",
      "Feature: 24, Score: 0.00545\n",
      "Feature: 25, Score: 0.00499\n",
      "Feature: 26, Score: 0.00616\n",
      "Feature: 27, Score: 0.00587\n",
      "Feature: 28, Score: 0.00450\n",
      "Feature: 29, Score: 0.00342\n",
      "Feature: 30, Score: 0.00578\n",
      "Feature: 31, Score: 0.00537\n",
      "Feature: 32, Score: 0.00395\n",
      "Feature: 33, Score: 0.00543\n",
      "Feature: 34, Score: 0.00446\n",
      "Feature: 35, Score: 0.00508\n",
      "Feature: 36, Score: 0.00759\n",
      "Feature: 37, Score: 0.00623\n",
      "Feature: 38, Score: 0.00405\n",
      "Feature: 39, Score: 0.00401\n",
      "Feature: 40, Score: 0.00550\n",
      "Feature: 41, Score: 0.00529\n",
      "Feature: 42, Score: 0.00565\n",
      "Feature: 43, Score: 0.00608\n",
      "Feature: 44, Score: 0.00510\n",
      "Feature: 45, Score: 0.00407\n",
      "Feature: 46, Score: 0.00617\n",
      "Feature: 47, Score: 0.00487\n",
      "Feature: 48, Score: 0.00505\n",
      "Feature: 49, Score: 0.00493\n",
      "Feature: 50, Score: 0.00510\n",
      "Feature: 51, Score: 0.00502\n",
      "Feature: 52, Score: 0.00625\n",
      "Feature: 53, Score: 0.00671\n",
      "Feature: 54, Score: 0.00645\n",
      "Feature: 55, Score: 0.00675\n",
      "Feature: 56, Score: 0.00702\n",
      "Feature: 57, Score: 0.00520\n",
      "Feature: 58, Score: 0.00585\n",
      "Feature: 59, Score: 0.00634\n",
      "Feature: 60, Score: 0.00553\n",
      "Feature: 61, Score: 0.00598\n",
      "Feature: 62, Score: 0.00560\n",
      "Feature: 63, Score: 0.00453\n",
      "Feature: 64, Score: 0.00597\n",
      "Feature: 65, Score: 0.00610\n",
      "Feature: 66, Score: 0.00618\n",
      "Feature: 67, Score: 0.00511\n",
      "Feature: 68, Score: 0.00535\n",
      "Feature: 69, Score: 0.00000\n",
      "Feature: 70, Score: 0.00500\n",
      "Feature: 71, Score: 0.00523\n",
      "Feature: 72, Score: 0.00572\n",
      "Feature: 73, Score: 0.00818\n",
      "Feature: 74, Score: 0.00543\n",
      "Feature: 75, Score: 0.00478\n",
      "Feature: 76, Score: 0.00515\n",
      "Feature: 77, Score: 0.00407\n",
      "Feature: 78, Score: 0.00604\n",
      "Feature: 79, Score: 0.00566\n",
      "Feature: 80, Score: 0.00580\n",
      "Feature: 81, Score: 0.00637\n",
      "Feature: 82, Score: 0.00620\n",
      "Feature: 83, Score: 0.00332\n",
      "Feature: 84, Score: 0.00557\n",
      "Feature: 85, Score: 0.00510\n",
      "Feature: 86, Score: 0.00476\n",
      "Feature: 87, Score: 0.00514\n",
      "Feature: 88, Score: 0.00444\n",
      "Feature: 89, Score: 0.00453\n",
      "Feature: 90, Score: 0.00486\n",
      "Feature: 91, Score: 0.00587\n",
      "Feature: 92, Score: 0.00592\n",
      "Feature: 93, Score: 0.00601\n",
      "Feature: 94, Score: 0.00667\n",
      "Feature: 95, Score: 0.00599\n",
      "Feature: 96, Score: 0.00519\n",
      "Feature: 97, Score: 0.00601\n",
      "Feature: 98, Score: 0.00565\n",
      "Feature: 99, Score: 0.00662\n",
      "Feature: 100, Score: 0.00573\n",
      "Feature: 101, Score: 0.00716\n",
      "Feature: 102, Score: 0.00592\n",
      "Feature: 103, Score: 0.00597\n",
      "Feature: 104, Score: 0.00619\n",
      "Feature: 105, Score: 0.00602\n",
      "Feature: 106, Score: 0.00539\n",
      "Feature: 107, Score: 0.00599\n",
      "Feature: 108, Score: 0.00519\n",
      "Feature: 109, Score: 0.00507\n",
      "Feature: 110, Score: 0.00532\n",
      "Feature: 111, Score: 0.00571\n",
      "Feature: 112, Score: 0.00587\n",
      "Feature: 113, Score: 0.00629\n",
      "Feature: 114, Score: 0.00435\n",
      "Feature: 115, Score: 0.00600\n",
      "Feature: 116, Score: 0.00532\n",
      "Feature: 117, Score: 0.00626\n",
      "Feature: 118, Score: 0.00555\n",
      "Feature: 119, Score: 0.00632\n",
      "Feature: 120, Score: 0.00661\n",
      "Feature: 121, Score: 0.00695\n",
      "Feature: 122, Score: 0.00603\n",
      "Feature: 123, Score: 0.00492\n",
      "Feature: 124, Score: 0.00449\n",
      "Feature: 125, Score: 0.00575\n",
      "Feature: 126, Score: 0.00502\n",
      "Feature: 127, Score: 0.00612\n",
      "Feature: 128, Score: 0.00584\n",
      "Feature: 129, Score: 0.00529\n",
      "Feature: 130, Score: 0.00493\n",
      "Feature: 131, Score: 0.00553\n",
      "Feature: 132, Score: 0.00680\n",
      "Feature: 133, Score: 0.00565\n",
      "Feature: 134, Score: 0.00484\n",
      "Feature: 135, Score: 0.00532\n",
      "Feature: 136, Score: 0.00553\n",
      "Feature: 137, Score: 0.00582\n",
      "Feature: 138, Score: 0.00651\n",
      "Feature: 139, Score: 0.00487\n",
      "Feature: 140, Score: 0.00590\n",
      "Feature: 141, Score: 0.00501\n",
      "Feature: 142, Score: 0.00466\n",
      "Feature: 143, Score: 0.00520\n",
      "Feature: 144, Score: 0.00371\n",
      "Feature: 145, Score: 0.00544\n",
      "Feature: 146, Score: 0.00536\n",
      "Feature: 147, Score: 0.00349\n",
      "Feature: 148, Score: 0.00556\n",
      "Feature: 149, Score: 0.00546\n",
      "Feature: 150, Score: 0.00380\n",
      "Feature: 151, Score: 0.00546\n",
      "Feature: 152, Score: 0.00634\n",
      "Feature: 153, Score: 0.00671\n",
      "Feature: 154, Score: 0.00642\n",
      "Feature: 155, Score: 0.00733\n",
      "Feature: 156, Score: 0.00616\n",
      "Feature: 157, Score: 0.00643\n",
      "Feature: 158, Score: 0.00633\n",
      "Feature: 159, Score: 0.00705\n",
      "Feature: 160, Score: 0.00797\n",
      "Feature: 161, Score: 0.00749\n",
      "Feature: 162, Score: 0.00763\n",
      "Feature: 163, Score: 0.00673\n",
      "Feature: 164, Score: 0.00684\n",
      "Feature: 165, Score: 0.00625\n",
      "Feature: 166, Score: 0.00748\n",
      "Feature: 167, Score: 0.00571\n",
      "Feature: 168, Score: 0.00551\n",
      "Feature: 169, Score: 0.00743\n",
      "Feature: 170, Score: 0.00654\n",
      "Feature: 171, Score: 0.00500\n",
      "Feature: 172, Score: 0.00712\n",
      "Feature: 173, Score: 0.00722\n",
      "Feature: 174, Score: 0.00656\n",
      "Feature: 175, Score: 0.00717\n",
      "Feature: 176, Score: 0.00562\n"
     ]
    },
    {
     "data": {
      "image/png": "[encoded data removed]",
      "text/plain": [
       "<Figure size 432x288 with 1 Axes>"
      ]
     },
     "metadata": {
      "needs_background": "light"
     },
     "output_type": "display_data"
    }
   ],
   "source": [
    "forest = RandomForestClassifier(random_state=0)\n",
    "forest.fit(X_train_bal_df,Y_train_bal_ser)\n",
    "\n",
    "importance = forest.feature_importances_\n",
    "\n",
    "#summarize feature importance\n",
    "for i,v in enumerate(importance):\n",
    "    print('Feature: %0d, Score: %.5f' % (i,v))\n",
    "\n",
    "#plot feature importance\n",
    "pyplot.bar([x for x in range(len(importance))], importance)\n",
    "pyplot.show()"
   ]
  },
  {
   "cell_type": "markdown",
   "metadata": {},
   "source": [
    "The feature importance is quite uniformly distributed."
   ]
  },
  {
   "cell_type": "markdown",
   "metadata": {},
   "source": [
    "### 2.2 Choosing features"
   ]
  },
  {
   "cell_type": "code",
   "execution_count": 36,
   "metadata": {},
   "outputs": [
    {
     "data": {
      "text/plain": [
       "Index(['Revenue Growth', 'SG&A Expense', 'Income Tax Expense', 'Net Income',\n",
       "       'Net Income Com', 'EPS', 'EPS Diluted', 'Weighted Average Shs Out',\n",
       "       'Weighted Average Shs Out (Dil)', 'EBITDA Margin',\n",
       "       'Consolidated Income', 'Earnings Before Tax Margin',\n",
       "       'Net Profit Margin', 'Cash and cash equivalents',\n",
       "       'Cash and short-term investments', 'Short-term debt',\n",
       "       'Total liabilities', 'Other comprehensive income',\n",
       "       'Retained earnings (deficit)', 'Other Liabilities',\n",
       "       'Investing Cash flow', 'Issuance (repayment) of debt',\n",
       "       'Issuance (buybacks) of shares', 'Financing Cash Flow',\n",
       "       'Net cash flow / Change in cash', 'Free Cash Flow',\n",
       "       'Net Cash/Marketcap', 'priceBookValueRatio', 'priceToSalesRatio',\n",
       "       'priceEarningsRatio', 'priceToOperatingCashFlowsRatio',\n",
       "       'priceSalesRatio', 'priceFairValue', 'returnOnEquity',\n",
       "       'fixedAssetTurnover', 'assetTurnover', 'currentRatio', 'quickRatio',\n",
       "       'cashRatio', 'cashFlowToDebtRatio', 'operatingCashFlowPerShare',\n",
       "       'freeCashFlowPerShare', 'cashPerShare', 'operatingCashFlowSalesRatio',\n",
       "       'capitalExpenditureCoverageRatios',\n",
       "       'dividendpaidAndCapexCoverageRatios', 'Revenue per Share',\n",
       "       'Net Income per Share', 'Free Cash Flow per Share',\n",
       "       'Book Value per Share', 'Shareholders Equity per Share',\n",
       "       'Interest Debt per Share', 'PE ratio', 'Price to Sales Ratio',\n",
       "       'POCF ratio', 'PB ratio', 'PTB ratio', 'EV to Operating cash flow',\n",
       "       'EV to Free cash flow', 'Earnings Yield', 'Free Cash Flow Yield',\n",
       "       'Income Quality', 'SG&A to Revenue', 'Capex to Revenue',\n",
       "       'Capex to Depreciation', 'ROIC', 'Working Capital',\n",
       "       'Net Current Asset Value', 'Capex per Share', 'Gross Profit Growth',\n",
       "       'EBIT Growth', 'Operating Income Growth', 'Net Income Growth',\n",
       "       'EPS Growth', 'EPS Diluted Growth', 'Weighted Average Shares Growth',\n",
       "       'Weighted Average Shares Diluted Growth', 'Operating Cash Flow growth',\n",
       "       'Free Cash Flow growth', '5Y Revenue Growth (per Share)',\n",
       "       '3Y Revenue Growth (per Share)', '5Y Operating CF Growth (per Share)',\n",
       "       '3Y Operating CF Growth (per Share)',\n",
       "       '3Y Shareholders Equity Growth (per Share)', 'Receivables growth',\n",
       "       'Asset Growth', 'Book Value per Share Growth', 'Debt Growth',\n",
       "       'SG&A Expenses Growth'],\n",
       "      dtype='object')"
      ]
     },
     "metadata": {},
     "output_type": "display_data"
    },
    {
     "data": {
      "text/plain": [
       "89"
      ]
     },
     "metadata": {},
     "output_type": "display_data"
    }
   ],
   "source": [
    "#feature selection\n",
    "\n",
    "sel = SelectFromModel(RandomForestClassifier(n_estimators = 100),threshold=\"median\")\n",
    "sel.fit(X_train_bal_df, Y_train_bal_ser)\n",
    "\n",
    "#which ones were selected?\n",
    "\n",
    "sel.get_support()\n",
    "\n",
    "#list of selected variables\n",
    "\n",
    "selected_feat= X_train_bal_df.columns[(sel.get_support())]\n",
    "\n",
    "display(selected_feat,len(selected_feat))"
   ]
  },
  {
   "cell_type": "markdown",
   "metadata": {},
   "source": [
    "The feature space was reduced from originally $p=176$ features to $p_{new}=89$ features using the median of the feature importances as the threshold."
   ]
  },
  {
   "cell_type": "markdown",
   "metadata": {},
   "source": [
    "### 2.3 Creating variables to work with reduced feature space"
   ]
  },
  {
   "cell_type": "code",
   "execution_count": 37,
   "metadata": {},
   "outputs": [],
   "source": [
    "#we only choose 89 features according to our feature selection\n",
    "\n",
    "X_train_bal_df_sel=X_train_bal_df[selected_feat]\n",
    "\n",
    "X_test_sel=X_test[selected_feat]"
   ]
  },
  {
   "cell_type": "markdown",
   "metadata": {},
   "source": [
    "We apply the feature reduction to the feature spaces $X_{train}$ and $X_{test}$."
   ]
  },
  {
   "cell_type": "markdown",
   "metadata": {},
   "source": [
    "# 5 Machine Learning Algorithms"
   ]
  },
  {
   "cell_type": "markdown",
   "metadata": {},
   "source": [
    "### 5.1 Logistic Regression\n",
    "\n"
   ]
  },
  {
   "cell_type": "markdown",
   "metadata": {},
   "source": [
    "We first want to use a simpler model to see how it performs so we have a frame of refences when implementing more complex models. "
   ]
  },
  {
   "cell_type": "markdown",
   "metadata": {},
   "source": [
    "#### 5.1.1 Function for the Logistic Regression"
   ]
  },
  {
   "cell_type": "code",
   "execution_count": 38,
   "metadata": {},
   "outputs": [],
   "source": [
    "def LOGIMODI(X_train, Y_train):\n",
    "    \n",
    "    \"\"\"\n",
    "    Implements a Logistic Regression\n",
    "    X_train: matrix of features of training set\n",
    "    Y_train: target variable of training set\n",
    "    \"\"\"\n",
    "    \n",
    "    logModel = LogisticRegression(max_iter=100, tol=0.1,random_state=1, n_jobs=-1,warm_start=True)\n",
    "    \n",
    "    pipe = Pipeline([('scaler', StandardScaler()), \n",
    "                     ('logreg', logModel)])\n",
    "    \n",
    "    param_grid = {'logreg__penalty': [\"elasticnet\"], \n",
    "              'logreg__C': [0.1], #[0,1000]\n",
    "              'logreg__solver': [\"saga\"], \n",
    "              'logreg__l1_ratio':[0]} # [0,1]\n",
    "    \n",
    "    #grid search to find best parameters\n",
    "    \n",
    "    grid = GridSearchCV(pipe,param_grid=param_grid, cv=5, n_jobs=-1)\n",
    "    grid = grid.fit(X_train,Y_train)\n",
    "    \n",
    "    return(grid)"
   ]
  },
  {
   "cell_type": "markdown",
   "metadata": {},
   "source": [
    "#### 5.1.2 Fitting the Logistic Regression and Predicting on the Test Set and Results"
   ]
  },
  {
   "cell_type": "code",
   "execution_count": 39,
   "metadata": {},
   "outputs": [
    {
     "name": "stdout",
     "output_type": "stream",
     "text": [
      "Best parameters: {'logreg__C': 0.1, 'logreg__l1_ratio': 0, 'logreg__penalty': 'elasticnet', 'logreg__solver': 'saga'}\n",
      "Best Crossvalidation accuracy: 0.36202276588611165\n",
      "Test score: 0.46711753731343286\n",
      "Predicted    0    1     2\n",
      "True                     \n",
      "0          442  238   747\n",
      "1           66   83    95\n",
      "2          804  335  1478\n"
     ]
    }
   ],
   "source": [
    "grid = LOGIMODI(X_train_bal_df_sel,Y_train_bal_ser)\n",
    "\n",
    "#getting the results\n",
    "\n",
    "print('Best parameters:', grid.best_params_) \n",
    "print('Best Crossvalidation accuracy:', grid.best_score_)\n",
    "print('Test score:', grid.score(X_test_sel,Y_test)) \n",
    "\n",
    "#predict on test set\n",
    "\n",
    "y_logimodi = grid.predict(X_test_sel)\n",
    "\n",
    "#confusion matrix\n",
    "\n",
    "confmat = pd.DataFrame({'Predicted': y_logimodi,\n",
    "                      'True': Y_test})\n",
    "print(confmat.groupby(['True','Predicted'], sort=True).size().unstack('Predicted'))"
   ]
  },
  {
   "cell_type": "markdown",
   "metadata": {},
   "source": [
    "### 5.2 Support Vector Machines "
   ]
  },
  {
   "cell_type": "markdown",
   "metadata": {},
   "source": [
    "### 5.2.1 Polynomial Kernel Function"
   ]
  },
  {
   "cell_type": "markdown",
   "metadata": {},
   "source": [
    "#### 5.2.1.1 Function for the Support Vector Machine with a Polynomial Kernel Function"
   ]
  },
  {
   "cell_type": "code",
   "execution_count": 41,
   "metadata": {},
   "outputs": [],
   "source": [
    "def SVM_polynomial(X_train,Y_train,parameters):\n",
    "    \n",
    "    \"\"\"\n",
    "    Implements a SVM using a polynomial kernel\n",
    "    X_train: matrix of features of training set\n",
    "    Y_train: target variable of training set\n",
    "    parameters: Grid of parameters\n",
    "    return: Cross-Validated optimal hyperparameter model fit\n",
    "    \"\"\"\n",
    "    \n",
    "    \n",
    "    # Create pipeline object with standard scaler and SVC estimator\n",
    "    \n",
    "    pipe = Pipeline([('scaler', StandardScaler()), \n",
    "                     ('svm_poly', SVC(kernel='poly', random_state=0, max_iter=100))])\n",
    "\n",
    "    # Run grid search\n",
    "    \n",
    "    grid = GridSearchCV(pipe, param_grid=parameters, cv=5, n_jobs=-1)\n",
    "    grid = grid.fit(X_train, Y_train)\n",
    "    return(grid)"
   ]
  },
  {
   "cell_type": "markdown",
   "metadata": {},
   "source": [
    "#### 5.2.1.2 Fitting the Support Vector Machine with a Polynomial Kernel Function and Predicting on the Test Set and Results"
   ]
  },
  {
   "cell_type": "code",
   "execution_count": 50,
   "metadata": {},
   "outputs": [
    {
     "name": "stdout",
     "output_type": "stream",
     "text": [
      "Best Crossvalidation accuracy: 0.3338\n",
      "Test score:       0.5606\n",
      "Best parameters: {'svm_poly__C': 1000, 'svm_poly__coef0': 0.01, 'svm_poly__degree': 3, 'svm_poly__gamma': 0.005}\n",
      "Polynomial Kernel Function yields the following confusion matrix:\n",
      "Predicted      0    1       2\n",
      "True                         \n",
      "0          134.0  1.0  1292.0\n",
      "1           28.0  1.0   215.0\n",
      "2          348.0  NaN  2269.0\n",
      "Out of 4288 observations 2404 were classified correctly.\n"
     ]
    },
    {
     "name": "stderr",
     "output_type": "stream",
     "text": [
      "C:\\Users\\Jan Beeler\\anaconda3\\lib\\site-packages\\sklearn\\svm\\_base.py:255: ConvergenceWarning: Solver terminated early (max_iter=100).  Consider pre-processing your data with StandardScaler or MinMaxScaler.\n",
      "  warnings.warn('Solver terminated early (max_iter=%i).'\n"
     ]
    }
   ],
   "source": [
    "parameters = {'svm_poly__C': [1000], #[1, 1500]\n",
    "              'svm_poly__degree': [3], #[2, 5]\n",
    "              'svm_poly__gamma': [0.005], #[0.001, 100]\n",
    "              'svm_poly__coef0':[0.01]} #[0.01, 1]\n",
    "#fit the model\n",
    "    \n",
    "poly = SVM_polynomial(X_train_bal_df_sel,Y_train_bal_ser, parameters)\n",
    "\n",
    "print('Best Crossvalidation accuracy: {:.4f}'.format(poly.best_score_))\n",
    "print('Test score:       {:.4f}'.format(poly.score(X_test_sel, Y_test)))\n",
    "print('Best parameters: {}'.format(poly.best_params_))\n",
    "\n",
    "#predict on test set\n",
    "\n",
    "y_pred_svm_poly = poly.predict(X_test_sel)\n",
    "\n",
    "# confusion matrix\n",
    "\n",
    "confmat = pd.DataFrame({'Predicted': y_pred_svm_poly,\n",
    "                      'True': Y_test})\n",
    "print('Polynomial Kernel Function yields the following confusion matrix:')\n",
    "print(confmat.groupby(['True','Predicted'], sort=True).size().unstack('Predicted'))\n",
    "\n",
    "\n",
    "#how many were classified correctly:\n",
    "\n",
    "correct = np.sum(Y_test == poly.predict(X_test_sel))\n",
    "print(f\"Out of {len(Y_test)} observations {correct} were classified correctly.\")"
   ]
  },
  {
   "cell_type": "markdown",
   "metadata": {},
   "source": [
    "#### 5.2.1.3 Performance ? (maybe do this for all?)"
   ]
  },
  {
   "cell_type": "code",
   "execution_count": 56,
   "metadata": {},
   "outputs": [],
   "source": [
    "def plot_confusion_matrix(cm, classes,\n",
    "                          normalize=False,\n",
    "                          title='Confusion matrix',\n",
    "                          cmap=plt.cm.Greys):\n",
    "    \"\"\"\n",
    "    This function prints and plots the confusion matrix.\n",
    "    \"\"\"\n",
    "    plt.imshow(cm, interpolation='nearest', cmap=cmap)\n",
    "    plt.title(title)\n",
    "    plt.colorbar()\n",
    "    tick_marks = np.arange(len(classes))\n",
    "    plt.xticks(tick_marks, classes, rotation=45)\n",
    "    plt.yticks(tick_marks, classes)\n",
    "\n",
    "    fmt = '.2f' if normalize else 'd'\n",
    "    thresh = cm.max() / 2.\n",
    "    for i, j in itertools.product(range(cm.shape[0]), range(cm.shape[1])):\n",
    "        plt.text(j, i, format(cm[i, j], fmt),\n",
    "                 horizontalalignment=\"center\",\n",
    "                 color=\"white\" if cm[i, j] > thresh else \"black\")\n",
    "\n",
    "    plt.tight_layout()\n",
    "    plt.ylabel('True label')\n",
    "    plt.xlabel('Predicted label')"
   ]
  },
  {
   "cell_type": "code",
   "execution_count": 59,
   "metadata": {},
   "outputs": [
    {
     "name": "stdout",
     "output_type": "stream",
     "text": [
      "SVM with Polynomial Function:\n",
      "              precision    recall  f1-score   support\n",
      "\n",
      "           0      0.263     0.094     0.138      1427\n",
      "           1      0.500     0.004     0.008       244\n",
      "           2      0.601     0.867     0.710      2617\n",
      "\n",
      "    accuracy                          0.561      4288\n",
      "   macro avg      0.455     0.322     0.285      4288\n",
      "weighted avg      0.483     0.561     0.480      4288\n",
      "\n"
     ]
    },
    {
     "data": {
      "image/png": "[encoded data removed]",
      "text/plain": [
       "<Figure size 640x480 with 2 Axes>"
      ]
     },
     "metadata": {},
     "output_type": "display_data"
    }
   ],
   "source": [
    "plt.style.use('default')\n",
    "print('SVM with Polynomial Function:')\n",
    "print(metrics.classification_report(Y_test, y_pred_svm_poly, digits=3))\n",
    "# Compute confusion matrix\n",
    "confm = confusion_matrix(Y_test, y_pred_svm_poly)\n",
    "np.set_printoptions(precision=2)\n",
    "\n",
    "# Plot non-normalized confusion matrix\n",
    "plt.figure()\n",
    "plot_confusion_matrix(confm, classes=['Buy', 'Hold', 'Sell'],\n",
    "                      title='SVM with Polynomial Function: Confusion matrix');"
   ]
  },
  {
   "cell_type": "markdown",
   "metadata": {},
   "source": [
    "### 5.2.2 Radial Basis Function"
   ]
  },
  {
   "cell_type": "markdown",
   "metadata": {},
   "source": [
    "#### 5.2.2.1 Function for the Support Vector Machine with a Radial Basis Function"
   ]
  },
  {
   "cell_type": "code",
   "execution_count": 61,
   "metadata": {},
   "outputs": [],
   "source": [
    "def SVM_rbf(X_train,Y_train,parameters):\n",
    "    \n",
    "    \"\"\"\n",
    "    Implements a SVM using a radial basis function\n",
    "    X_train: matrix of features of training set\n",
    "    Y_train: target variable of training set\n",
    "    parameters: Grid of parameters\n",
    "    return: Cross-Validated optimal hyperparameter model fit\n",
    "    \n",
    "    \"\"\"\n",
    "    \n",
    "    # Create pipeline object with standard scaler and SVC estimator\n",
    "    \n",
    "    pipe = Pipeline([('scaler', StandardScaler()), \n",
    "                     ('svm_rbf', SVC(kernel='rbf', random_state=0, max_iter=100))])\n",
    "    \n",
    "    # Run grid search\n",
    "    \n",
    "    grid = GridSearchCV(pipe, param_grid=parameters, cv=5, n_jobs=-1)\n",
    "    grid = grid.fit(X_train, Y_train)\n",
    "    return(grid)"
   ]
  },
  {
   "cell_type": "markdown",
   "metadata": {},
   "source": [
    "#### 5.2.2.2 Fitting the Support Vector Machine with a Radial Basis Function and Predicting on the Test Set and Results"
   ]
  },
  {
   "cell_type": "code",
   "execution_count": 62,
   "metadata": {},
   "outputs": [
    {
     "name": "stderr",
     "output_type": "stream",
     "text": [
      "C:\\Users\\Jan Beeler\\anaconda3\\lib\\site-packages\\sklearn\\svm\\_base.py:255: ConvergenceWarning: Solver terminated early (max_iter=100).  Consider pre-processing your data with StandardScaler or MinMaxScaler.\n",
      "  warnings.warn('Solver terminated early (max_iter=%i).'\n"
     ]
    },
    {
     "name": "stdout",
     "output_type": "stream",
     "text": [
      "Best Crossvalidated accuracy: 0.3324\n",
      "Test score:       0.5352\n",
      "Best parameters: {'svm_rbf__C': 5, 'svm_rbf__gamma': 0.001}\n",
      "Radial Basis Function Kernel yields the following confusion matrix:\n",
      "Predicted    0     2\n",
      "True                \n",
      "0          230  1197\n",
      "1           49   195\n",
      "2          552  2065\n",
      "Out of 4288 observations 2295 were classified correctly.\n"
     ]
    }
   ],
   "source": [
    "parameters = {'svm_rbf__C': [5], #[1, 1500]\n",
    "              'svm_rbf__gamma': [0.001]} #[0.01, 100]\n",
    "\n",
    "#fit the model\n",
    "\n",
    "rbf = SVM_rbf(X_train_bal_df_sel,Y_train_bal_ser,parameters)\n",
    "\n",
    "#results\n",
    "\n",
    "print('Best Crossvalidated accuracy: {:.4f}'.format(rbf.best_score_))\n",
    "print('Test score:       {:.4f}'.format(rbf.score(X_test_sel, Y_test)))\n",
    "print('Best parameters: {}'.format(rbf.best_params_))\n",
    "\n",
    "#prediction on test set\n",
    "\n",
    "y_pred_svm_rbf = rbf.predict(X_test_sel)\n",
    "\n",
    "# confusion matrix\n",
    "\n",
    "confm = pd.DataFrame({'Predicted': y_pred_svm_rbf,\n",
    "                      'True': Y_test})\n",
    "\n",
    "print('Radial Basis Function Kernel yields the following confusion matrix:')\n",
    "print(confm.groupby(['True','Predicted'], sort=True).size().unstack('Predicted'))\n",
    "\n",
    "#how many were classified correctly:\n",
    "\n",
    "correct = np.sum(Y_test == rbf.predict(X_test_sel))\n",
    "print(f\"Out of {len(Y_test)} observations {correct} were classified correctly.\")"
   ]
  },
  {
   "cell_type": "markdown",
   "metadata": {},
   "source": [
    "### 5.2.3 Sigmoid Function"
   ]
  },
  {
   "cell_type": "markdown",
   "metadata": {},
   "source": [
    "#### 5.2.3.1 Function for the Support Vector Machine with a Sigmoid Function"
   ]
  },
  {
   "cell_type": "code",
   "execution_count": 63,
   "metadata": {},
   "outputs": [],
   "source": [
    "def SVM_sig(X_train,Y_train,parameters):\n",
    "    \n",
    "    \"\"\"\n",
    "    Implements a SVM using a sigmoid function\n",
    "    X_train: matrix of features of training set\n",
    "    Y_train: target variable of training set\n",
    "    parameters: Grid of parameters\n",
    "    return: Cross-Validated optimal hyperparameter model fit\n",
    "    \"\"\"\n",
    "    \n",
    "    # Create pipeline with scaler and SCV estimator\n",
    "    \n",
    "    pipe = Pipeline([('scaler', StandardScaler()), \n",
    "                     ('svm_sig', SVC(kernel='sigmoid', random_state=0, max_iter=100))])\n",
    "\n",
    "    # Run grid search\n",
    "    \n",
    "    grid = GridSearchCV(pipe, param_grid=parameters, cv=5, n_jobs=-1) \n",
    "    grid = grid.fit(X_train, Y_train)\n",
    "    return(grid)"
   ]
  },
  {
   "cell_type": "markdown",
   "metadata": {},
   "source": [
    "#### 5.2.3.2 Fitting the Support Vector Machine with a Sigmoid Function and Predicting on the Test Set and Results"
   ]
  },
  {
   "cell_type": "code",
   "execution_count": 76,
   "metadata": {},
   "outputs": [
    {
     "name": "stderr",
     "output_type": "stream",
     "text": [
      "C:\\Users\\Jan Beeler\\anaconda3\\lib\\site-packages\\sklearn\\svm\\_base.py:255: ConvergenceWarning: Solver terminated early (max_iter=100).  Consider pre-processing your data with StandardScaler or MinMaxScaler.\n",
      "  warnings.warn('Solver terminated early (max_iter=%i).'\n"
     ]
    },
    {
     "name": "stdout",
     "output_type": "stream",
     "text": [
      "Best CV accuracy: 0.3331\n",
      "Test score:       0.5805\n",
      "Best parameters: {'svm_sig__C': 5, 'svm_sig__gamma': 0.05}\n",
      "2021-04-16 19:04:05.448449\n",
      "Sigmoid Function Kernel yields the following confusion matrix:\n",
      "Predicted    0   1     2\n",
      "True                    \n",
      "0          218  14  1195\n",
      "1           52   9   183\n",
      "2          334  21  2262\n",
      "Out of 4288 observations 2489 were classified correctly.\n"
     ]
    }
   ],
   "source": [
    "parameters = {'svm_sig__C': [5], #[1, 1500]\n",
    "              'svm_sig__gamma': [0.05]} #[0.01, 100]\n",
    "\n",
    "#fit the model\n",
    "\n",
    "sig = SVM_sig(X_train_bal_df_sel,Y_train_bal_ser,parameters)\n",
    "\n",
    "#results\n",
    "\n",
    "print('Best CV accuracy: {:.4f}'.format(sig.best_score_))\n",
    "print('Test score:       {:.4f}'.format(sig.score(X_test_sel, Y_test)))\n",
    "print('Best parameters: {}'.format(sig.best_params_))\n",
    "print(datetime.datetime.now())\n",
    "\n",
    "\n",
    "# Predict on test set\n",
    "\n",
    "y_pred_svm_sig = sig.predict(X_test_sel)\n",
    "\n",
    "# confusion matrix\n",
    "\n",
    "confm = pd.DataFrame({'Predicted': y_pred_svm_sig,\n",
    "                      'True': Y_test})\n",
    "print('Sigmoid Function Kernel yields the following confusion matrix:')\n",
    "print(confm.groupby(['True','Predicted'], sort=True).size().unstack('Predicted'))\n",
    "\n",
    "#how many were classified correctly:\n",
    "\n",
    "correct = np.sum(Y_test == sig.predict(X_test_sel))\n",
    "print(f\"Out of {len(Y_test)} observations {correct} were classified correctly.\")"
   ]
  },
  {
   "cell_type": "markdown",
   "metadata": {},
   "source": [
    "## 5.3 Random Forest"
   ]
  },
  {
   "cell_type": "markdown",
   "metadata": {},
   "source": [
    "#### 5.3.1 Function for the Random Forest"
   ]
  },
  {
   "cell_type": "code",
   "execution_count": 77,
   "metadata": {},
   "outputs": [],
   "source": [
    "def randomforest(X_train, Y_train, n_estimators, max_depth, min_samples_split, min_samples_leaf):\n",
    "   \n",
    "    \"\"\"\n",
    "    Implements a random forest \n",
    "    X_train: matrix of features of training set\n",
    "    Y_train: target variable of training set\n",
    "    n_estimators: number of trees\n",
    "    max_depth: maximal depth of trees\n",
    "    min_samples_split: at least min_samples_split samples split at each node\n",
    "    min_samples_leaf: at least min_samples_leaf at each leaf or terminal node\n",
    "    return: Cross-Validated optimal hyperparameter model fit\n",
    "    \"\"\"\n",
    "    \n",
    "    #specify the parameters that will be gone through\n",
    "    \n",
    "    parameters = {\"n_estimators\": n_estimators,\n",
    "                  'max_depth': max_depth,\n",
    "                  'min_samples_split': min_samples_split,\n",
    "                  'min_samples_leaf': min_samples_leaf},\n",
    "\n",
    "    #Run grid search\n",
    "    \n",
    "    grid = GridSearchCV(RandomForestClassifier(random_state=0),param_grid=parameters,\n",
    "                        scoring=\"accuracy\",cv= 5, n_jobs=-1)\n",
    "    \n",
    "    grid = grid.fit(X_train, Y_train)\n",
    "    return(grid)"
   ]
  },
  {
   "cell_type": "markdown",
   "metadata": {},
   "source": [
    "#### 5.3.2 Defining Parameters"
   ]
  },
  {
   "cell_type": "code",
   "execution_count": 78,
   "metadata": {},
   "outputs": [],
   "source": [
    "#number of trees\n",
    "n_estimators = [100,200] #500\n",
    "\n",
    "# maximal depth of trees\n",
    "max_depth = [100,200] #500\n",
    "\n",
    "# at least min_samples_split samples split at each node\n",
    "min_samples_split = np.array([3])\n",
    "\n",
    "# at least min_samples_leaf at each leaf or terminal node\n",
    "min_samples_leaf = np.array([1])"
   ]
  },
  {
   "cell_type": "markdown",
   "metadata": {},
   "source": [
    "#### 5.3.3 Fitting the Random Forest and Predicting on the Test Set and Results\n"
   ]
  },
  {
   "cell_type": "code",
   "execution_count": 79,
   "metadata": {},
   "outputs": [
    {
     "name": "stdout",
     "output_type": "stream",
     "text": [
      "Best CV accuracy: 0.8133\n",
      "Test score:       0.5774\n",
      "Best parameters: {'max_depth': 100, 'min_samples_leaf': 1, 'min_samples_split': 3, 'n_estimators': 200}\n",
      "Predicted    0  1     2\n",
      "True                   \n",
      "0          328  5  1094\n",
      "1           74  3   167\n",
      "2          466  6  2145\n",
      "Out of 4288 observations 2476 were classified correctly.\n"
     ]
    }
   ],
   "source": [
    "forest = randomforest(X_train_bal_df, Y_train_bal_ser, n_estimators, max_depth, min_samples_split, min_samples_leaf)\n",
    "\n",
    "print(\"Best CV accuracy: {:.4f}\".format(forest.best_score_))\n",
    "print(\"Test score:       {:.4f}\".format(forest.score(X_test,Y_test)))\n",
    "print(\"Best parameters: {}\".format(forest.best_params_))\n",
    "\n",
    "\n",
    "#predicting on the test set\n",
    "Y_pred_rf = forest.predict(X_test)\n",
    "\n",
    "# confusion matrix\n",
    "confmat = pd.DataFrame({\"Predicted\": Y_pred_rf,\"True\": Y_test})\n",
    "\n",
    "print(confmat.groupby([\"True\",\"Predicted\"], sort=True).size().unstack(\"Predicted\"))\n",
    "\n",
    "correct = np.sum(Y_test == forest.predict(X_test))\n",
    "print(f\"Out of {len(Y_test)} observations {correct} were classified correctly.\")"
   ]
  },
  {
   "cell_type": "markdown",
   "metadata": {},
   "source": [
    "## 5.4 Neural Network"
   ]
  },
  {
   "cell_type": "markdown",
   "metadata": {},
   "source": [
    "#### 5.4.1 Function for the Neural Network"
   ]
  },
  {
   "cell_type": "code",
   "execution_count": 80,
   "metadata": {},
   "outputs": [],
   "source": [
    "def neuralnet(X_train, Y_train, hidden_layer, maxIter):\n",
    "    \n",
    "    \"\"\"\n",
    "    Implements a random forest \n",
    "    X_train: matrix of features of training set\n",
    "    Y_train: target variable of training set\n",
    "    hidden_layer: number of hidden layers\n",
    "    maxIter: maximal number of iterations\n",
    "    return: Cross-Validated optimal hyperparameter model fit\n",
    "    \"\"\"\n",
    "   \n",
    "\n",
    "    mlp = MLPClassifier(random_state=0, solver= \"lbfgs\", warm_start= True)\n",
    "    \n",
    "    #make pipeline using scaler and MLP classifier\n",
    "    \n",
    "    pipe = Pipeline([('scaler', StandardScaler()), \n",
    "                     ('neural', MLPClassifier())])\n",
    "    \n",
    "    #Define the parameter-values\n",
    "    \n",
    "    param_grid = {\"neural__hidden_layer_sizes\" : hidden_layer,\n",
    "                  'neural__max_iter': maxIter},\n",
    "\n",
    "    #grid search\n",
    "    \n",
    "    grid = GridSearchCV(pipe,\n",
    "                  param_grid=param_grid,\n",
    "                  scoring='accuracy',\n",
    "                  cv= 5, n_jobs=-1)\n",
    "    grid = grid.fit(X_train, Y_train)\n",
    "    return(grid)"
   ]
  },
  {
   "cell_type": "markdown",
   "metadata": {},
   "source": [
    "#### 5.4.2 Defining Parameters"
   ]
  },
  {
   "cell_type": "code",
   "execution_count": 81,
   "metadata": {},
   "outputs": [],
   "source": [
    "hidden_lay = np.array([100])\n",
    "\n",
    "max_Iter = np.array([100])"
   ]
  },
  {
   "cell_type": "markdown",
   "metadata": {},
   "source": [
    "#### 5.4.2 Fitting the Neural Network and Predicting on the Test Set and Results"
   ]
  },
  {
   "cell_type": "code",
   "execution_count": 82,
   "metadata": {
    "scrolled": true
   },
   "outputs": [
    {
     "ename": "KeyboardInterrupt",
     "evalue": "",
     "output_type": "error",
     "traceback": [
      "\u001b[1;31m---------------------------------------------------------------------------\u001b[0m",
      "\u001b[1;31mKeyboardInterrupt\u001b[0m                         Traceback (most recent call last)",
      "\u001b[1;32m<ipython-input-82-53582e77eca8>\u001b[0m in \u001b[0;36m<module>\u001b[1;34m\u001b[0m\n\u001b[0;32m      1\u001b[0m \u001b[1;31m#fit the model\u001b[0m\u001b[1;33m\u001b[0m\u001b[1;33m\u001b[0m\u001b[1;33m\u001b[0m\u001b[0m\n\u001b[0;32m      2\u001b[0m \u001b[1;33m\u001b[0m\u001b[0m\n\u001b[1;32m----> 3\u001b[1;33m \u001b[0mmlp\u001b[0m \u001b[1;33m=\u001b[0m \u001b[0mneuralnet\u001b[0m\u001b[1;33m(\u001b[0m\u001b[0mX_train_bal_df_sel\u001b[0m\u001b[1;33m,\u001b[0m\u001b[0mY_train_bal_ser\u001b[0m\u001b[1;33m,\u001b[0m \u001b[0mhidden_lay\u001b[0m\u001b[1;33m,\u001b[0m \u001b[0mmax_Iter\u001b[0m\u001b[1;33m)\u001b[0m\u001b[1;33m\u001b[0m\u001b[1;33m\u001b[0m\u001b[0m\n\u001b[0m\u001b[0;32m      4\u001b[0m \u001b[1;33m\u001b[0m\u001b[0m\n\u001b[0;32m      5\u001b[0m \u001b[1;31m#results\u001b[0m\u001b[1;33m\u001b[0m\u001b[1;33m\u001b[0m\u001b[1;33m\u001b[0m\u001b[0m\n",
      "\u001b[1;32m<ipython-input-80-543b534a597d>\u001b[0m in \u001b[0;36mneuralnet\u001b[1;34m(X_train, Y_train, hidden_layer, maxIter)\u001b[0m\n\u001b[0;32m     29\u001b[0m                   \u001b[0mscoring\u001b[0m\u001b[1;33m=\u001b[0m\u001b[1;34m'accuracy'\u001b[0m\u001b[1;33m,\u001b[0m\u001b[1;33m\u001b[0m\u001b[1;33m\u001b[0m\u001b[0m\n\u001b[0;32m     30\u001b[0m                   cv= 5, n_jobs=-1)\n\u001b[1;32m---> 31\u001b[1;33m     \u001b[0mgrid\u001b[0m \u001b[1;33m=\u001b[0m \u001b[0mgrid\u001b[0m\u001b[1;33m.\u001b[0m\u001b[0mfit\u001b[0m\u001b[1;33m(\u001b[0m\u001b[0mX_train\u001b[0m\u001b[1;33m,\u001b[0m \u001b[0mY_train\u001b[0m\u001b[1;33m)\u001b[0m\u001b[1;33m\u001b[0m\u001b[1;33m\u001b[0m\u001b[0m\n\u001b[0m\u001b[0;32m     32\u001b[0m     \u001b[1;32mreturn\u001b[0m\u001b[1;33m(\u001b[0m\u001b[0mgrid\u001b[0m\u001b[1;33m)\u001b[0m\u001b[1;33m\u001b[0m\u001b[1;33m\u001b[0m\u001b[0m\n",
      "\u001b[1;32m~\\anaconda3\\lib\\site-packages\\sklearn\\utils\\validation.py\u001b[0m in \u001b[0;36minner_f\u001b[1;34m(*args, **kwargs)\u001b[0m\n\u001b[0;32m     61\u001b[0m             \u001b[0mextra_args\u001b[0m \u001b[1;33m=\u001b[0m \u001b[0mlen\u001b[0m\u001b[1;33m(\u001b[0m\u001b[0margs\u001b[0m\u001b[1;33m)\u001b[0m \u001b[1;33m-\u001b[0m \u001b[0mlen\u001b[0m\u001b[1;33m(\u001b[0m\u001b[0mall_args\u001b[0m\u001b[1;33m)\u001b[0m\u001b[1;33m\u001b[0m\u001b[1;33m\u001b[0m\u001b[0m\n\u001b[0;32m     62\u001b[0m             \u001b[1;32mif\u001b[0m \u001b[0mextra_args\u001b[0m \u001b[1;33m<=\u001b[0m \u001b[1;36m0\u001b[0m\u001b[1;33m:\u001b[0m\u001b[1;33m\u001b[0m\u001b[1;33m\u001b[0m\u001b[0m\n\u001b[1;32m---> 63\u001b[1;33m                 \u001b[1;32mreturn\u001b[0m \u001b[0mf\u001b[0m\u001b[1;33m(\u001b[0m\u001b[1;33m*\u001b[0m\u001b[0margs\u001b[0m\u001b[1;33m,\u001b[0m \u001b[1;33m**\u001b[0m\u001b[0mkwargs\u001b[0m\u001b[1;33m)\u001b[0m\u001b[1;33m\u001b[0m\u001b[1;33m\u001b[0m\u001b[0m\n\u001b[0m\u001b[0;32m     64\u001b[0m \u001b[1;33m\u001b[0m\u001b[0m\n\u001b[0;32m     65\u001b[0m             \u001b[1;31m# extra_args > 0\u001b[0m\u001b[1;33m\u001b[0m\u001b[1;33m\u001b[0m\u001b[1;33m\u001b[0m\u001b[0m\n",
      "\u001b[1;32m~\\anaconda3\\lib\\site-packages\\sklearn\\model_selection\\_search.py\u001b[0m in \u001b[0;36mfit\u001b[1;34m(self, X, y, groups, **fit_params)\u001b[0m\n\u001b[0;32m    839\u001b[0m                 \u001b[1;32mreturn\u001b[0m \u001b[0mresults\u001b[0m\u001b[1;33m\u001b[0m\u001b[1;33m\u001b[0m\u001b[0m\n\u001b[0;32m    840\u001b[0m \u001b[1;33m\u001b[0m\u001b[0m\n\u001b[1;32m--> 841\u001b[1;33m             \u001b[0mself\u001b[0m\u001b[1;33m.\u001b[0m\u001b[0m_run_search\u001b[0m\u001b[1;33m(\u001b[0m\u001b[0mevaluate_candidates\u001b[0m\u001b[1;33m)\u001b[0m\u001b[1;33m\u001b[0m\u001b[1;33m\u001b[0m\u001b[0m\n\u001b[0m\u001b[0;32m    842\u001b[0m \u001b[1;33m\u001b[0m\u001b[0m\n\u001b[0;32m    843\u001b[0m             \u001b[1;31m# multimetric is determined here because in the case of a callable\u001b[0m\u001b[1;33m\u001b[0m\u001b[1;33m\u001b[0m\u001b[1;33m\u001b[0m\u001b[0m\n",
      "\u001b[1;32m~\\anaconda3\\lib\\site-packages\\sklearn\\model_selection\\_search.py\u001b[0m in \u001b[0;36m_run_search\u001b[1;34m(self, evaluate_candidates)\u001b[0m\n\u001b[0;32m   1286\u001b[0m     \u001b[1;32mdef\u001b[0m \u001b[0m_run_search\u001b[0m\u001b[1;33m(\u001b[0m\u001b[0mself\u001b[0m\u001b[1;33m,\u001b[0m \u001b[0mevaluate_candidates\u001b[0m\u001b[1;33m)\u001b[0m\u001b[1;33m:\u001b[0m\u001b[1;33m\u001b[0m\u001b[1;33m\u001b[0m\u001b[0m\n\u001b[0;32m   1287\u001b[0m         \u001b[1;34m\"\"\"Search all candidates in param_grid\"\"\"\u001b[0m\u001b[1;33m\u001b[0m\u001b[1;33m\u001b[0m\u001b[0m\n\u001b[1;32m-> 1288\u001b[1;33m         \u001b[0mevaluate_candidates\u001b[0m\u001b[1;33m(\u001b[0m\u001b[0mParameterGrid\u001b[0m\u001b[1;33m(\u001b[0m\u001b[0mself\u001b[0m\u001b[1;33m.\u001b[0m\u001b[0mparam_grid\u001b[0m\u001b[1;33m)\u001b[0m\u001b[1;33m)\u001b[0m\u001b[1;33m\u001b[0m\u001b[1;33m\u001b[0m\u001b[0m\n\u001b[0m\u001b[0;32m   1289\u001b[0m \u001b[1;33m\u001b[0m\u001b[0m\n\u001b[0;32m   1290\u001b[0m \u001b[1;33m\u001b[0m\u001b[0m\n",
      "\u001b[1;32m~\\anaconda3\\lib\\site-packages\\sklearn\\model_selection\\_search.py\u001b[0m in \u001b[0;36mevaluate_candidates\u001b[1;34m(candidate_params, cv, more_results)\u001b[0m\n\u001b[0;32m    793\u001b[0m                               n_splits, n_candidates, n_candidates * n_splits))\n\u001b[0;32m    794\u001b[0m \u001b[1;33m\u001b[0m\u001b[0m\n\u001b[1;32m--> 795\u001b[1;33m                 out = parallel(delayed(_fit_and_score)(clone(base_estimator),\n\u001b[0m\u001b[0;32m    796\u001b[0m                                                        \u001b[0mX\u001b[0m\u001b[1;33m,\u001b[0m \u001b[0my\u001b[0m\u001b[1;33m,\u001b[0m\u001b[1;33m\u001b[0m\u001b[1;33m\u001b[0m\u001b[0m\n\u001b[0;32m    797\u001b[0m                                                        \u001b[0mtrain\u001b[0m\u001b[1;33m=\u001b[0m\u001b[0mtrain\u001b[0m\u001b[1;33m,\u001b[0m \u001b[0mtest\u001b[0m\u001b[1;33m=\u001b[0m\u001b[0mtest\u001b[0m\u001b[1;33m,\u001b[0m\u001b[1;33m\u001b[0m\u001b[1;33m\u001b[0m\u001b[0m\n",
      "\u001b[1;32m~\\anaconda3\\lib\\site-packages\\joblib\\parallel.py\u001b[0m in \u001b[0;36m__call__\u001b[1;34m(self, iterable)\u001b[0m\n\u001b[0;32m   1052\u001b[0m \u001b[1;33m\u001b[0m\u001b[0m\n\u001b[0;32m   1053\u001b[0m             \u001b[1;32mwith\u001b[0m \u001b[0mself\u001b[0m\u001b[1;33m.\u001b[0m\u001b[0m_backend\u001b[0m\u001b[1;33m.\u001b[0m\u001b[0mretrieval_context\u001b[0m\u001b[1;33m(\u001b[0m\u001b[1;33m)\u001b[0m\u001b[1;33m:\u001b[0m\u001b[1;33m\u001b[0m\u001b[1;33m\u001b[0m\u001b[0m\n\u001b[1;32m-> 1054\u001b[1;33m                 \u001b[0mself\u001b[0m\u001b[1;33m.\u001b[0m\u001b[0mretrieve\u001b[0m\u001b[1;33m(\u001b[0m\u001b[1;33m)\u001b[0m\u001b[1;33m\u001b[0m\u001b[1;33m\u001b[0m\u001b[0m\n\u001b[0m\u001b[0;32m   1055\u001b[0m             \u001b[1;31m# Make sure that we get a last message telling us we are done\u001b[0m\u001b[1;33m\u001b[0m\u001b[1;33m\u001b[0m\u001b[1;33m\u001b[0m\u001b[0m\n\u001b[0;32m   1056\u001b[0m             \u001b[0melapsed_time\u001b[0m \u001b[1;33m=\u001b[0m \u001b[0mtime\u001b[0m\u001b[1;33m.\u001b[0m\u001b[0mtime\u001b[0m\u001b[1;33m(\u001b[0m\u001b[1;33m)\u001b[0m \u001b[1;33m-\u001b[0m \u001b[0mself\u001b[0m\u001b[1;33m.\u001b[0m\u001b[0m_start_time\u001b[0m\u001b[1;33m\u001b[0m\u001b[1;33m\u001b[0m\u001b[0m\n",
      "\u001b[1;32m~\\anaconda3\\lib\\site-packages\\joblib\\parallel.py\u001b[0m in \u001b[0;36mretrieve\u001b[1;34m(self)\u001b[0m\n\u001b[0;32m    931\u001b[0m             \u001b[1;32mtry\u001b[0m\u001b[1;33m:\u001b[0m\u001b[1;33m\u001b[0m\u001b[1;33m\u001b[0m\u001b[0m\n\u001b[0;32m    932\u001b[0m                 \u001b[1;32mif\u001b[0m \u001b[0mgetattr\u001b[0m\u001b[1;33m(\u001b[0m\u001b[0mself\u001b[0m\u001b[1;33m.\u001b[0m\u001b[0m_backend\u001b[0m\u001b[1;33m,\u001b[0m \u001b[1;34m'supports_timeout'\u001b[0m\u001b[1;33m,\u001b[0m \u001b[1;32mFalse\u001b[0m\u001b[1;33m)\u001b[0m\u001b[1;33m:\u001b[0m\u001b[1;33m\u001b[0m\u001b[1;33m\u001b[0m\u001b[0m\n\u001b[1;32m--> 933\u001b[1;33m                     \u001b[0mself\u001b[0m\u001b[1;33m.\u001b[0m\u001b[0m_output\u001b[0m\u001b[1;33m.\u001b[0m\u001b[0mextend\u001b[0m\u001b[1;33m(\u001b[0m\u001b[0mjob\u001b[0m\u001b[1;33m.\u001b[0m\u001b[0mget\u001b[0m\u001b[1;33m(\u001b[0m\u001b[0mtimeout\u001b[0m\u001b[1;33m=\u001b[0m\u001b[0mself\u001b[0m\u001b[1;33m.\u001b[0m\u001b[0mtimeout\u001b[0m\u001b[1;33m)\u001b[0m\u001b[1;33m)\u001b[0m\u001b[1;33m\u001b[0m\u001b[1;33m\u001b[0m\u001b[0m\n\u001b[0m\u001b[0;32m    934\u001b[0m                 \u001b[1;32melse\u001b[0m\u001b[1;33m:\u001b[0m\u001b[1;33m\u001b[0m\u001b[1;33m\u001b[0m\u001b[0m\n\u001b[0;32m    935\u001b[0m                     \u001b[0mself\u001b[0m\u001b[1;33m.\u001b[0m\u001b[0m_output\u001b[0m\u001b[1;33m.\u001b[0m\u001b[0mextend\u001b[0m\u001b[1;33m(\u001b[0m\u001b[0mjob\u001b[0m\u001b[1;33m.\u001b[0m\u001b[0mget\u001b[0m\u001b[1;33m(\u001b[0m\u001b[1;33m)\u001b[0m\u001b[1;33m)\u001b[0m\u001b[1;33m\u001b[0m\u001b[1;33m\u001b[0m\u001b[0m\n",
      "\u001b[1;32m~\\anaconda3\\lib\\site-packages\\joblib\\_parallel_backends.py\u001b[0m in \u001b[0;36mwrap_future_result\u001b[1;34m(future, timeout)\u001b[0m\n\u001b[0;32m    540\u001b[0m         AsyncResults.get from multiprocessing.\"\"\"\n\u001b[0;32m    541\u001b[0m         \u001b[1;32mtry\u001b[0m\u001b[1;33m:\u001b[0m\u001b[1;33m\u001b[0m\u001b[1;33m\u001b[0m\u001b[0m\n\u001b[1;32m--> 542\u001b[1;33m             \u001b[1;32mreturn\u001b[0m \u001b[0mfuture\u001b[0m\u001b[1;33m.\u001b[0m\u001b[0mresult\u001b[0m\u001b[1;33m(\u001b[0m\u001b[0mtimeout\u001b[0m\u001b[1;33m=\u001b[0m\u001b[0mtimeout\u001b[0m\u001b[1;33m)\u001b[0m\u001b[1;33m\u001b[0m\u001b[1;33m\u001b[0m\u001b[0m\n\u001b[0m\u001b[0;32m    543\u001b[0m         \u001b[1;32mexcept\u001b[0m \u001b[0mCfTimeoutError\u001b[0m \u001b[1;32mas\u001b[0m \u001b[0me\u001b[0m\u001b[1;33m:\u001b[0m\u001b[1;33m\u001b[0m\u001b[1;33m\u001b[0m\u001b[0m\n\u001b[0;32m    544\u001b[0m             \u001b[1;32mraise\u001b[0m \u001b[0mTimeoutError\u001b[0m \u001b[1;32mfrom\u001b[0m \u001b[0me\u001b[0m\u001b[1;33m\u001b[0m\u001b[1;33m\u001b[0m\u001b[0m\n",
      "\u001b[1;32m~\\anaconda3\\lib\\concurrent\\futures\\_base.py\u001b[0m in \u001b[0;36mresult\u001b[1;34m(self, timeout)\u001b[0m\n\u001b[0;32m    432\u001b[0m                 \u001b[1;32mreturn\u001b[0m \u001b[0mself\u001b[0m\u001b[1;33m.\u001b[0m\u001b[0m__get_result\u001b[0m\u001b[1;33m(\u001b[0m\u001b[1;33m)\u001b[0m\u001b[1;33m\u001b[0m\u001b[1;33m\u001b[0m\u001b[0m\n\u001b[0;32m    433\u001b[0m \u001b[1;33m\u001b[0m\u001b[0m\n\u001b[1;32m--> 434\u001b[1;33m             \u001b[0mself\u001b[0m\u001b[1;33m.\u001b[0m\u001b[0m_condition\u001b[0m\u001b[1;33m.\u001b[0m\u001b[0mwait\u001b[0m\u001b[1;33m(\u001b[0m\u001b[0mtimeout\u001b[0m\u001b[1;33m)\u001b[0m\u001b[1;33m\u001b[0m\u001b[1;33m\u001b[0m\u001b[0m\n\u001b[0m\u001b[0;32m    435\u001b[0m \u001b[1;33m\u001b[0m\u001b[0m\n\u001b[0;32m    436\u001b[0m             \u001b[1;32mif\u001b[0m \u001b[0mself\u001b[0m\u001b[1;33m.\u001b[0m\u001b[0m_state\u001b[0m \u001b[1;32min\u001b[0m \u001b[1;33m[\u001b[0m\u001b[0mCANCELLED\u001b[0m\u001b[1;33m,\u001b[0m \u001b[0mCANCELLED_AND_NOTIFIED\u001b[0m\u001b[1;33m]\u001b[0m\u001b[1;33m:\u001b[0m\u001b[1;33m\u001b[0m\u001b[1;33m\u001b[0m\u001b[0m\n",
      "\u001b[1;32m~\\anaconda3\\lib\\threading.py\u001b[0m in \u001b[0;36mwait\u001b[1;34m(self, timeout)\u001b[0m\n\u001b[0;32m    300\u001b[0m         \u001b[1;32mtry\u001b[0m\u001b[1;33m:\u001b[0m    \u001b[1;31m# restore state no matter what (e.g., KeyboardInterrupt)\u001b[0m\u001b[1;33m\u001b[0m\u001b[1;33m\u001b[0m\u001b[0m\n\u001b[0;32m    301\u001b[0m             \u001b[1;32mif\u001b[0m \u001b[0mtimeout\u001b[0m \u001b[1;32mis\u001b[0m \u001b[1;32mNone\u001b[0m\u001b[1;33m:\u001b[0m\u001b[1;33m\u001b[0m\u001b[1;33m\u001b[0m\u001b[0m\n\u001b[1;32m--> 302\u001b[1;33m                 \u001b[0mwaiter\u001b[0m\u001b[1;33m.\u001b[0m\u001b[0macquire\u001b[0m\u001b[1;33m(\u001b[0m\u001b[1;33m)\u001b[0m\u001b[1;33m\u001b[0m\u001b[1;33m\u001b[0m\u001b[0m\n\u001b[0m\u001b[0;32m    303\u001b[0m                 \u001b[0mgotit\u001b[0m \u001b[1;33m=\u001b[0m \u001b[1;32mTrue\u001b[0m\u001b[1;33m\u001b[0m\u001b[1;33m\u001b[0m\u001b[0m\n\u001b[0;32m    304\u001b[0m             \u001b[1;32melse\u001b[0m\u001b[1;33m:\u001b[0m\u001b[1;33m\u001b[0m\u001b[1;33m\u001b[0m\u001b[0m\n",
      "\u001b[1;31mKeyboardInterrupt\u001b[0m: "
     ]
    }
   ],
   "source": [
    "#fit the model \n",
    "\n",
    "mlp = neuralnet(X_train_bal_df_sel,Y_train_bal_ser, hidden_lay, max_Iter)\n",
    "\n",
    "#results\n",
    "\n",
    "print('Best CV accuracy: {:.4f}'.format(mlp.best_score_))\n",
    "print('Test score:       {:.4f}'.format(mlp.score(X_test_sel,Y_test)))\n",
    "print('Best parameters: {}'.format(mlp.best_params_))\n",
    "\n",
    "# Predicting on test set\n",
    "\n",
    "Y_pred_nn = mlp.predict(X_test_sel)\n",
    "\n",
    "# confusion matrix\n",
    "\n",
    "confm = pd.DataFrame({'Predicted': Y_pred_nn,\n",
    "                      'True': Y_test})\n",
    "print(confm.groupby(['True','Predicted'], sort=True).size().unstack('Predicted'))\n",
    "\n",
    "#how many were classified correctly:\n",
    "\n",
    "correct = np.sum(Y_test == forest.predict(X_test_sel))\n",
    "print(f\"Out of {len(Y_test)} observations {correct} were classified correctly.\")"
   ]
  },
  {
   "cell_type": "markdown",
   "metadata": {},
   "source": [
    "# 4 Performance & Evaluation"
   ]
  },
  {
   "cell_type": "markdown",
   "metadata": {},
   "source": [
    "We further analyze performance measures for the Random Forest, which is our best algorithm. We check multiple performance measures to make sure that the performance is stable and not solely dependent on the accuarcy score. We checked all the performance measures for all the algorithmns in deciding which one we prefer but we settled on showing the results only for the best algorithm which is cleaner."
   ]
  },
  {
   "cell_type": "markdown",
   "metadata": {},
   "source": [
    "### 4.1 Accuracy Score"
   ]
  },
  {
   "cell_type": "code",
   "execution_count": null,
   "metadata": {},
   "outputs": [],
   "source": [
    "acc_score_rf=accuracy_score(Y_test,Y_pred_rf)\n",
    "acc_score_rf"
   ]
  },
  {
   "cell_type": "markdown",
   "metadata": {},
   "source": [
    "### 4.2 Confusion Matrix"
   ]
  },
  {
   "cell_type": "code",
   "execution_count": null,
   "metadata": {},
   "outputs": [],
   "source": [
    "confmat_rf=confusion_matrix(Y_test,Y_pred_rf)"
   ]
  },
  {
   "cell_type": "markdown",
   "metadata": {},
   "source": [
    "### 4.3 Precision, Recall and F1 Score"
   ]
  },
  {
   "cell_type": "code",
   "execution_count": null,
   "metadata": {},
   "outputs": [],
   "source": [
    "target_names=[\"buy\",\"hold\",\"sell\"]\n",
    "report_rf=classification_report(Y_test,Y_pred_rf,target_names=target_names)"
   ]
  },
  {
   "cell_type": "markdown",
   "metadata": {},
   "source": [
    "# 5 Final Investment Recommendation"
   ]
  },
  {
   "cell_type": "markdown",
   "metadata": {},
   "source": [
    "As the (Random Forest) gave us the best results, we decided to base our strategy for $2018$ on the Random Forest Classifier. As we want to know what we should do with the stocks, we want to get 3 dataframes containing the stocks belonging to each of the three strategies."
   ]
  },
  {
   "cell_type": "markdown",
   "metadata": {},
   "source": [
    "#### 5.1 Shares you should buy going into 2018"
   ]
  },
  {
   "cell_type": "code",
   "execution_count": null,
   "metadata": {},
   "outputs": [],
   "source": [
    "Y_pred=pd.DataFrame(Y_pred_rf,columns=[\"strategy\"],index=X_test.index)\n",
    "\n",
    "buy=Y_pred[Y_pred[\"strategy\"]==0]\n",
    "display(buy)"
   ]
  },
  {
   "cell_type": "markdown",
   "metadata": {},
   "source": [
    "#### 5.2 Shares you should hold going into 2018"
   ]
  },
  {
   "cell_type": "code",
   "execution_count": null,
   "metadata": {},
   "outputs": [],
   "source": [
    "hold=buy=Y_pred[Y_pred[\"strategy\"]==1]\n",
    "display(hold)"
   ]
  },
  {
   "cell_type": "markdown",
   "metadata": {},
   "source": [
    "#### 5.3 Shares you should sell going into 2018"
   ]
  },
  {
   "cell_type": "code",
   "execution_count": null,
   "metadata": {},
   "outputs": [],
   "source": [
    "sell=Y_pred[Y_pred[\"strategy\"]==2]\n",
    "display(sell)"
   ]
  },
  {
   "cell_type": "code",
   "execution_count": null,
   "metadata": {},
   "outputs": [],
   "source": []
  },
  {
   "cell_type": "code",
   "execution_count": null,
   "metadata": {},
   "outputs": [],
   "source": []
  }
 ],
 "metadata": {
  "kernelspec": {
   "display_name": "Python 3",
   "language": "python",
   "name": "python3"
  },
  "language_info": {
   "codemirror_mode": {
    "name": "ipython",
    "version": 3
   },
   "file_extension": ".py",
   "mimetype": "text/x-python",
   "name": "python",
   "nbconvert_exporter": "python",
   "pygments_lexer": "ipython3",
   "version": "3.8.5"
  }
 },
 "nbformat": 4,
 "nbformat_minor": 4
}
